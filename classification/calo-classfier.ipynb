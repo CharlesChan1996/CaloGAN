{
 "cells": [
  {
   "cell_type": "markdown",
   "metadata": {},
   "source": [
    "# Train a $\\pi^{+}$ vs. $e^{+}$ model using a deep neural network and a BDT"
   ]
  },
  {
   "cell_type": "code",
   "execution_count": 1,
   "metadata": {},
   "outputs": [],
   "source": [
    "%load_ext autoreload\n",
    "%autoreload 2\n",
    "%matplotlib inline"
   ]
  },
  {
   "cell_type": "code",
   "execution_count": 2,
   "metadata": {},
   "outputs": [
    {
     "name": "stderr",
     "output_type": "stream",
     "text": [
      "Using TensorFlow backend.\n"
     ]
    }
   ],
   "source": [
    "from functools import partial\n",
    "import h5py\n",
    "from keras.callbacks import EarlyStopping, ModelCheckpoint\n",
    "from keras.models import Model\n",
    "from keras.layers import (Dense, Reshape, Conv2D, LeakyReLU, BatchNormalization,\n",
    "                          LocallyConnected2D, Activation, ZeroPadding2D,\n",
    "                          Dropout, Lambda, Flatten, Input, AlphaDropout, add)\n",
    "\n",
    "from keras.layers.merge import concatenate, multiply\n",
    "import numpy as np\n",
    "\n",
    "from sklearn.model_selection import train_test_split\n",
    "from sklearn.utils import shuffle\n",
    "\n",
    "import matplotlib\n",
    "import matplotlib.pyplot as plt\n",
    "\n",
    "from sklearn.metrics import roc_curve, classification_report"
   ]
  },
  {
   "cell_type": "code",
   "execution_count": 3,
   "metadata": {
    "collapsed": true
   },
   "outputs": [],
   "source": [
    "from calodata.features import extract_features"
   ]
  },
  {
   "cell_type": "code",
   "execution_count": 4,
   "metadata": {
    "collapsed": true
   },
   "outputs": [],
   "source": [
    "def load_calodata(fpath):\n",
    "    with h5py.File(fpath, 'r') as h5:\n",
    "        data = [h5['layer_{}'.format(i)][:] for i in xrange(3)]\n",
    "    return data"
   ]
  },
  {
   "cell_type": "code",
   "execution_count": 5,
   "metadata": {
    "collapsed": true
   },
   "outputs": [],
   "source": [
    "def build_model(image, selu=True, bn=True):\n",
    "    x = Conv2D(64, (2, 2), padding='same')(image)\n",
    "    \n",
    "    x = BatchNormalization()(x)\n",
    "    x = Activation('relu')(x)\n",
    "    x = Dropout(0.5)(x)\n",
    "\n",
    "    x = ZeroPadding2D((1, 1))(image)\n",
    "    x = LocallyConnected2D(8 * 4, (3, 3), padding='valid', strides=(1, 2))(x)\n",
    "\n",
    "    x = BatchNormalization()(x)\n",
    "    x = Activation('relu')(x)\n",
    "    x = Dropout(0.5)(x)\n",
    "\n",
    "    x = ZeroPadding2D((1, 1))(x)\n",
    "    x = LocallyConnected2D(16 * 4, (2, 2), padding='valid')(x)\n",
    "\n",
    "    x = BatchNormalization()(x)\n",
    "    x = Activation('relu')(x)\n",
    "    x = Dropout(0.5)(x)\n",
    "\n",
    "    x = ZeroPadding2D((1, 1))(x)\n",
    "    x = LocallyConnected2D(32 * 4, (2, 2), padding='valid', strides=(1, 2))(x)\n",
    "\n",
    "    x = BatchNormalization()(x)\n",
    "    x = Activation('relu')(x)\n",
    "    x = Dropout(0.5)(x)\n",
    "\n",
    "    x = Flatten()(x)\n",
    "\n",
    "    return x"
   ]
  },
  {
   "cell_type": "code",
   "execution_count": 6,
   "metadata": {
    "collapsed": true
   },
   "outputs": [],
   "source": [
    "# CLASS_ONE = 'gamma'\n",
    "# CLASS_TWO = 'eplus'\n",
    "\n",
    "CLASS_ONE = 'piplus'\n",
    "CLASS_TWO = 'eplus'"
   ]
  },
  {
   "cell_type": "code",
   "execution_count": 7,
   "metadata": {
    "collapsed": true
   },
   "outputs": [],
   "source": [
    "concat = partial(np.concatenate, axis=0)"
   ]
  },
  {
   "cell_type": "code",
   "execution_count": 8,
   "metadata": {
    "collapsed": true
   },
   "outputs": [],
   "source": [
    "c1 = load_calodata('{}.hdf5'.format(CLASS_ONE))\n",
    "c2 = load_calodata('{}.hdf5'.format(CLASS_TWO))\n",
    "data = map(concat, zip(c1, c2))\n",
    "\n",
    "labels = np.array([1] * c1[0].shape[0] + [0] * c2[0].shape[0])"
   ]
  },
  {
   "cell_type": "code",
   "execution_count": 9,
   "metadata": {
    "collapsed": true
   },
   "outputs": [],
   "source": [
    "features = extract_features(data)"
   ]
  },
  {
   "cell_type": "code",
   "execution_count": 10,
   "metadata": {
    "collapsed": true
   },
   "outputs": [],
   "source": [
    "ix = np.array(range(len(labels)))\n",
    "np.random.shuffle(ix)\n",
    "\n",
    "nb_train = int(0.7 * len(ix))\n",
    "\n",
    "ix_train = ix[:nb_train]\n",
    "ix_test = ix[nb_train:]\n",
    "\n",
    "features_train = features[ix_train]\n",
    "data_train = [np.expand_dims(d[ix_train], -1) / 1000. for d in data]\n",
    "labels_train = labels[ix_train]\n",
    "\n",
    "features_test = features[ix_test]\n",
    "data_test = [np.expand_dims(d[ix_test], -1) / 1000. for d in data]\n",
    "labels_test = labels[ix_test]"
   ]
  },
  {
   "cell_type": "code",
   "execution_count": 11,
   "metadata": {
    "collapsed": true
   },
   "outputs": [],
   "source": [
    "raveled_train = np.concatenate([d.reshape(d.shape[0], -1) for d in data_train], axis=-1)\n",
    "raveled_test = np.concatenate([d.reshape(d.shape[0], -1) for d in data_test], axis=-1)"
   ]
  },
  {
   "cell_type": "markdown",
   "metadata": {},
   "source": [
    "# Train a DNN on the images themselves"
   ]
  },
  {
   "cell_type": "code",
   "execution_count": 12,
   "metadata": {
    "collapsed": true
   },
   "outputs": [],
   "source": [
    "shapes = [d.shape[1:] for d in data_train]\n",
    "\n",
    "x = [Input(shape=sh) for sh in shapes]\n",
    "\n",
    "# h = concatenate(map(partial(build_res_model), x))\n",
    "h = concatenate(map(partial(build_model), x))\n",
    "\n",
    "h = Dense(256)(h)\n",
    "h = Activation('relu')(h)\n",
    "h = Dropout(0.5)(h)\n",
    "\n",
    "y = Dense(1, activation='sigmoid')(h)\n",
    "\n",
    "image_dnn = Model(x, y)\n",
    "\n",
    "image_dnn.compile('adam', 'binary_crossentropy', metrics=['acc'])"
   ]
  },
  {
   "cell_type": "code",
   "execution_count": 13,
   "metadata": {},
   "outputs": [
    {
     "name": "stdout",
     "output_type": "stream",
     "text": [
      "____________________________________________________________________________________________________\n",
      "Layer (type)                     Output Shape          Param #     Connected to                     \n",
      "====================================================================================================\n",
      "input_1 (InputLayer)             (None, 3, 96, 1)      0                                            \n",
      "____________________________________________________________________________________________________\n",
      "input_2 (InputLayer)             (None, 12, 12, 1)     0                                            \n",
      "____________________________________________________________________________________________________\n",
      "input_3 (InputLayer)             (None, 12, 6, 1)      0                                            \n",
      "____________________________________________________________________________________________________\n",
      "zero_padding2d_1 (ZeroPadding2D) (None, 5, 98, 1)      0           input_1[0][0]                    \n",
      "____________________________________________________________________________________________________\n",
      "zero_padding2d_4 (ZeroPadding2D) (None, 14, 14, 1)     0           input_2[0][0]                    \n",
      "____________________________________________________________________________________________________\n",
      "zero_padding2d_7 (ZeroPadding2D) (None, 14, 8, 1)      0           input_3[0][0]                    \n",
      "____________________________________________________________________________________________________\n",
      "locally_connected2d_1 (LocallyCo (None, 3, 48, 32)     46080       zero_padding2d_1[0][0]           \n",
      "____________________________________________________________________________________________________\n",
      "locally_connected2d_4 (LocallyCo (None, 12, 6, 32)     23040       zero_padding2d_4[0][0]           \n",
      "____________________________________________________________________________________________________\n",
      "locally_connected2d_7 (LocallyCo (None, 12, 3, 32)     11520       zero_padding2d_7[0][0]           \n",
      "____________________________________________________________________________________________________\n",
      "batch_normalization_2 (BatchNorm (None, 3, 48, 32)     128         locally_connected2d_1[0][0]      \n",
      "____________________________________________________________________________________________________\n",
      "batch_normalization_6 (BatchNorm (None, 12, 6, 32)     128         locally_connected2d_4[0][0]      \n",
      "____________________________________________________________________________________________________\n",
      "batch_normalization_10 (BatchNor (None, 12, 3, 32)     128         locally_connected2d_7[0][0]      \n",
      "____________________________________________________________________________________________________\n",
      "activation_2 (Activation)        (None, 3, 48, 32)     0           batch_normalization_2[0][0]      \n",
      "____________________________________________________________________________________________________\n",
      "activation_6 (Activation)        (None, 12, 6, 32)     0           batch_normalization_6[0][0]      \n",
      "____________________________________________________________________________________________________\n",
      "activation_10 (Activation)       (None, 12, 3, 32)     0           batch_normalization_10[0][0]     \n",
      "____________________________________________________________________________________________________\n",
      "dropout_2 (Dropout)              (None, 3, 48, 32)     0           activation_2[0][0]               \n",
      "____________________________________________________________________________________________________\n",
      "dropout_6 (Dropout)              (None, 12, 6, 32)     0           activation_6[0][0]               \n",
      "____________________________________________________________________________________________________\n",
      "dropout_10 (Dropout)             (None, 12, 3, 32)     0           activation_10[0][0]              \n",
      "____________________________________________________________________________________________________\n",
      "zero_padding2d_2 (ZeroPadding2D) (None, 5, 50, 32)     0           dropout_2[0][0]                  \n",
      "____________________________________________________________________________________________________\n",
      "zero_padding2d_5 (ZeroPadding2D) (None, 14, 8, 32)     0           dropout_6[0][0]                  \n",
      "____________________________________________________________________________________________________\n",
      "zero_padding2d_8 (ZeroPadding2D) (None, 14, 5, 32)     0           dropout_10[0][0]                 \n",
      "____________________________________________________________________________________________________\n",
      "locally_connected2d_2 (LocallyCo (None, 4, 49, 64)     1618176     zero_padding2d_2[0][0]           \n",
      "____________________________________________________________________________________________________\n",
      "locally_connected2d_5 (LocallyCo (None, 13, 7, 64)     751296      zero_padding2d_5[0][0]           \n",
      "____________________________________________________________________________________________________\n",
      "locally_connected2d_8 (LocallyCo (None, 13, 4, 64)     429312      zero_padding2d_8[0][0]           \n",
      "____________________________________________________________________________________________________\n",
      "batch_normalization_3 (BatchNorm (None, 4, 49, 64)     256         locally_connected2d_2[0][0]      \n",
      "____________________________________________________________________________________________________\n",
      "batch_normalization_7 (BatchNorm (None, 13, 7, 64)     256         locally_connected2d_5[0][0]      \n",
      "____________________________________________________________________________________________________\n",
      "batch_normalization_11 (BatchNor (None, 13, 4, 64)     256         locally_connected2d_8[0][0]      \n",
      "____________________________________________________________________________________________________\n",
      "activation_3 (Activation)        (None, 4, 49, 64)     0           batch_normalization_3[0][0]      \n",
      "____________________________________________________________________________________________________\n",
      "activation_7 (Activation)        (None, 13, 7, 64)     0           batch_normalization_7[0][0]      \n",
      "____________________________________________________________________________________________________\n",
      "activation_11 (Activation)       (None, 13, 4, 64)     0           batch_normalization_11[0][0]     \n",
      "____________________________________________________________________________________________________\n",
      "dropout_3 (Dropout)              (None, 4, 49, 64)     0           activation_3[0][0]               \n",
      "____________________________________________________________________________________________________\n",
      "dropout_7 (Dropout)              (None, 13, 7, 64)     0           activation_7[0][0]               \n",
      "____________________________________________________________________________________________________\n",
      "dropout_11 (Dropout)             (None, 13, 4, 64)     0           activation_11[0][0]              \n",
      "____________________________________________________________________________________________________\n",
      "zero_padding2d_3 (ZeroPadding2D) (None, 6, 51, 64)     0           dropout_3[0][0]                  \n",
      "____________________________________________________________________________________________________\n",
      "zero_padding2d_6 (ZeroPadding2D) (None, 15, 9, 64)     0           dropout_7[0][0]                  \n",
      "____________________________________________________________________________________________________\n",
      "zero_padding2d_9 (ZeroPadding2D) (None, 15, 6, 64)     0           dropout_11[0][0]                 \n",
      "____________________________________________________________________________________________________\n",
      "locally_connected2d_3 (LocallyCo (None, 5, 25, 128)    4112000     zero_padding2d_3[0][0]           \n",
      "____________________________________________________________________________________________________\n",
      "locally_connected2d_6 (LocallyCo (None, 14, 4, 128)    1842176     zero_padding2d_6[0][0]           \n",
      "____________________________________________________________________________________________________\n",
      "locally_connected2d_9 (LocallyCo (None, 14, 3, 128)    1381632     zero_padding2d_9[0][0]           \n",
      "____________________________________________________________________________________________________\n",
      "batch_normalization_4 (BatchNorm (None, 5, 25, 128)    512         locally_connected2d_3[0][0]      \n",
      "____________________________________________________________________________________________________\n",
      "batch_normalization_8 (BatchNorm (None, 14, 4, 128)    512         locally_connected2d_6[0][0]      \n",
      "____________________________________________________________________________________________________\n",
      "batch_normalization_12 (BatchNor (None, 14, 3, 128)    512         locally_connected2d_9[0][0]      \n",
      "____________________________________________________________________________________________________\n",
      "activation_4 (Activation)        (None, 5, 25, 128)    0           batch_normalization_4[0][0]      \n",
      "____________________________________________________________________________________________________\n",
      "activation_8 (Activation)        (None, 14, 4, 128)    0           batch_normalization_8[0][0]      \n",
      "____________________________________________________________________________________________________\n",
      "activation_12 (Activation)       (None, 14, 3, 128)    0           batch_normalization_12[0][0]     \n",
      "____________________________________________________________________________________________________\n",
      "dropout_4 (Dropout)              (None, 5, 25, 128)    0           activation_4[0][0]               \n",
      "____________________________________________________________________________________________________\n",
      "dropout_8 (Dropout)              (None, 14, 4, 128)    0           activation_8[0][0]               \n",
      "____________________________________________________________________________________________________\n",
      "dropout_12 (Dropout)             (None, 14, 3, 128)    0           activation_12[0][0]              \n",
      "____________________________________________________________________________________________________\n",
      "flatten_1 (Flatten)              (None, 16000)         0           dropout_4[0][0]                  \n",
      "____________________________________________________________________________________________________\n",
      "flatten_2 (Flatten)              (None, 7168)          0           dropout_8[0][0]                  \n",
      "____________________________________________________________________________________________________\n",
      "flatten_3 (Flatten)              (None, 5376)          0           dropout_12[0][0]                 \n",
      "____________________________________________________________________________________________________\n",
      "concatenate_1 (Concatenate)      (None, 28544)         0           flatten_1[0][0]                  \n",
      "                                                                   flatten_2[0][0]                  \n",
      "                                                                   flatten_3[0][0]                  \n",
      "____________________________________________________________________________________________________\n",
      "dense_1 (Dense)                  (None, 256)           7307520     concatenate_1[0][0]              \n",
      "____________________________________________________________________________________________________\n",
      "activation_13 (Activation)       (None, 256)           0           dense_1[0][0]                    \n",
      "____________________________________________________________________________________________________\n",
      "dropout_13 (Dropout)             (None, 256)           0           activation_13[0][0]              \n",
      "____________________________________________________________________________________________________\n",
      "dense_2 (Dense)                  (None, 1)             257         dropout_13[0][0]                 \n",
      "====================================================================================================\n",
      "Total params: 17,525,697\n",
      "Trainable params: 17,524,353\n",
      "Non-trainable params: 1,344\n",
      "____________________________________________________________________________________________________\n"
     ]
    }
   ],
   "source": [
    "image_dnn.summary()"
   ]
  },
  {
   "cell_type": "code",
   "execution_count": 14,
   "metadata": {
    "collapsed": true
   },
   "outputs": [],
   "source": [
    "callbacks = [\n",
    "    EarlyStopping(verbose=True, patience=7, monitor='val_loss'),\n",
    "    ModelCheckpoint('{}vs{}-chkpt.h5'.format(CLASS_ONE, CLASS_TWO),\n",
    "                    monitor='val_loss', verbose=True, save_best_only=True),\n",
    "]"
   ]
  },
  {
   "cell_type": "code",
   "execution_count": null,
   "metadata": {},
   "outputs": [
    {
     "name": "stdout",
     "output_type": "stream",
     "text": [
      "Train on 98000 samples, validate on 42000 samples\n",
      "Epoch 1/100\n",
      "74880/98000 [=====================>........] - ETA: 17s - loss: 0.0603 - acc: 0.9850"
     ]
    }
   ],
   "source": [
    "try:\n",
    "    image_dnn.fit(data_train, labels_train, callbacks=callbacks, verbose=True,\n",
    "                  validation_split=0.3, batch_size=128, epochs=100)\n",
    "except KeyboardInterrupt:\n",
    "    print 'ending early'"
   ]
  },
  {
   "cell_type": "code",
   "execution_count": null,
   "metadata": {
    "collapsed": true
   },
   "outputs": [],
   "source": [
    "image_dnn.load_weights('{}vs{}-chkpt.h5'.format(CLASS_ONE, CLASS_TWO))\n",
    "image_dnn.save_weights('{}vs{}-final.h5'.format(CLASS_ONE, CLASS_TWO))"
   ]
  },
  {
   "cell_type": "code",
   "execution_count": null,
   "metadata": {
    "collapsed": true
   },
   "outputs": [],
   "source": [
    "image_dnn.load_weights('{}vs{}-final.h5'.format(CLASS_ONE, CLASS_TWO))"
   ]
  },
  {
   "cell_type": "code",
   "execution_count": null,
   "metadata": {
    "collapsed": true
   },
   "outputs": [],
   "source": [
    "with h5py.File('{}vs{}-split-indices.h5'.format(CLASS_ONE, CLASS_TWO), 'w') as h5:\n",
    "    h5['train'] = ix_train\n",
    "    h5['test'] = ix_test"
   ]
  },
  {
   "cell_type": "code",
   "execution_count": null,
   "metadata": {
    "collapsed": true
   },
   "outputs": [],
   "source": [
    "yhat_image_dnn = image_dnn.predict(data_test, verbose=True).ravel()"
   ]
  },
  {
   "cell_type": "markdown",
   "metadata": {},
   "source": [
    "# Train a DNN on shower shapes"
   ]
  },
  {
   "cell_type": "code",
   "execution_count": null,
   "metadata": {
    "collapsed": true
   },
   "outputs": [],
   "source": [
    "def build_feature_dnn(x):\n",
    "\n",
    "    h = Dense(256)(x)\n",
    "    h = Dropout(0.2)(LeakyReLU()(h))\n",
    "    h = BatchNormalization()(h)\n",
    "\n",
    "    h = Dense(256)(h)\n",
    "    h = Dropout(0.5)(LeakyReLU()(h))\n",
    "    h = BatchNormalization()(h)\n",
    "\n",
    "    h = Dense(256)(h)\n",
    "    h = Dropout(0.5)(LeakyReLU()(h))\n",
    "    h = BatchNormalization()(h)\n",
    "    \n",
    "    h = Dense(256)(h)\n",
    "    h = Dropout(0.5)(LeakyReLU()(h))\n",
    "    h = BatchNormalization()(h)\n",
    "\n",
    "    h = Dense(32)(h)\n",
    "    h = Dropout(0.5)(LeakyReLU()(h))\n",
    "\n",
    "    h = Dense(1)(h)\n",
    "    y = Activation('sigmoid')(h)\n",
    "    \n",
    "\n",
    "    return y"
   ]
  },
  {
   "cell_type": "code",
   "execution_count": null,
   "metadata": {
    "collapsed": true
   },
   "outputs": [],
   "source": [
    "x = Input(shape=(features_train.shape[1], ))\n",
    "feature_dnn = Model(x, build_feature_dnn(x))\n",
    "feature_dnn.compile('adam', 'binary_crossentropy', metrics=['acc'])"
   ]
  },
  {
   "cell_type": "code",
   "execution_count": null,
   "metadata": {
    "collapsed": true
   },
   "outputs": [],
   "source": [
    "callbacks = [\n",
    "    EarlyStopping(verbose=True, patience=7, monitor='val_loss'),\n",
    "    ModelCheckpoint('{}vs{}-features-chkpt.h5'.format(CLASS_ONE, CLASS_TWO),\n",
    "                    monitor='val_loss', verbose=True, save_best_only=True),\n",
    "]"
   ]
  },
  {
   "cell_type": "code",
   "execution_count": null,
   "metadata": {
    "collapsed": true
   },
   "outputs": [],
   "source": [
    "try:\n",
    "    feature_dnn.fit(features_train / features_train.max(axis=0)[np.newaxis, :], labels_train, callbacks=callbacks, verbose=True,\n",
    "                  validation_split=0.3, batch_size=128, epochs=100)\n",
    "except KeyboardInterrupt:\n",
    "    print 'ending early'"
   ]
  },
  {
   "cell_type": "code",
   "execution_count": null,
   "metadata": {
    "collapsed": true
   },
   "outputs": [],
   "source": [
    "feature_dnn.load_weights('{}vs{}-features-chkpt.h5'.format(CLASS_ONE, CLASS_TWO))\n",
    "feature_dnn.save_weights('{}vs{}-features-final.h5'.format(CLASS_ONE, CLASS_TWO))"
   ]
  },
  {
   "cell_type": "code",
   "execution_count": null,
   "metadata": {
    "collapsed": true
   },
   "outputs": [],
   "source": [
    "feature_dnn.load_weights('{}vs{}-features-final.h5'.format(CLASS_ONE, CLASS_TWO))"
   ]
  },
  {
   "cell_type": "code",
   "execution_count": null,
   "metadata": {
    "collapsed": true
   },
   "outputs": [],
   "source": [
    "yhat_feature_dnn = feature_dnn.predict(features_test / features_test.max(axis=0)[np.newaxis, :], verbose=True).ravel()"
   ]
  },
  {
   "cell_type": "markdown",
   "metadata": {
    "collapsed": true
   },
   "source": [
    "# Train a BDT"
   ]
  },
  {
   "cell_type": "code",
   "execution_count": null,
   "metadata": {
    "collapsed": true
   },
   "outputs": [],
   "source": [
    "from sklearn.ensemble import GradientBoostingClassifier\n",
    "from sklearn.model_selection import GridSearchCV"
   ]
  },
  {
   "cell_type": "code",
   "execution_count": null,
   "metadata": {
    "collapsed": true
   },
   "outputs": [],
   "source": [
    "base_clf = GradientBoostingClassifier(verbose=2)\n",
    "parameters = {\n",
    "    'n_estimators':[100, 200, 300],\n",
    "    'max_depth':[3, 5]\n",
    "}"
   ]
  },
  {
   "cell_type": "code",
   "execution_count": null,
   "metadata": {
    "collapsed": true
   },
   "outputs": [],
   "source": [
    "clf.best_params_"
   ]
  },
  {
   "cell_type": "code",
   "execution_count": null,
   "metadata": {
    "collapsed": true
   },
   "outputs": [],
   "source": [
    "clf = GridSearchCV(base_clf, parameters, n_jobs=7)"
   ]
  },
  {
   "cell_type": "code",
   "execution_count": null,
   "metadata": {
    "collapsed": true
   },
   "outputs": [],
   "source": [
    "clf.fit(features_train, labels_train)"
   ]
  },
  {
   "cell_type": "code",
   "execution_count": null,
   "metadata": {
    "collapsed": true
   },
   "outputs": [],
   "source": [
    "yhat_feature_bdt = clf.predict_proba(features_test)[:, 1].ravel()\n"
   ]
  },
  {
   "cell_type": "markdown",
   "metadata": {},
   "source": [
    "# build simple DNN on pix"
   ]
  },
  {
   "cell_type": "code",
   "execution_count": null,
   "metadata": {
    "collapsed": true
   },
   "outputs": [],
   "source": [
    "def build_simple_dnn(x):\n",
    "\n",
    "    h = Dense(512)(x)\n",
    "    h = Dropout(0.2)(LeakyReLU()(h))\n",
    "    h = BatchNormalization()(h)\n",
    "\n",
    "    h = Dense(512)(h)\n",
    "    h = Dropout(0.5)(LeakyReLU()(h))\n",
    "    h = BatchNormalization()(h)\n",
    "\n",
    "    h = Dense(256)(h)\n",
    "    h = Dropout(0.5)(LeakyReLU()(h))\n",
    "    h = BatchNormalization()(h)\n",
    "    \n",
    "    h = Dense(256)(h)\n",
    "    h = Dropout(0.5)(LeakyReLU()(h))\n",
    "    h = BatchNormalization()(h)\n",
    "\n",
    "    h = Dense(32)(h)\n",
    "    h = Dropout(0.5)(LeakyReLU()(h))\n",
    "\n",
    "    h = Dense(1)(h)\n",
    "    y = Activation('sigmoid')(h)\n",
    "    \n",
    "\n",
    "    return y"
   ]
  },
  {
   "cell_type": "code",
   "execution_count": null,
   "metadata": {
    "collapsed": true
   },
   "outputs": [],
   "source": [
    "x = Input(shape=(raveled_train.shape[1], ))\n",
    "raveled_dnn = Model(x, build_simple_dnn(x))\n",
    "raveled_dnn.compile('adam', 'binary_crossentropy', metrics=['acc'])"
   ]
  },
  {
   "cell_type": "code",
   "execution_count": null,
   "metadata": {
    "collapsed": true
   },
   "outputs": [],
   "source": [
    "callbacks = [\n",
    "    EarlyStopping(verbose=True, patience=7, monitor='val_loss'),\n",
    "    ModelCheckpoint('{}vs{}-raveled-chkpt.h5'.format(CLASS_ONE, CLASS_TWO),\n",
    "                    monitor='val_loss', verbose=True, save_best_only=True),\n",
    "]"
   ]
  },
  {
   "cell_type": "code",
   "execution_count": null,
   "metadata": {
    "collapsed": true
   },
   "outputs": [],
   "source": [
    "try:\n",
    "    raveled_dnn.fit(raveled_train, labels_train, callbacks=callbacks, verbose=True,\n",
    "                          validation_split=0.3, batch_size=128, epochs=100)\n",
    "except KeyboardInterrupt:\n",
    "    print 'ending early'"
   ]
  },
  {
   "cell_type": "code",
   "execution_count": null,
   "metadata": {
    "collapsed": true
   },
   "outputs": [],
   "source": [
    "raveled_dnn.load_weights('{}vs{}-raveled-chkpt.h5'.format(CLASS_ONE, CLASS_TWO))\n",
    "raveled_dnn.save_weights('{}vs{}-raveled-final.h5'.format(CLASS_ONE, CLASS_TWO))"
   ]
  },
  {
   "cell_type": "code",
   "execution_count": null,
   "metadata": {
    "collapsed": true
   },
   "outputs": [],
   "source": [
    "raveled_dnn.load_weights('{}vs{}-raveled-final.h5'.format(CLASS_ONE, CLASS_TWO))"
   ]
  },
  {
   "cell_type": "code",
   "execution_count": null,
   "metadata": {
    "collapsed": true
   },
   "outputs": [],
   "source": [
    "yhat_raveled_dnn = raveled_dnn.predict(raveled_test, verbose=True).ravel()"
   ]
  },
  {
   "cell_type": "code",
   "execution_count": null,
   "metadata": {
    "collapsed": true
   },
   "outputs": [],
   "source": []
  },
  {
   "cell_type": "code",
   "execution_count": null,
   "metadata": {
    "collapsed": true
   },
   "outputs": [],
   "source": []
  },
  {
   "cell_type": "code",
   "execution_count": null,
   "metadata": {
    "collapsed": true
   },
   "outputs": [],
   "source": [
    "yhat_image_dnn.max()"
   ]
  },
  {
   "cell_type": "code",
   "execution_count": null,
   "metadata": {
    "collapsed": true
   },
   "outputs": [],
   "source": [
    "plt.figure(figsize=(10, 10))\n",
    "bins = np.linspace(0, 1, 100)\n",
    "plt.hist(yhat_image_dnn[labels_test == 1], histtype='step', bins=bins, label=r'$\\pi^{+}$, Image DNN')\n",
    "plt.hist(yhat_image_dnn[labels_test == 0], histtype='step', bins=bins, label=r'$e^{+}$, Image DNN')\n",
    "plt.hist(yhat_feature_dnn[labels_test == 1], histtype='step', bins=bins, label=r'$\\pi^{+}$, Feature DNN')\n",
    "plt.hist(yhat_feature_dnn[labels_test == 0], histtype='step', bins=bins, label=r'$e^{+}$, Feature DNN')\n",
    "plt.legend(loc='upper right')\n",
    "plt.yscale('log')\n",
    "# plt.xlim((0.99999, 1))\n",
    "# plt.xscale('log')\n",
    "plt.xlabel(r'$\\mathbb{P}[\\pi^{+}]$')"
   ]
  },
  {
   "cell_type": "code",
   "execution_count": null,
   "metadata": {
    "collapsed": true
   },
   "outputs": [],
   "source": [
    "fpr_image_dnn, tpr_image_dnn, _ = roc_curve(labels_test, yhat_image_dnn)\n",
    "fpr_raveled_dnn, tpr_raveled_dnn, _ = roc_curve(labels_test, yhat_raveled_dnn)\n",
    "fpr_feature_dnn, tpr_feature_dnn, _ = roc_curve(labels_test, yhat_feature_dnn)\n",
    "fpr_feature_bdt, tpr_feature_bdt, _ = roc_curve(labels_test, yhat_feature_bdt)"
   ]
  },
  {
   "cell_type": "code",
   "execution_count": null,
   "metadata": {
    "collapsed": true
   },
   "outputs": [],
   "source": [
    "with h5py.File('{}-vs-{}-outputs.h5'.format(CLASS_ONE, CLASS_TWO), 'w') as h5:\n",
    "    h5['y'] = labels_test\n",
    "    h5['nn_image'] = yhat_image_dnn\n",
    "    h5['nn_raveled'] = yhat_raveled_dnn\n",
    "    h5['nn_showershapes'] = yhat_feature_dnn\n",
    "    h5['bdt_showershapes'] = yhat_feature_bdt"
   ]
  },
  {
   "cell_type": "code",
   "execution_count": null,
   "metadata": {
    "collapsed": true
   },
   "outputs": [],
   "source": [
    "slices = np.linspace(0, 1, 10000000)"
   ]
  },
  {
   "cell_type": "code",
   "execution_count": null,
   "metadata": {
    "collapsed": true
   },
   "outputs": [],
   "source": [
    "tpr, _ = np.histogram(yhat[labels_test == 1], bins=slices)\n",
    "fpr, _ = np.histogram(yhat[labels_test == 0], bins=slices)"
   ]
  },
  {
   "cell_type": "code",
   "execution_count": null,
   "metadata": {
    "collapsed": true
   },
   "outputs": [],
   "source": [
    "tpr = np.cumsum(tpr[::-1])[::-1]\n",
    "fpr = np.cumsum(fpr[::-1])[::-1]"
   ]
  },
  {
   "cell_type": "code",
   "execution_count": null,
   "metadata": {
    "collapsed": true
   },
   "outputs": [],
   "source": [
    "(tpr / float(tpr[0])).min()"
   ]
  },
  {
   "cell_type": "code",
   "execution_count": null,
   "metadata": {
    "collapsed": true
   },
   "outputs": [],
   "source": [
    "tpr"
   ]
  },
  {
   "cell_type": "code",
   "execution_count": null,
   "metadata": {
    "collapsed": true
   },
   "outputs": [],
   "source": [
    "plt.figure(figsize=(10, 10))\n",
    "plt.plot(tpr_image_dnn, 1 / fpr_image_dnn, label='DNN on Calorimeter Hits')\n",
    "plt.plot(tpr_feature_dnn, 1 / fpr_feature_dnn, label='DNN on Shower Shapes')\n",
    "plt.yscale('log')\n",
    "plt.grid('on', 'both')\n",
    "# plt.xlim((0.9, 1))\n",
    "plt.xlabel('{} Efficiency'.format(CLASS_ONE))\n",
    "plt.ylabel('{} Background Rejection'.format(CLASS_TWO))\n",
    "plt.legend(fontsize=20, loc='lower left')"
   ]
  },
  {
   "cell_type": "code",
   "execution_count": null,
   "metadata": {
    "collapsed": true
   },
   "outputs": [],
   "source": [
    "plt.figure(figsize=(10, 10))\n",
    "plt.plot(tpr_image_dnn, fpr_image_dnn, label='Deep NN on Calorimeter Hits')\n",
    "plt.plot(tpr_raveled_dnn, fpr_raveled_dnn, label='FCNN on Calorimeter Hits')\n",
    "plt.plot(tpr_feature_dnn, fpr_feature_dnn, label='DNN on Shower Shapes')\n",
    "plt.plot(tpr_feature_bdt, fpr_feature_bdt, label='BDT on Shower Shapes')\n",
    "# plt.plot(tpr_raveled_dnn, fpr_raveled_dnn, label='Simple DNN on Calorimeter Hits')\n",
    "plt.yscale('log')\n",
    "plt.grid('on', 'both')\n",
    "plt.xlim((0.95, 1))\n",
    "plt.xlabel('{} Efficiency'.format(CLASS_ONE))\n",
    "plt.ylabel('{} Background Efficienct'.format(CLASS_TWO))\n",
    "plt.legend(fontsize=20, loc='upper left')"
   ]
  },
  {
   "cell_type": "code",
   "execution_count": null,
   "metadata": {
    "collapsed": true
   },
   "outputs": [],
   "source": [
    "from scipy import interpolate\n",
    "from matplotlib import gridspec\n"
   ]
  },
  {
   "cell_type": "code",
   "execution_count": null,
   "metadata": {
    "collapsed": true
   },
   "outputs": [],
   "source": [
    "def uix(a):\n",
    "    return np.unique(a, return_index=True)[1]"
   ]
  },
  {
   "cell_type": "code",
   "execution_count": null,
   "metadata": {
    "collapsed": true
   },
   "outputs": [],
   "source": [
    "eff_interp = np.linspace(0.05, 1, 100)\n",
    "# interp_image_dnn = np.interp(eff_interp, tpr_image_dnn, fpr_image_dnn)\n",
    "# interp_feature_dnn = np.interp(eff_interp, tpr_feature_dnn, fpr_feature_dnn)\n",
    "# interp_raveled_dnn = np.interp(eff_interp, tpr_raveled_dnn, fpr_raveled_dnn)\n",
    "\n",
    "interp_image_dnn = interpolate.interp1d(tpr_image_dnn[uix(tpr_image_dnn)], fpr_image_dnn[uix(tpr_image_dnn)], kind='cubic')(eff_interp)\n",
    "interp_feature_dnn = interpolate.interp1d(tpr_feature_dnn[uix(tpr_feature_dnn)], fpr_feature_dnn[uix(tpr_feature_dnn)], kind='cubic')(eff_interp)\n",
    "# interp_raveled_dnn = interpolate.interp1d(tpr_raveled_dnn[uix(tpr_raveled_dnn)], fpr_raveled_dnn[uix(tpr_raveled_dnn)], kind='cubic')(eff_interp)\n",
    "\n",
    "kern_size = 20\n",
    "kern = [1 / float(kern_size)] * kern_size\n",
    "interp_image_dnn = np.convolve(interp_image_dnn, kern, mode='same')\n",
    "interp_feature_dnn = np.convolve(interp_feature_dnn, kern, mode='same')\n",
    "# interp_raveled_dnn = np.convolve(interp_raveled_dnn, kern, mode='same')"
   ]
  },
  {
   "cell_type": "code",
   "execution_count": null,
   "metadata": {
    "collapsed": true
   },
   "outputs": [],
   "source": [
    "plt.figure(figsize=(7, 10))\n",
    "gs = gridspec.GridSpec(2, 1, height_ratios=[1, 2]) \n",
    "ax = plt.subplot(gs[0])\n",
    "plt.plot(tpr_image_dnn, fpr_image_dnn, label='ResNet on Calorimeter Hits')\n",
    "plt.plot(tpr_feature_dnn, fpr_feature_dnn, label='DNN on Shower Shapes')\n",
    "# plt.plot(tpr_raveled_dnn, fpr_raveled_dnn, label='Simple DNN on Calorimeter Hits')\n",
    "plt.yscale('log')\n",
    "plt.grid('on', 'both')\n",
    "plt.xlim((0, 1))\n",
    "plt.xlabel(r'$\\pi^{+}$ efficiency')\n",
    "plt.ylabel(r'$e^{+}$ efficiency')\n",
    "plt.legend(loc='upper left')\n",
    "\n",
    "plt.subplot(gs[1], sharex=ax)\n",
    "plt.plot(eff_interp, interp_feature_dnn / interp_image_dnn, label='ResNet on Calorimeter Hits')\n",
    "plt.plot(eff_interp, interp_feature_dnn / interp_feature_dnn, label='DNN on Shower Shapes')\n",
    "# plt.plot(eff_interp, interp_feature_dnn / interp_raveled_dnn, label='Simple DNN on Calorimeter Hits')\n",
    "# plt.yscale('log')\n",
    "plt.grid('on', 'both')\n",
    "# plt.xlim((0.99, 1))\n",
    "# plt.xlabel(r'$\\pi^{+}$ efficiency')\n",
    "plt.ylabel(r'Ratio of $e^{+}$ efficiencies of DNN on Shower Shapes to X')\n",
    "plt.legend(loc='upper left')"
   ]
  },
  {
   "cell_type": "code",
   "execution_count": null,
   "metadata": {
    "collapsed": true
   },
   "outputs": [],
   "source": []
  }
 ],
 "metadata": {
  "kernelspec": {
   "display_name": "Python 2",
   "language": "python",
   "name": "python2"
  },
  "language_info": {
   "codemirror_mode": {
    "name": "ipython",
    "version": 2
   },
   "file_extension": ".py",
   "mimetype": "text/x-python",
   "name": "python",
   "nbconvert_exporter": "python",
   "pygments_lexer": "ipython2",
   "version": "2.7.12"
  }
 },
 "nbformat": 4,
 "nbformat_minor": 2
}
