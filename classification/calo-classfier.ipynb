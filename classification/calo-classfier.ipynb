{
 "cells": [
  {
   "cell_type": "markdown",
   "metadata": {},
   "source": [
    "# Train a $\\pi^{+}$ vs. $e^{+}$ model using a deep neural network and a BDT"
   ]
  },
  {
   "cell_type": "markdown",
   "metadata": {},
   "source": [
    "This notebook was developed and tested with Keras version 2.0.6. If you are using an older version, you might encounter problems with imports"
   ]
  },
  {
   "cell_type": "code",
   "execution_count": 1,
   "metadata": {
    "collapsed": true
   },
   "outputs": [],
   "source": [
    "%load_ext autoreload\n",
    "%autoreload 2\n",
    "%matplotlib inline"
   ]
  },
  {
   "cell_type": "code",
   "execution_count": 2,
   "metadata": {},
   "outputs": [
    {
     "name": "stderr",
     "output_type": "stream",
     "text": [
      "Using TensorFlow backend.\n"
     ]
    },
    {
     "data": {
      "text/plain": [
       "'2.0.6'"
      ]
     },
     "execution_count": 2,
     "metadata": {},
     "output_type": "execute_result"
    }
   ],
   "source": [
    "import keras\n",
    "keras.__version__"
   ]
  },
  {
   "cell_type": "code",
   "execution_count": 3,
   "metadata": {},
   "outputs": [
    {
     "name": "stdout",
     "output_type": "stream",
     "text": [
      "Mon Aug 21 07:41:54 2017       \r\n",
      "+-----------------------------------------------------------------------------+\r\n",
      "| NVIDIA-SMI 375.66                 Driver Version: 375.66                    |\r\n",
      "|-------------------------------+----------------------+----------------------+\r\n",
      "| GPU  Name        Persistence-M| Bus-Id        Disp.A | Volatile Uncorr. ECC |\r\n",
      "| Fan  Temp  Perf  Pwr:Usage/Cap|         Memory-Usage | GPU-Util  Compute M. |\r\n",
      "|===============================+======================+======================|\r\n",
      "|   0  GeForce GTX 1080    Off  | 0000:01:00.0     Off |                  N/A |\r\n",
      "| 38%   49C    P8     6W / 180W |   7835MiB /  8114MiB |      0%      Default |\r\n",
      "+-------------------------------+----------------------+----------------------+\r\n",
      "|   1  GeForce GT 720      Off  | 0000:02:00.0     N/A |                  N/A |\r\n",
      "| N/A   39C    P8    N/A /  N/A |      9MiB /   979MiB |     N/A      Default |\r\n",
      "+-------------------------------+----------------------+----------------------+\r\n",
      "|   2  GeForce GTX TIT...  Off  | 0000:04:00.0     Off |                  N/A |\r\n",
      "| 22%   42C    P8    14W / 250W |  11604MiB / 12207MiB |      0%      Default |\r\n",
      "+-------------------------------+----------------------+----------------------+\r\n",
      "                                                                               \r\n",
      "+-----------------------------------------------------------------------------+\r\n",
      "| Processes:                                                       GPU Memory |\r\n",
      "|  GPU       PID  Type  Process name                               Usage      |\r\n",
      "|=============================================================================|\r\n",
      "|    0      2200    C   /home/micky/.venvwrp/keras2tf1/bin/python     7833MiB |\r\n",
      "|    1                  Not Supported                                         |\r\n",
      "|    2      2200    C   /home/micky/.venvwrp/keras2tf1/bin/python    11600MiB |\r\n",
      "+-----------------------------------------------------------------------------+\r\n"
     ]
    }
   ],
   "source": [
    "! nvidia-smi"
   ]
  },
  {
   "cell_type": "code",
   "execution_count": 4,
   "metadata": {
    "collapsed": true
   },
   "outputs": [],
   "source": [
    "from functools import partial\n",
    "import h5py\n",
    "from keras.callbacks import EarlyStopping, ModelCheckpoint\n",
    "from keras.models import Model\n",
    "from keras.layers import (Dense, Reshape, Conv2D, LeakyReLU, BatchNormalization,\n",
    "                          LocallyConnected2D, Activation, ZeroPadding2D,\n",
    "                          Dropout, Lambda, Flatten, Input, add)\n",
    "\n",
    "from keras.layers.merge import concatenate, multiply\n",
    "import numpy as np\n",
    "\n",
    "from sklearn.model_selection import train_test_split\n",
    "from sklearn.utils import shuffle\n",
    "\n",
    "import matplotlib\n",
    "import matplotlib.pyplot as plt\n",
    "\n",
    "from sklearn.metrics import roc_curve, classification_report"
   ]
  },
  {
   "cell_type": "code",
   "execution_count": 5,
   "metadata": {
    "collapsed": true
   },
   "outputs": [],
   "source": [
    "from calodata.features import extract_features"
   ]
  },
  {
   "cell_type": "code",
   "execution_count": 6,
   "metadata": {
    "collapsed": true
   },
   "outputs": [],
   "source": [
    "# shortcut function 'concat' will represent np.concatenate across the 0th axis\n",
    "concat = partial(np.concatenate, axis=0)"
   ]
  },
  {
   "cell_type": "code",
   "execution_count": 7,
   "metadata": {
    "collapsed": true
   },
   "outputs": [],
   "source": [
    "def load_calodata(fpaths):\n",
    "    '''\n",
    "    Returns:\n",
    "    --------\n",
    "        data: a list of 3 numpy arrays, representing the energy deposition in each layer\n",
    "            for a group of showers contained in the file 'fpath'\n",
    "    '''\n",
    "    for fpath in fpaths:\n",
    "        with h5py.File(fpath, 'r') as h5:\n",
    "            try:\n",
    "                data = [concat((data[i], h5['layer_{}'.format(i)][:])) for i in xrange(3)]\n",
    "            except NameError:\n",
    "                data = [h5['layer_{}'.format(i)][:] for i in xrange(3)]\n",
    "    return data"
   ]
  },
  {
   "cell_type": "markdown",
   "metadata": {},
   "source": [
    "Choose which binary classification task to focus on"
   ]
  },
  {
   "cell_type": "code",
   "execution_count": 8,
   "metadata": {
    "collapsed": true
   },
   "outputs": [],
   "source": [
    "CLASS_ONE = 'gamma'\n",
    "CLASS_TWO = 'eplus'\n",
    "\n",
    "# CLASS_ONE = 'piplus'\n",
    "# CLASS_TWO = 'eplus'"
   ]
  },
  {
   "cell_type": "code",
   "execution_count": 9,
   "metadata": {},
   "outputs": [
    {
     "name": "stdout",
     "output_type": "stream",
     "text": [
      "Extraing data for gamma\n",
      "Extraing data for eplus\n"
     ]
    }
   ],
   "source": [
    "import glob\n",
    "print 'Extraing data for ' + CLASS_ONE\n",
    "# c1 = load_calodata(glob.glob(('../data/classification/{}_extra.hdf5').format(CLASS_ONE)))\n",
    "c1 = load_calodata(glob.glob(('../../fast/{}_angle_position_5deg_xy.h5').format(CLASS_ONE)))\n",
    "print 'Extraing data for ' + CLASS_TWO\n",
    "# c2 = load_calodata(glob.glob(('../data/classification/{}_extra.hdf5').format(CLASS_TWO)))\n",
    "c2 = load_calodata(glob.glob(('../../fast/{}_angle_position_5deg_xy.h5').format(CLASS_TWO)))\n",
    "data = map(concat, zip(c1, c2))\n",
    "\n",
    "labels = np.array([1] * c1[0].shape[0] + [0] * c2[0].shape[0])"
   ]
  },
  {
   "cell_type": "code",
   "execution_count": 10,
   "metadata": {
    "collapsed": true
   },
   "outputs": [],
   "source": [
    "# import glob\n",
    "# print 'Extraing data for ' + CLASS_ONE\n",
    "# c1_old = load_calodata(glob.glob(('../data/classification/{}.hdf5').format(CLASS_ONE)))\n",
    "# print 'Extraing data for ' + CLASS_TWO\n",
    "# c2_old = load_calodata(glob.glob(('../data/classification/{}.hdf5').format(CLASS_TWO)))\n",
    "# data_old = map(concat, zip(c1_old, c2_old))\n",
    "\n",
    "# labels_old = np.array([1] * c1_old[0].shape[0] + [0] * c2_old[0].shape[0])"
   ]
  },
  {
   "cell_type": "code",
   "execution_count": 11,
   "metadata": {},
   "outputs": [
    {
     "name": "stdout",
     "output_type": "stream",
     "text": [
      "Number of gamma events = 500000\n",
      "Number of eplus events = 400000\n"
     ]
    }
   ],
   "source": [
    "print 'Number of {} events = {}'.format(CLASS_ONE, c1[0].shape[0])\n",
    "print 'Number of {} events = {}'.format(CLASS_TWO, c2[0].shape[0])"
   ]
  },
  {
   "cell_type": "markdown",
   "metadata": {},
   "source": [
    "Use a pre-written module to calculate the shower shape variables for the showers in our dataset and save them in an object called 'features'"
   ]
  },
  {
   "cell_type": "code",
   "execution_count": 12,
   "metadata": {
    "collapsed": true
   },
   "outputs": [],
   "source": [
    "features = extract_features(data) # shower shapes"
   ]
  },
  {
   "cell_type": "code",
   "execution_count": 13,
   "metadata": {
    "collapsed": true
   },
   "outputs": [],
   "source": [
    "# features_old = extract_features(data_old) # shower shapes"
   ]
  },
  {
   "cell_type": "code",
   "execution_count": 14,
   "metadata": {},
   "outputs": [
    {
     "data": {
      "text/plain": [
       "(900000, 20)"
      ]
     },
     "execution_count": 14,
     "metadata": {},
     "output_type": "execute_result"
    }
   ],
   "source": [
    "features.shape"
   ]
  },
  {
   "cell_type": "code",
   "execution_count": 15,
   "metadata": {
    "collapsed": true,
    "scrolled": false
   },
   "outputs": [],
   "source": [
    "# for f, fold in zip(features.T, features_old.T):\n",
    "#     plt.figure(figsize=(10,10))\n",
    "#     bins = np.linspace(f.min(), f.max(), 20)\n",
    "#     _ = plt.hist(f[labels==0], bins=bins, label='f 0', normed=True, histtype='step')\n",
    "#     _ = plt.hist(f[labels==1], bins=bins, label='f 1', normed=True, histtype='step')\n",
    "#     _ = plt.hist(fold[labels_old==0], bins=bins, label='old 0', normed=True, histtype='step')\n",
    "#     _ = plt.hist(fold[labels_old==1], bins=bins, label='old 1', normed=True, histtype='step')\n",
    "#     plt.legend()\n",
    "#     plt.show()"
   ]
  },
  {
   "cell_type": "markdown",
   "metadata": {},
   "source": [
    "For no good reason, we are shuffling and splitting into train and test set by hand. \n",
    "\n",
    "TO-DO: use sklearn train_test_split\n",
    "\n",
    "TO-DO: save out a final validation set as well"
   ]
  },
  {
   "cell_type": "code",
   "execution_count": 15,
   "metadata": {
    "collapsed": true
   },
   "outputs": [],
   "source": [
    "# random shuffle\n",
    "np.random.seed(0)\n",
    "ix = np.array(range(len(labels)))\n",
    "np.random.shuffle(ix)\n",
    "\n",
    "# number of examples to train on\n",
    "nb_train = int(0.7 * len(ix))\n",
    "\n",
    "# train test split\n",
    "ix_train = ix[:nb_train]\n",
    "ix_test = ix[nb_train:]\n",
    "\n",
    "features_train = features[ix_train]\n",
    "data_train = [np.expand_dims(d[ix_train], -1) / 1000. for d in data]\n",
    "labels_train = labels[ix_train]\n",
    "\n",
    "features_test = features[ix_test]\n",
    "data_test = [np.expand_dims(d[ix_test], -1) / 1000. for d in data]\n",
    "labels_test = labels[ix_test]"
   ]
  },
  {
   "cell_type": "code",
   "execution_count": 16,
   "metadata": {
    "collapsed": true
   },
   "outputs": [],
   "source": [
    "raveled_train = np.concatenate([d.reshape(d.shape[0], -1) for d in data_train], axis=-1)\n",
    "raveled_test = np.concatenate([d.reshape(d.shape[0], -1) for d in data_test], axis=-1)"
   ]
  },
  {
   "cell_type": "markdown",
   "metadata": {},
   "source": [
    "# LAGAN-style discriminator"
   ]
  },
  {
   "cell_type": "code",
   "execution_count": 17,
   "metadata": {
    "collapsed": true
   },
   "outputs": [],
   "source": [
    "def build_model(image, selu=True, bn=True):\n",
    "    '''\n",
    "    Build LAGAN-style discriminator\n",
    "    '''\n",
    "    x = Conv2D(64, (2, 2), padding='same')(image)\n",
    "    \n",
    "    x = BatchNormalization()(x)\n",
    "    x = Activation('relu')(x)\n",
    "    x = Dropout(0.5)(x)\n",
    "\n",
    "    x = ZeroPadding2D((1, 1))(image)\n",
    "#     x = LocallyConnected2D(8 * 4, (3, 3), padding='valid', strides=(1, 2))(x)\n",
    "    x = Conv2D(8 * 4, (3, 3), padding='valid', strides=(1, 2))(x)\n",
    "\n",
    "    x = BatchNormalization()(x)\n",
    "    x = Activation('relu')(x)\n",
    "    x = Dropout(0.5)(x)\n",
    "\n",
    "    x = ZeroPadding2D((1, 1))(x)\n",
    "#     x = LocallyConnected2D(16 * 4, (2, 2), padding='valid')(x)\n",
    "    x = Conv2D(16 * 4, (2, 2), padding='valid')(x)\n",
    "\n",
    "    x = BatchNormalization()(x)\n",
    "    x = Activation('relu')(x)\n",
    "    x = Dropout(0.5)(x)\n",
    "\n",
    "    x = ZeroPadding2D((1, 1))(x)\n",
    "#     x = LocallyConnected2D(32 * 4, (2, 2), padding='valid', strides=(1, 2))(x)\n",
    "    x = Conv2D(32 * 4, (2, 2), padding='valid', strides=(1, 2))(x)\n",
    "\n",
    "    x = BatchNormalization()(x)\n",
    "    x = Activation('relu')(x)\n",
    "    x = Dropout(0.5)(x)\n",
    "\n",
    "    x = Flatten()(x)\n",
    "\n",
    "    return x"
   ]
  },
  {
   "cell_type": "code",
   "execution_count": 18,
   "metadata": {
    "collapsed": true
   },
   "outputs": [],
   "source": [
    "shapes = [d.shape[1:] for d in data_train]\n",
    "\n",
    "x = [Input(shape=sh) for sh in shapes]\n",
    "\n",
    "h = concatenate(map(partial(build_model), x)) \n",
    "\n",
    "h = Dense(256)(h)\n",
    "h = Activation('relu')(h)\n",
    "h = Dropout(0.5)(h)\n",
    "\n",
    "y = Dense(1, activation='sigmoid')(h)\n",
    "\n",
    "image_dnn = Model(x, y)\n",
    "image_dnn.compile('adam', 'binary_crossentropy', metrics=['acc'])"
   ]
  },
  {
   "cell_type": "code",
   "execution_count": 19,
   "metadata": {},
   "outputs": [
    {
     "name": "stdout",
     "output_type": "stream",
     "text": [
      "____________________________________________________________________________________________________\n",
      "Layer (type)                     Output Shape          Param #     Connected to                     \n",
      "====================================================================================================\n",
      "input_1 (InputLayer)             (None, 3, 96, 1)      0                                            \n",
      "____________________________________________________________________________________________________\n",
      "input_2 (InputLayer)             (None, 12, 12, 1)     0                                            \n",
      "____________________________________________________________________________________________________\n",
      "input_3 (InputLayer)             (None, 12, 6, 1)      0                                            \n",
      "____________________________________________________________________________________________________\n",
      "zero_padding2d_1 (ZeroPadding2D) (None, 5, 98, 1)      0           input_1[0][0]                    \n",
      "____________________________________________________________________________________________________\n",
      "zero_padding2d_4 (ZeroPadding2D) (None, 14, 14, 1)     0           input_2[0][0]                    \n",
      "____________________________________________________________________________________________________\n",
      "zero_padding2d_7 (ZeroPadding2D) (None, 14, 8, 1)      0           input_3[0][0]                    \n",
      "____________________________________________________________________________________________________\n",
      "conv2d_2 (Conv2D)                (None, 3, 48, 32)     320         zero_padding2d_1[0][0]           \n",
      "____________________________________________________________________________________________________\n",
      "conv2d_6 (Conv2D)                (None, 12, 6, 32)     320         zero_padding2d_4[0][0]           \n",
      "____________________________________________________________________________________________________\n",
      "conv2d_10 (Conv2D)               (None, 12, 3, 32)     320         zero_padding2d_7[0][0]           \n",
      "____________________________________________________________________________________________________\n",
      "batch_normalization_2 (BatchNorm (None, 3, 48, 32)     128         conv2d_2[0][0]                   \n",
      "____________________________________________________________________________________________________\n",
      "batch_normalization_6 (BatchNorm (None, 12, 6, 32)     128         conv2d_6[0][0]                   \n",
      "____________________________________________________________________________________________________\n",
      "batch_normalization_10 (BatchNor (None, 12, 3, 32)     128         conv2d_10[0][0]                  \n",
      "____________________________________________________________________________________________________\n",
      "activation_2 (Activation)        (None, 3, 48, 32)     0           batch_normalization_2[0][0]      \n",
      "____________________________________________________________________________________________________\n",
      "activation_6 (Activation)        (None, 12, 6, 32)     0           batch_normalization_6[0][0]      \n",
      "____________________________________________________________________________________________________\n",
      "activation_10 (Activation)       (None, 12, 3, 32)     0           batch_normalization_10[0][0]     \n",
      "____________________________________________________________________________________________________\n",
      "dropout_2 (Dropout)              (None, 3, 48, 32)     0           activation_2[0][0]               \n",
      "____________________________________________________________________________________________________\n",
      "dropout_6 (Dropout)              (None, 12, 6, 32)     0           activation_6[0][0]               \n",
      "____________________________________________________________________________________________________\n",
      "dropout_10 (Dropout)             (None, 12, 3, 32)     0           activation_10[0][0]              \n",
      "____________________________________________________________________________________________________\n",
      "zero_padding2d_2 (ZeroPadding2D) (None, 5, 50, 32)     0           dropout_2[0][0]                  \n",
      "____________________________________________________________________________________________________\n",
      "zero_padding2d_5 (ZeroPadding2D) (None, 14, 8, 32)     0           dropout_6[0][0]                  \n",
      "____________________________________________________________________________________________________\n",
      "zero_padding2d_8 (ZeroPadding2D) (None, 14, 5, 32)     0           dropout_10[0][0]                 \n",
      "____________________________________________________________________________________________________\n",
      "conv2d_3 (Conv2D)                (None, 4, 49, 64)     8256        zero_padding2d_2[0][0]           \n",
      "____________________________________________________________________________________________________\n",
      "conv2d_7 (Conv2D)                (None, 13, 7, 64)     8256        zero_padding2d_5[0][0]           \n",
      "____________________________________________________________________________________________________\n",
      "conv2d_11 (Conv2D)               (None, 13, 4, 64)     8256        zero_padding2d_8[0][0]           \n",
      "____________________________________________________________________________________________________\n",
      "batch_normalization_3 (BatchNorm (None, 4, 49, 64)     256         conv2d_3[0][0]                   \n",
      "____________________________________________________________________________________________________\n",
      "batch_normalization_7 (BatchNorm (None, 13, 7, 64)     256         conv2d_7[0][0]                   \n",
      "____________________________________________________________________________________________________\n",
      "batch_normalization_11 (BatchNor (None, 13, 4, 64)     256         conv2d_11[0][0]                  \n",
      "____________________________________________________________________________________________________\n",
      "activation_3 (Activation)        (None, 4, 49, 64)     0           batch_normalization_3[0][0]      \n",
      "____________________________________________________________________________________________________\n",
      "activation_7 (Activation)        (None, 13, 7, 64)     0           batch_normalization_7[0][0]      \n",
      "____________________________________________________________________________________________________\n",
      "activation_11 (Activation)       (None, 13, 4, 64)     0           batch_normalization_11[0][0]     \n",
      "____________________________________________________________________________________________________\n",
      "dropout_3 (Dropout)              (None, 4, 49, 64)     0           activation_3[0][0]               \n",
      "____________________________________________________________________________________________________\n",
      "dropout_7 (Dropout)              (None, 13, 7, 64)     0           activation_7[0][0]               \n",
      "____________________________________________________________________________________________________\n",
      "dropout_11 (Dropout)             (None, 13, 4, 64)     0           activation_11[0][0]              \n",
      "____________________________________________________________________________________________________\n",
      "zero_padding2d_3 (ZeroPadding2D) (None, 6, 51, 64)     0           dropout_3[0][0]                  \n",
      "____________________________________________________________________________________________________\n",
      "zero_padding2d_6 (ZeroPadding2D) (None, 15, 9, 64)     0           dropout_7[0][0]                  \n",
      "____________________________________________________________________________________________________\n",
      "zero_padding2d_9 (ZeroPadding2D) (None, 15, 6, 64)     0           dropout_11[0][0]                 \n",
      "____________________________________________________________________________________________________\n",
      "conv2d_4 (Conv2D)                (None, 5, 25, 128)    32896       zero_padding2d_3[0][0]           \n",
      "____________________________________________________________________________________________________\n",
      "conv2d_8 (Conv2D)                (None, 14, 4, 128)    32896       zero_padding2d_6[0][0]           \n",
      "____________________________________________________________________________________________________\n",
      "conv2d_12 (Conv2D)               (None, 14, 3, 128)    32896       zero_padding2d_9[0][0]           \n",
      "____________________________________________________________________________________________________\n",
      "batch_normalization_4 (BatchNorm (None, 5, 25, 128)    512         conv2d_4[0][0]                   \n",
      "____________________________________________________________________________________________________\n",
      "batch_normalization_8 (BatchNorm (None, 14, 4, 128)    512         conv2d_8[0][0]                   \n",
      "____________________________________________________________________________________________________\n",
      "batch_normalization_12 (BatchNor (None, 14, 3, 128)    512         conv2d_12[0][0]                  \n",
      "____________________________________________________________________________________________________\n",
      "activation_4 (Activation)        (None, 5, 25, 128)    0           batch_normalization_4[0][0]      \n",
      "____________________________________________________________________________________________________\n",
      "activation_8 (Activation)        (None, 14, 4, 128)    0           batch_normalization_8[0][0]      \n",
      "____________________________________________________________________________________________________\n",
      "activation_12 (Activation)       (None, 14, 3, 128)    0           batch_normalization_12[0][0]     \n",
      "____________________________________________________________________________________________________\n",
      "dropout_4 (Dropout)              (None, 5, 25, 128)    0           activation_4[0][0]               \n",
      "____________________________________________________________________________________________________\n",
      "dropout_8 (Dropout)              (None, 14, 4, 128)    0           activation_8[0][0]               \n",
      "____________________________________________________________________________________________________\n",
      "dropout_12 (Dropout)             (None, 14, 3, 128)    0           activation_12[0][0]              \n",
      "____________________________________________________________________________________________________\n",
      "flatten_1 (Flatten)              (None, 16000)         0           dropout_4[0][0]                  \n",
      "____________________________________________________________________________________________________\n",
      "flatten_2 (Flatten)              (None, 7168)          0           dropout_8[0][0]                  \n",
      "____________________________________________________________________________________________________\n",
      "flatten_3 (Flatten)              (None, 5376)          0           dropout_12[0][0]                 \n",
      "____________________________________________________________________________________________________\n",
      "concatenate_1 (Concatenate)      (None, 28544)         0           flatten_1[0][0]                  \n",
      "                                                                   flatten_2[0][0]                  \n",
      "                                                                   flatten_3[0][0]                  \n",
      "____________________________________________________________________________________________________\n",
      "dense_1 (Dense)                  (None, 256)           7307520     concatenate_1[0][0]              \n",
      "____________________________________________________________________________________________________\n",
      "activation_13 (Activation)       (None, 256)           0           dense_1[0][0]                    \n",
      "____________________________________________________________________________________________________\n",
      "dropout_13 (Dropout)             (None, 256)           0           activation_13[0][0]              \n",
      "____________________________________________________________________________________________________\n",
      "dense_2 (Dense)                  (None, 1)             257         dropout_13[0][0]                 \n",
      "====================================================================================================\n",
      "Total params: 7,434,881\n",
      "Trainable params: 7,433,537\n",
      "Non-trainable params: 1,344\n",
      "____________________________________________________________________________________________________\n"
     ]
    }
   ],
   "source": [
    "image_dnn.summary()"
   ]
  },
  {
   "cell_type": "code",
   "execution_count": 20,
   "metadata": {
    "collapsed": true
   },
   "outputs": [],
   "source": [
    "callbacks = [\n",
    "    EarlyStopping(verbose=True, patience=10, monitor='val_loss'),\n",
    "    ModelCheckpoint('LAGAN{}vs{}-chkpt.h5'.format(CLASS_ONE, CLASS_TWO),\n",
    "                    monitor='val_loss', verbose=True, save_best_only=True),\n",
    "]"
   ]
  },
  {
   "cell_type": "code",
   "execution_count": 42,
   "metadata": {
    "scrolled": true
   },
   "outputs": [
    {
     "name": "stdout",
     "output_type": "stream",
     "text": [
      "Train on 441000 samples, validate on 189000 samples\n",
      "Epoch 1/100\n",
      "440960/441000 [============================>.] - ETA: 0s - loss: 0.6213 - acc: 0.6217Epoch 00000: val_loss improved from inf to 0.65608, saving model to LAGANgammavseplus-chkpt.h5\n",
      "441000/441000 [==============================] - 124s - loss: 0.6213 - acc: 0.6217 - val_loss: 0.6561 - val_acc: 0.5440\n",
      "Epoch 2/100\n",
      "440960/441000 [============================>.] - ETA: 0s - loss: 0.6015 - acc: 0.6363- EEpoch 00001: val_loss improved from 0.65608 to 0.58865, saving model to LAGANgammavseplus-chkpt.h5\n",
      "441000/441000 [==============================] - 122s - loss: 0.6015 - acc: 0.6363 - val_loss: 0.5887 - val_acc: 0.6509\n",
      "Epoch 3/100\n",
      "440960/441000 [============================>.] - ETA: 0s - loss: 0.5974 - acc: 0.6408Epoch 00002: val_loss improved from 0.58865 to 0.58650, saving model to LAGANgammavseplus-chkpt.h5\n",
      "441000/441000 [==============================] - 121s - loss: 0.5974 - acc: 0.6408 - val_loss: 0.5865 - val_acc: 0.6494\n",
      "Epoch 4/100\n",
      "440960/441000 [============================>.] - ETA: 0s - loss: 0.5963 - acc: 0.6418Epoch 00003: val_loss improved from 0.58650 to 0.58475, saving model to LAGANgammavseplus-chkpt.h5\n",
      "441000/441000 [==============================] - 120s - loss: 0.5963 - acc: 0.6418 - val_loss: 0.5848 - val_acc: 0.6538\n",
      "Epoch 5/100\n",
      "440960/441000 [============================>.] - ETA: 0s - loss: 0.5952 - acc: 0.6426Epoch 00004: val_loss improved from 0.58475 to 0.58309, saving model to LAGANgammavseplus-chkpt.h5\n",
      "441000/441000 [==============================] - 120s - loss: 0.5952 - acc: 0.6426 - val_loss: 0.5831 - val_acc: 0.6544\n",
      "Epoch 6/100\n",
      "440960/441000 [============================>.] - ETA: 0s - loss: 0.5931 - acc: 0.6452- ETA: 0s - loss: 0.5931 - acc: 0.Epoch 00005: val_loss did not improve\n",
      "441000/441000 [==============================] - 120s - loss: 0.5931 - acc: 0.6451 - val_loss: 0.5928 - val_acc: 0.6408\n",
      "Epoch 7/100\n",
      "440960/441000 [============================>.] - ETA: 0s - loss: 0.5930 - acc: 0.6464- ETA: 1s - loss: 0.Epoch 00006: val_loss improved from 0.58309 to 0.58087, saving model to LAGANgammavseplus-chkpt.h5\n",
      "441000/441000 [==============================] - 120s - loss: 0.5930 - acc: 0.6464 - val_loss: 0.5809 - val_acc: 0.6562\n",
      "Epoch 8/100\n",
      "440960/441000 [============================>.] - ETA: 0s - loss: 0.5924 - acc: 0.6462Epoch 00007: val_loss did not improve\n",
      "441000/441000 [==============================] - 120s - loss: 0.5924 - acc: 0.6462 - val_loss: 0.5843 - val_acc: 0.6518\n",
      "Epoch 9/100\n",
      "440960/441000 [============================>.] - ETA: 0s - loss: 0.5921 - acc: 0.6471Epoch 00008: val_loss did not improve\n",
      "441000/441000 [==============================] - 120s - loss: 0.5921 - acc: 0.6471 - val_loss: 0.5818 - val_acc: 0.6554\n",
      "Epoch 10/100\n",
      "440960/441000 [============================>.] - ETA: 0s - loss: 0.5917 - acc: 0.6474Epoch 00009: val_loss did not improve\n",
      "441000/441000 [==============================] - 120s - loss: 0.5917 - acc: 0.6474 - val_loss: 0.5836 - val_acc: 0.6556\n",
      "Epoch 11/100\n",
      "440960/441000 [============================>.] - ETA: 0s - loss: 0.5907 - acc: 0.6477Epoch 00010: val_loss did not improve\n",
      "441000/441000 [==============================] - 120s - loss: 0.5907 - acc: 0.6477 - val_loss: 0.5809 - val_acc: 0.6570\n",
      "Epoch 12/100\n",
      "440960/441000 [============================>.] - ETA: 0s - loss: 0.5903 - acc: 0.6488Epoch 00011: val_loss improved from 0.58087 to 0.57984, saving model to LAGANgammavseplus-chkpt.h5\n",
      "441000/441000 [==============================] - 120s - loss: 0.5903 - acc: 0.6488 - val_loss: 0.5798 - val_acc: 0.6578\n",
      "Epoch 13/100\n",
      "440960/441000 [============================>.] - ETA: 0s - loss: 0.5898 - acc: 0.6492- ETA: 0s - loss: 0.5899 - acc: 0.6 - ETA: 0s - loss: 0.5899 - Epoch 00012: val_loss did not improve\n",
      "441000/441000 [==============================] - 120s - loss: 0.5898 - acc: 0.6492 - val_loss: 0.5803 - val_acc: 0.6573\n",
      "Epoch 14/100\n",
      "440960/441000 [============================>.] - ETA: 0s - loss: 0.5893 - acc: 0.6497Epoch 00013: val_loss did not improve\n",
      "441000/441000 [==============================] - 121s - loss: 0.5893 - acc: 0.6497 - val_loss: 0.5869 - val_acc: 0.6523\n",
      "Epoch 15/100\n",
      "440960/441000 [============================>.] - ETA: 0s - loss: 0.5897 - acc: 0.6494Epoch 00014: val_loss did not improve\n",
      "441000/441000 [==============================] - 120s - loss: 0.5897 - acc: 0.6495 - val_loss: 0.5813 - val_acc: 0.6573\n",
      "Epoch 16/100\n",
      "440960/441000 [============================>.] - ETA: 0s - loss: 0.5885 - acc: 0.6509- ETA: 1s - loss: Epoch 00015: val_loss did not improve\n",
      "441000/441000 [==============================] - 120s - loss: 0.5885 - acc: 0.6509 - val_loss: 0.5799 - val_acc: 0.6586\n",
      "Epoch 17/100\n",
      "440832/441000 [============================>.] - ETA: 0s - loss: 0.5893 - acc: 0.6500- ETA: 2s - loss: 0.5 - ETA: 1Epoch 00016: val_loss did not improve\n",
      "441000/441000 [==============================] - 146s - loss: 0.5893 - acc: 0.6500 - val_loss: 0.5803 - val_acc: 0.6578\n",
      "Epoch 18/100\n",
      "440960/441000 [============================>.] - ETA: 0s - loss: 0.5887 - acc: 0.6505Epoch 00017: val_loss did not improve\n",
      "441000/441000 [==============================] - 138s - loss: 0.5887 - acc: 0.6505 - val_loss: 0.5831 - val_acc: 0.6546\n",
      "Epoch 19/100\n",
      "440832/441000 [============================>.] - ETA: 0s - loss: 0.5881 - acc: 0.6503Epoch 00018: val_loss did not improve\n",
      "441000/441000 [==============================] - 103s - loss: 0.5880 - acc: 0.6503 - val_loss: 0.5804 - val_acc: 0.6586\n",
      "Epoch 20/100\n",
      "440960/441000 [============================>.] - ETA: 0s - loss: 0.5875 - acc: 0.6512Epoch 00019: val_loss did not improve\n",
      "441000/441000 [==============================] - 103s - loss: 0.5875 - acc: 0.6512 - val_loss: 0.5816 - val_acc: 0.6560\n",
      "Epoch 21/100\n",
      "440960/441000 [============================>.] - ETA: 0s - loss: 0.5875 - acc: 0.6507Epoch 00020: val_loss did not improve\n",
      "441000/441000 [==============================] - 104s - loss: 0.5876 - acc: 0.6507 - val_loss: 0.5819 - val_acc: 0.6562\n",
      "Epoch 22/100\n",
      "440960/441000 [============================>.] - ETA: 0s - loss: 0.5873 - acc: 0.6515Epoch 00021: val_loss did not improve\n",
      "441000/441000 [==============================] - 104s - loss: 0.5873 - acc: 0.6515 - val_loss: 0.5825 - val_acc: 0.6582\n",
      "Epoch 23/100\n",
      "440960/441000 [============================>.] - ETA: 0s - loss: 0.5869 - acc: 0.6515Epoch 00022: val_loss did not improve\n",
      "441000/441000 [==============================] - 104s - loss: 0.5869 - acc: 0.6515 - val_loss: 0.5799 - val_acc: 0.6583\n",
      "Epoch 00022: early stopping\n"
     ]
    }
   ],
   "source": [
    "try:\n",
    "    image_dnn.fit(data_train, labels_train, callbacks=callbacks, verbose=True,\n",
    "                  validation_split=0.3, batch_size=128, epochs=100)\n",
    "except KeyboardInterrupt:\n",
    "    print 'ending early'"
   ]
  },
  {
   "cell_type": "code",
   "execution_count": 21,
   "metadata": {
    "collapsed": true
   },
   "outputs": [],
   "source": [
    "image_dnn.load_weights('LAGAN{}vs{}-chkpt.h5'.format(CLASS_ONE, CLASS_TWO))\n",
    "image_dnn.save_weights('LAGAN{}vs{}-final.h5'.format(CLASS_ONE, CLASS_TWO))"
   ]
  },
  {
   "cell_type": "code",
   "execution_count": 22,
   "metadata": {
    "collapsed": true
   },
   "outputs": [],
   "source": [
    "image_dnn.load_weights('LAGAN{}vs{}-final.h5'.format(CLASS_ONE, CLASS_TWO))"
   ]
  },
  {
   "cell_type": "code",
   "execution_count": 23,
   "metadata": {
    "collapsed": true
   },
   "outputs": [],
   "source": [
    "# with h5py.File('LAGAN{}vs{}-split-indices.h5'.format(CLASS_ONE, CLASS_TWO), 'w') as h5:\n",
    "#     h5['train'] = ix_train\n",
    "#     h5['test'] = ix_test"
   ]
  },
  {
   "cell_type": "code",
   "execution_count": 24,
   "metadata": {},
   "outputs": [
    {
     "name": "stdout",
     "output_type": "stream",
     "text": [
      "269888/270000 [============================>.] - ETA: 0s"
     ]
    }
   ],
   "source": [
    "yhat_image_dnn = image_dnn.predict(data_test, verbose=True).ravel()"
   ]
  },
  {
   "cell_type": "markdown",
   "metadata": {},
   "source": [
    "# Train a DNN on shower shapes"
   ]
  },
  {
   "cell_type": "code",
   "execution_count": 25,
   "metadata": {
    "collapsed": true
   },
   "outputs": [],
   "source": [
    "def build_feature_dnn(x):\n",
    "\n",
    "    h = Dense(256)(x)\n",
    "    h = Dropout(0.2)(LeakyReLU()(h))\n",
    "    h = BatchNormalization()(h)\n",
    "\n",
    "    h = Dense(256)(h)\n",
    "    h = Dropout(0.5)(LeakyReLU()(h))\n",
    "    h = BatchNormalization()(h)\n",
    "\n",
    "    h = Dense(256)(h)\n",
    "    h = Dropout(0.5)(LeakyReLU()(h))\n",
    "    h = BatchNormalization()(h)\n",
    "    \n",
    "    h = Dense(256)(h)\n",
    "    h = Dropout(0.5)(LeakyReLU()(h))\n",
    "    h = BatchNormalization()(h)\n",
    "\n",
    "    h = Dense(32)(h)\n",
    "    h = Dropout(0.5)(LeakyReLU()(h))\n",
    "\n",
    "    h = Dense(1)(h)\n",
    "    y = Activation('sigmoid')(h)\n",
    "    \n",
    "\n",
    "    return y"
   ]
  },
  {
   "cell_type": "code",
   "execution_count": 26,
   "metadata": {
    "collapsed": true
   },
   "outputs": [],
   "source": [
    "x = Input(shape=(features_train.shape[1], ))\n",
    "feature_dnn = Model(x, build_feature_dnn(x))\n",
    "feature_dnn.compile('adam', 'binary_crossentropy', metrics=['acc'])"
   ]
  },
  {
   "cell_type": "code",
   "execution_count": 27,
   "metadata": {
    "scrolled": true
   },
   "outputs": [
    {
     "name": "stdout",
     "output_type": "stream",
     "text": [
      "_________________________________________________________________\n",
      "Layer (type)                 Output Shape              Param #   \n",
      "=================================================================\n",
      "input_4 (InputLayer)         (None, 20)                0         \n",
      "_________________________________________________________________\n",
      "dense_3 (Dense)              (None, 256)               5376      \n",
      "_________________________________________________________________\n",
      "leaky_re_lu_1 (LeakyReLU)    (None, 256)               0         \n",
      "_________________________________________________________________\n",
      "dropout_14 (Dropout)         (None, 256)               0         \n",
      "_________________________________________________________________\n",
      "batch_normalization_13 (Batc (None, 256)               1024      \n",
      "_________________________________________________________________\n",
      "dense_4 (Dense)              (None, 256)               65792     \n",
      "_________________________________________________________________\n",
      "leaky_re_lu_2 (LeakyReLU)    (None, 256)               0         \n",
      "_________________________________________________________________\n",
      "dropout_15 (Dropout)         (None, 256)               0         \n",
      "_________________________________________________________________\n",
      "batch_normalization_14 (Batc (None, 256)               1024      \n",
      "_________________________________________________________________\n",
      "dense_5 (Dense)              (None, 256)               65792     \n",
      "_________________________________________________________________\n",
      "leaky_re_lu_3 (LeakyReLU)    (None, 256)               0         \n",
      "_________________________________________________________________\n",
      "dropout_16 (Dropout)         (None, 256)               0         \n",
      "_________________________________________________________________\n",
      "batch_normalization_15 (Batc (None, 256)               1024      \n",
      "_________________________________________________________________\n",
      "dense_6 (Dense)              (None, 256)               65792     \n",
      "_________________________________________________________________\n",
      "leaky_re_lu_4 (LeakyReLU)    (None, 256)               0         \n",
      "_________________________________________________________________\n",
      "dropout_17 (Dropout)         (None, 256)               0         \n",
      "_________________________________________________________________\n",
      "batch_normalization_16 (Batc (None, 256)               1024      \n",
      "_________________________________________________________________\n",
      "dense_7 (Dense)              (None, 32)                8224      \n",
      "_________________________________________________________________\n",
      "leaky_re_lu_5 (LeakyReLU)    (None, 32)                0         \n",
      "_________________________________________________________________\n",
      "dropout_18 (Dropout)         (None, 32)                0         \n",
      "_________________________________________________________________\n",
      "dense_8 (Dense)              (None, 1)                 33        \n",
      "_________________________________________________________________\n",
      "activation_14 (Activation)   (None, 1)                 0         \n",
      "=================================================================\n",
      "Total params: 215,105\n",
      "Trainable params: 213,057\n",
      "Non-trainable params: 2,048\n",
      "_________________________________________________________________\n"
     ]
    }
   ],
   "source": [
    "feature_dnn.summary()"
   ]
  },
  {
   "cell_type": "code",
   "execution_count": 28,
   "metadata": {
    "collapsed": true
   },
   "outputs": [],
   "source": [
    "callbacks = [\n",
    "    EarlyStopping(verbose=True, patience=10, monitor='val_loss'),\n",
    "    ModelCheckpoint('SS{}vs{}-features-chkpt.h5'.format(CLASS_ONE, CLASS_TWO),\n",
    "                    monitor='val_loss', verbose=True, save_best_only=True),\n",
    "]"
   ]
  },
  {
   "cell_type": "code",
   "execution_count": 29,
   "metadata": {
    "scrolled": true
   },
   "outputs": [
    {
     "name": "stdout",
     "output_type": "stream",
     "text": [
      "Train on 441000 samples, validate on 189000 samples\n",
      "Epoch 1/100\n",
      " 41088/441000 [=>............................] - ETA: 26s - loss: 0.7080 - acc: 0.5870ending early\n"
     ]
    }
   ],
   "source": [
    "try:\n",
    "    feature_dnn.fit(features_train / features_train.max(axis=0)[np.newaxis, :], labels_train, callbacks=callbacks, verbose=True,\n",
    "                  validation_split=0.3, batch_size=128, epochs=100)\n",
    "except KeyboardInterrupt:\n",
    "    print 'ending early'"
   ]
  },
  {
   "cell_type": "code",
   "execution_count": 30,
   "metadata": {
    "collapsed": true
   },
   "outputs": [],
   "source": [
    "feature_dnn.load_weights('SS{}vs{}-features-chkpt.h5'.format(CLASS_ONE, CLASS_TWO))\n",
    "feature_dnn.save_weights('SS{}vs{}-features-final.h5'.format(CLASS_ONE, CLASS_TWO))"
   ]
  },
  {
   "cell_type": "code",
   "execution_count": 31,
   "metadata": {
    "collapsed": true
   },
   "outputs": [],
   "source": [
    "feature_dnn.load_weights('SS{}vs{}-features-final.h5'.format(CLASS_ONE, CLASS_TWO))"
   ]
  },
  {
   "cell_type": "code",
   "execution_count": 32,
   "metadata": {},
   "outputs": [
    {
     "name": "stdout",
     "output_type": "stream",
     "text": [
      "269632/270000 [============================>.] - ETA: 0s"
     ]
    }
   ],
   "source": [
    "yhat_feature_dnn = feature_dnn.predict(features_test / features_test.max(axis=0)[np.newaxis, :], verbose=True).ravel()"
   ]
  },
  {
   "cell_type": "markdown",
   "metadata": {
    "collapsed": true
   },
   "source": [
    "# Train a BDT on shower shapes"
   ]
  },
  {
   "cell_type": "code",
   "execution_count": null,
   "metadata": {
    "collapsed": true
   },
   "outputs": [],
   "source": [
    "from sklearn.ensemble import GradientBoostingClassifier\n",
    "from sklearn.model_selection import GridSearchCV"
   ]
  },
  {
   "cell_type": "code",
   "execution_count": null,
   "metadata": {
    "collapsed": true
   },
   "outputs": [],
   "source": [
    "base_clf = GradientBoostingClassifier(verbose=2)\n",
    "parameters = {\n",
    "    'n_estimators':[100, 200, 300],\n",
    "    'max_depth':[3, 5]\n",
    "}"
   ]
  },
  {
   "cell_type": "code",
   "execution_count": null,
   "metadata": {
    "collapsed": true
   },
   "outputs": [],
   "source": [
    "clf = GridSearchCV(base_clf, parameters, n_jobs=7)"
   ]
  },
  {
   "cell_type": "code",
   "execution_count": null,
   "metadata": {
    "collapsed": true
   },
   "outputs": [],
   "source": [
    "clf.best_params_"
   ]
  },
  {
   "cell_type": "code",
   "execution_count": null,
   "metadata": {
    "collapsed": true
   },
   "outputs": [],
   "source": [
    "clf.fit(features_train, labels_train)"
   ]
  },
  {
   "cell_type": "code",
   "execution_count": null,
   "metadata": {
    "collapsed": true
   },
   "outputs": [],
   "source": [
    "yhat_feature_bdt = clf.predict_proba(features_test)[:, 1].ravel()\n"
   ]
  },
  {
   "cell_type": "markdown",
   "metadata": {},
   "source": [
    "# Train simple DNN on pix"
   ]
  },
  {
   "cell_type": "code",
   "execution_count": 33,
   "metadata": {
    "collapsed": true
   },
   "outputs": [],
   "source": [
    "def build_simple_dnn(x):\n",
    "\n",
    "    h = Dense(512)(x)\n",
    "    h = Dropout(0.2)(LeakyReLU()(h))\n",
    "    h = BatchNormalization()(h)\n",
    "\n",
    "    h = Dense(1024)(h)\n",
    "    h = Dropout(0.5)(LeakyReLU()(h))\n",
    "    h = BatchNormalization()(h)\n",
    "\n",
    "    h = Dense(2048)(h)\n",
    "    h = Dropout(0.5)(LeakyReLU()(h))\n",
    "    h = BatchNormalization()(h)\n",
    "    \n",
    "    h = Dense(1024)(h)\n",
    "    h = Dropout(0.5)(LeakyReLU()(h))\n",
    "    h = BatchNormalization()(h)\n",
    "\n",
    "    h = Dense(128)(h)\n",
    "    h = Dropout(0.5)(LeakyReLU()(h))\n",
    "\n",
    "    h = Dense(1)(h)\n",
    "    y = Activation('sigmoid')(h)\n",
    "    \n",
    "\n",
    "    return y"
   ]
  },
  {
   "cell_type": "code",
   "execution_count": 34,
   "metadata": {
    "collapsed": true
   },
   "outputs": [],
   "source": [
    "x = Input(shape=(raveled_train.shape[1], ))\n",
    "raveled_dnn = Model(x, build_simple_dnn(x))\n",
    "raveled_dnn.compile('adam', 'binary_crossentropy', metrics=['acc'])"
   ]
  },
  {
   "cell_type": "code",
   "execution_count": 35,
   "metadata": {
    "scrolled": true
   },
   "outputs": [
    {
     "name": "stdout",
     "output_type": "stream",
     "text": [
      "_________________________________________________________________\n",
      "Layer (type)                 Output Shape              Param #   \n",
      "=================================================================\n",
      "input_5 (InputLayer)         (None, 504)               0         \n",
      "_________________________________________________________________\n",
      "dense_9 (Dense)              (None, 512)               258560    \n",
      "_________________________________________________________________\n",
      "leaky_re_lu_6 (LeakyReLU)    (None, 512)               0         \n",
      "_________________________________________________________________\n",
      "dropout_19 (Dropout)         (None, 512)               0         \n",
      "_________________________________________________________________\n",
      "batch_normalization_17 (Batc (None, 512)               2048      \n",
      "_________________________________________________________________\n",
      "dense_10 (Dense)             (None, 1024)              525312    \n",
      "_________________________________________________________________\n",
      "leaky_re_lu_7 (LeakyReLU)    (None, 1024)              0         \n",
      "_________________________________________________________________\n",
      "dropout_20 (Dropout)         (None, 1024)              0         \n",
      "_________________________________________________________________\n",
      "batch_normalization_18 (Batc (None, 1024)              4096      \n",
      "_________________________________________________________________\n",
      "dense_11 (Dense)             (None, 2048)              2099200   \n",
      "_________________________________________________________________\n",
      "leaky_re_lu_8 (LeakyReLU)    (None, 2048)              0         \n",
      "_________________________________________________________________\n",
      "dropout_21 (Dropout)         (None, 2048)              0         \n",
      "_________________________________________________________________\n",
      "batch_normalization_19 (Batc (None, 2048)              8192      \n",
      "_________________________________________________________________\n",
      "dense_12 (Dense)             (None, 1024)              2098176   \n",
      "_________________________________________________________________\n",
      "leaky_re_lu_9 (LeakyReLU)    (None, 1024)              0         \n",
      "_________________________________________________________________\n",
      "dropout_22 (Dropout)         (None, 1024)              0         \n",
      "_________________________________________________________________\n",
      "batch_normalization_20 (Batc (None, 1024)              4096      \n",
      "_________________________________________________________________\n",
      "dense_13 (Dense)             (None, 128)               131200    \n",
      "_________________________________________________________________\n",
      "leaky_re_lu_10 (LeakyReLU)   (None, 128)               0         \n",
      "_________________________________________________________________\n",
      "dropout_23 (Dropout)         (None, 128)               0         \n",
      "_________________________________________________________________\n",
      "dense_14 (Dense)             (None, 1)                 129       \n",
      "_________________________________________________________________\n",
      "activation_15 (Activation)   (None, 1)                 0         \n",
      "=================================================================\n",
      "Total params: 5,131,009\n",
      "Trainable params: 5,121,793\n",
      "Non-trainable params: 9,216\n",
      "_________________________________________________________________\n"
     ]
    }
   ],
   "source": [
    "raveled_dnn.summary()"
   ]
  },
  {
   "cell_type": "code",
   "execution_count": 36,
   "metadata": {
    "collapsed": true
   },
   "outputs": [],
   "source": [
    "callbacks = [\n",
    "    EarlyStopping(verbose=True, patience=10, monitor='val_loss'),\n",
    "    ModelCheckpoint('PixVec{}vs{}-raveled-chkpt.h5'.format(CLASS_ONE, CLASS_TWO),\n",
    "                    monitor='val_loss', verbose=True, save_best_only=True),\n",
    "]"
   ]
  },
  {
   "cell_type": "code",
   "execution_count": 34,
   "metadata": {
    "scrolled": true
   },
   "outputs": [
    {
     "name": "stdout",
     "output_type": "stream",
     "text": [
      "Train on 441000 samples, validate on 189000 samples\n",
      "Epoch 1/100\n",
      "440832/441000 [============================>.] - ETA: 0s - loss: 0.6343 - acc: 0.6203Epoch 00000: val_loss improved from inf to 0.60672, saving model to PixVecpiplusvseplus-raveled-chkpt.h5\n",
      "441000/441000 [==============================] - 42s - loss: 0.6343 - acc: 0.6203 - val_loss: 0.6067 - val_acc: 0.6355\n",
      "Epoch 2/100\n",
      "440832/441000 [============================>.] - ETA: 0s - loss: 0.6110 - acc: 0.6335Epoch 00001: val_loss improved from 0.60672 to 0.60587, saving model to PixVecpiplusvseplus-raveled-chkpt.h5\n",
      "441000/441000 [==============================] - 40s - loss: 0.6110 - acc: 0.6335 - val_loss: 0.6059 - val_acc: 0.6383\n",
      "Epoch 3/100\n",
      "440832/441000 [============================>.] - ETA: 0s - loss: 0.6101 - acc: 0.6334Epoch 00002: val_loss did not improve\n",
      "441000/441000 [==============================] - 40s - loss: 0.6101 - acc: 0.6334 - val_loss: 0.6061 - val_acc: 0.6380\n",
      "Epoch 4/100\n",
      "440704/441000 [============================>.] - ETA: 0s - loss: 0.6088 - acc: 0.6353Epoch 00003: val_loss improved from 0.60587 to 0.60450, saving model to PixVecpiplusvseplus-raveled-chkpt.h5\n",
      "441000/441000 [==============================] - 41s - loss: 0.6088 - acc: 0.6353 - val_loss: 0.6045 - val_acc: 0.6383\n",
      "Epoch 5/100\n",
      "440832/441000 [============================>.] - ETA: 0s - loss: 0.6077 - acc: 0.6364Epoch 00004: val_loss improved from 0.60450 to 0.60213, saving model to PixVecpiplusvseplus-raveled-chkpt.h5\n",
      "441000/441000 [==============================] - 41s - loss: 0.6077 - acc: 0.6364 - val_loss: 0.6021 - val_acc: 0.6391\n",
      "Epoch 6/100\n",
      "440704/441000 [============================>.] - ETA: 0s - loss: 0.6073 - acc: 0.6364Epoch 00005: val_loss improved from 0.60213 to 0.60213, saving model to PixVecpiplusvseplus-raveled-chkpt.h5\n",
      "441000/441000 [==============================] - 41s - loss: 0.6072 - acc: 0.6364 - val_loss: 0.6021 - val_acc: 0.6404\n",
      "Epoch 7/100\n",
      "440320/441000 [============================>.] - ETA: 0s - loss: 0.6069 - acc: 0.6369Epoch 00006: val_loss improved from 0.60213 to 0.60210, saving model to PixVecpiplusvseplus-raveled-chkpt.h5\n",
      "441000/441000 [==============================] - 41s - loss: 0.6070 - acc: 0.6369 - val_loss: 0.6021 - val_acc: 0.6402\n",
      "Epoch 8/100\n",
      "440576/441000 [============================>.] - ETA: 0s - loss: 0.6060 - acc: 0.6380Epoch 00007: val_loss improved from 0.60210 to 0.60195, saving model to PixVecpiplusvseplus-raveled-chkpt.h5\n",
      "441000/441000 [==============================] - 41s - loss: 0.6060 - acc: 0.6380 - val_loss: 0.6019 - val_acc: 0.6401\n",
      "Epoch 9/100\n",
      "440960/441000 [============================>.] - ETA: 0s - loss: 0.6055 - acc: 0.6378Epoch 00008: val_loss improved from 0.60195 to 0.60169, saving model to PixVecpiplusvseplus-raveled-chkpt.h5\n",
      "441000/441000 [==============================] - 41s - loss: 0.6055 - acc: 0.6378 - val_loss: 0.6017 - val_acc: 0.6396\n",
      "Epoch 10/100\n",
      "440832/441000 [============================>.] - ETA: 0s - loss: 0.6053 - acc: 0.6382Epoch 00009: val_loss improved from 0.60169 to 0.60076, saving model to PixVecpiplusvseplus-raveled-chkpt.h5\n",
      "441000/441000 [==============================] - 40s - loss: 0.6053 - acc: 0.6382 - val_loss: 0.6008 - val_acc: 0.6405\n",
      "Epoch 11/100\n",
      "440832/441000 [============================>.] - ETA: 0s - loss: 0.6045 - acc: 0.6386Epoch 00010: val_loss improved from 0.60076 to 0.60068, saving model to PixVecpiplusvseplus-raveled-chkpt.h5\n",
      "441000/441000 [==============================] - 41s - loss: 0.6046 - acc: 0.6386 - val_loss: 0.6007 - val_acc: 0.6403\n",
      "Epoch 12/100\n",
      "440960/441000 [============================>.] - ETA: 0s - loss: 0.6044 - acc: 0.6392Epoch 00011: val_loss improved from 0.60068 to 0.60028, saving model to PixVecpiplusvseplus-raveled-chkpt.h5\n",
      "441000/441000 [==============================] - 42s - loss: 0.6044 - acc: 0.6392 - val_loss: 0.6003 - val_acc: 0.6413\n",
      "Epoch 13/100\n",
      "440448/441000 [============================>.] - ETA: 0s - loss: 0.6039 - acc: 0.6393Epoch 00012: val_loss did not improve\n",
      "441000/441000 [==============================] - 41s - loss: 0.6039 - acc: 0.6393 - val_loss: 0.6011 - val_acc: 0.6419\n",
      "Epoch 14/100\n",
      "145024/441000 [========>.....................] - ETA: 25s - loss: 0.6045 - acc: 0.6376ending early\n"
     ]
    }
   ],
   "source": [
    "try:\n",
    "    raveled_dnn.fit(raveled_train, labels_train, callbacks=callbacks, verbose=True,\n",
    "                          validation_split=0.3, batch_size=128, epochs=100)\n",
    "except KeyboardInterrupt:\n",
    "    print 'ending early'"
   ]
  },
  {
   "cell_type": "code",
   "execution_count": 37,
   "metadata": {
    "collapsed": true
   },
   "outputs": [],
   "source": [
    "raveled_dnn.load_weights('PixVec{}vs{}-raveled-chkpt.h5'.format(CLASS_ONE, CLASS_TWO))\n",
    "raveled_dnn.save_weights('PixVec{}vs{}-raveled-final.h5'.format(CLASS_ONE, CLASS_TWO))"
   ]
  },
  {
   "cell_type": "code",
   "execution_count": 38,
   "metadata": {
    "collapsed": true
   },
   "outputs": [],
   "source": [
    "raveled_dnn.load_weights('PixVec{}vs{}-raveled-final.h5'.format(CLASS_ONE, CLASS_TWO))"
   ]
  },
  {
   "cell_type": "code",
   "execution_count": 39,
   "metadata": {},
   "outputs": [
    {
     "name": "stdout",
     "output_type": "stream",
     "text": [
      "269856/270000 [============================>.] - ETA: 0s"
     ]
    }
   ],
   "source": [
    "yhat_raveled_dnn = raveled_dnn.predict(raveled_test, verbose=True).ravel()"
   ]
  },
  {
   "cell_type": "markdown",
   "metadata": {
    "collapsed": true
   },
   "source": [
    "# Train DenseNet"
   ]
  },
  {
   "cell_type": "code",
   "execution_count": 40,
   "metadata": {
    "collapsed": true
   },
   "outputs": [],
   "source": [
    "import sys"
   ]
  },
  {
   "cell_type": "code",
   "execution_count": 41,
   "metadata": {
    "collapsed": true
   },
   "outputs": [],
   "source": [
    "sys.path.append('/home/micky/keras-contrib')"
   ]
  },
  {
   "cell_type": "code",
   "execution_count": 42,
   "metadata": {},
   "outputs": [
    {
     "name": "stdout",
     "output_type": "stream",
     "text": [
      "/home/micky/keras-contrib/keras_contrib/applications\n",
      "/home/micky/CaloGAN/classification\n"
     ]
    }
   ],
   "source": [
    "% cd ~/keras-contrib/keras_contrib/applications/\n",
    "% run densenet.py\n",
    "#from densenet import DenseNet as build_densenet\n",
    "% cd /home/micky/CaloGAN/classification/"
   ]
  },
  {
   "cell_type": "code",
   "execution_count": 43,
   "metadata": {
    "collapsed": true
   },
   "outputs": [],
   "source": [
    "build_densenet = DenseNet"
   ]
  },
  {
   "cell_type": "code",
   "execution_count": 63,
   "metadata": {
    "collapsed": true
   },
   "outputs": [],
   "source": [
    "# to support 1 channel images, just comment out the input_shape = _obtain_input_shape part\n",
    "# just set the input_shape when you build the model (risky without checks)"
   ]
  },
  {
   "cell_type": "code",
   "execution_count": 18,
   "metadata": {},
   "outputs": [
    {
     "name": "stderr",
     "output_type": "stream",
     "text": [
      "densenet.py:507: UserWarning: Update your `Dense` call to the Keras 2 API: `Dense(1, kernel_regularizer=<keras.reg..., activation=\"sigmoid\", bias_regularizer=<keras.reg...)`\n"
     ]
    }
   ],
   "source": [
    "dnet1 = build_densenet(weights=None, classes=1, activation='sigmoid',\n",
    "                       input_shape=(12, 12, 1), nb_dense_block=1,\n",
    "                      include_top=True)"
   ]
  },
  {
   "cell_type": "code",
   "execution_count": 20,
   "metadata": {
    "scrolled": true
   },
   "outputs": [
    {
     "name": "stdout",
     "output_type": "stream",
     "text": [
      "____________________________________________________________________________________________________\n",
      "Layer (type)                     Output Shape          Param #     Connected to                     \n",
      "====================================================================================================\n",
      "input_1 (InputLayer)             (None, 12, 12, 1)     0                                            \n",
      "____________________________________________________________________________________________________\n",
      "initial_conv2D (Conv2D)          (None, 12, 12, 16)    144         input_1[0][0]                    \n",
      "____________________________________________________________________________________________________\n",
      "batch_normalization_1 (BatchNorm (None, 12, 12, 16)    64          initial_conv2D[0][0]             \n",
      "____________________________________________________________________________________________________\n",
      "activation_1 (Activation)        (None, 12, 12, 16)    0           batch_normalization_1[0][0]      \n",
      "____________________________________________________________________________________________________\n",
      "conv2d_1 (Conv2D)                (None, 12, 12, 12)    1728        activation_1[0][0]               \n",
      "____________________________________________________________________________________________________\n",
      "concatenate_1 (Concatenate)      (None, 12, 12, 28)    0           initial_conv2D[0][0]             \n",
      "                                                                   conv2d_1[0][0]                   \n",
      "____________________________________________________________________________________________________\n",
      "batch_normalization_2 (BatchNorm (None, 12, 12, 28)    112         concatenate_1[0][0]              \n",
      "____________________________________________________________________________________________________\n",
      "activation_2 (Activation)        (None, 12, 12, 28)    0           batch_normalization_2[0][0]      \n",
      "____________________________________________________________________________________________________\n",
      "conv2d_2 (Conv2D)                (None, 12, 12, 12)    3024        activation_2[0][0]               \n",
      "____________________________________________________________________________________________________\n",
      "concatenate_2 (Concatenate)      (None, 12, 12, 40)    0           concatenate_1[0][0]              \n",
      "                                                                   conv2d_2[0][0]                   \n",
      "____________________________________________________________________________________________________\n",
      "batch_normalization_3 (BatchNorm (None, 12, 12, 40)    160         concatenate_2[0][0]              \n",
      "____________________________________________________________________________________________________\n",
      "activation_3 (Activation)        (None, 12, 12, 40)    0           batch_normalization_3[0][0]      \n",
      "____________________________________________________________________________________________________\n",
      "conv2d_3 (Conv2D)                (None, 12, 12, 12)    4320        activation_3[0][0]               \n",
      "____________________________________________________________________________________________________\n",
      "concatenate_3 (Concatenate)      (None, 12, 12, 52)    0           concatenate_2[0][0]              \n",
      "                                                                   conv2d_3[0][0]                   \n",
      "____________________________________________________________________________________________________\n",
      "batch_normalization_4 (BatchNorm (None, 12, 12, 52)    208         concatenate_3[0][0]              \n",
      "____________________________________________________________________________________________________\n",
      "activation_4 (Activation)        (None, 12, 12, 52)    0           batch_normalization_4[0][0]      \n",
      "____________________________________________________________________________________________________\n",
      "conv2d_4 (Conv2D)                (None, 12, 12, 12)    5616        activation_4[0][0]               \n",
      "____________________________________________________________________________________________________\n",
      "concatenate_4 (Concatenate)      (None, 12, 12, 64)    0           concatenate_3[0][0]              \n",
      "                                                                   conv2d_4[0][0]                   \n",
      "____________________________________________________________________________________________________\n",
      "batch_normalization_5 (BatchNorm (None, 12, 12, 64)    256         concatenate_4[0][0]              \n",
      "____________________________________________________________________________________________________\n",
      "activation_5 (Activation)        (None, 12, 12, 64)    0           batch_normalization_5[0][0]      \n",
      "____________________________________________________________________________________________________\n",
      "conv2d_5 (Conv2D)                (None, 12, 12, 12)    6912        activation_5[0][0]               \n",
      "____________________________________________________________________________________________________\n",
      "concatenate_5 (Concatenate)      (None, 12, 12, 76)    0           concatenate_4[0][0]              \n",
      "                                                                   conv2d_5[0][0]                   \n",
      "____________________________________________________________________________________________________\n",
      "batch_normalization_6 (BatchNorm (None, 12, 12, 76)    304         concatenate_5[0][0]              \n",
      "____________________________________________________________________________________________________\n",
      "activation_6 (Activation)        (None, 12, 12, 76)    0           batch_normalization_6[0][0]      \n",
      "____________________________________________________________________________________________________\n",
      "conv2d_6 (Conv2D)                (None, 12, 12, 12)    8208        activation_6[0][0]               \n",
      "____________________________________________________________________________________________________\n",
      "concatenate_6 (Concatenate)      (None, 12, 12, 88)    0           concatenate_5[0][0]              \n",
      "                                                                   conv2d_6[0][0]                   \n",
      "____________________________________________________________________________________________________\n",
      "batch_normalization_7 (BatchNorm (None, 12, 12, 88)    352         concatenate_6[0][0]              \n",
      "____________________________________________________________________________________________________\n",
      "activation_7 (Activation)        (None, 12, 12, 88)    0           batch_normalization_7[0][0]      \n",
      "____________________________________________________________________________________________________\n",
      "conv2d_7 (Conv2D)                (None, 12, 12, 12)    9504        activation_7[0][0]               \n",
      "____________________________________________________________________________________________________\n",
      "concatenate_7 (Concatenate)      (None, 12, 12, 100)   0           concatenate_6[0][0]              \n",
      "                                                                   conv2d_7[0][0]                   \n",
      "____________________________________________________________________________________________________\n",
      "batch_normalization_8 (BatchNorm (None, 12, 12, 100)   400         concatenate_7[0][0]              \n",
      "____________________________________________________________________________________________________\n",
      "activation_8 (Activation)        (None, 12, 12, 100)   0           batch_normalization_8[0][0]      \n",
      "____________________________________________________________________________________________________\n",
      "conv2d_8 (Conv2D)                (None, 12, 12, 12)    10800       activation_8[0][0]               \n",
      "____________________________________________________________________________________________________\n",
      "concatenate_8 (Concatenate)      (None, 12, 12, 112)   0           concatenate_7[0][0]              \n",
      "                                                                   conv2d_8[0][0]                   \n",
      "____________________________________________________________________________________________________\n",
      "batch_normalization_9 (BatchNorm (None, 12, 12, 112)   448         concatenate_8[0][0]              \n",
      "____________________________________________________________________________________________________\n",
      "activation_9 (Activation)        (None, 12, 12, 112)   0           batch_normalization_9[0][0]      \n",
      "____________________________________________________________________________________________________\n",
      "conv2d_9 (Conv2D)                (None, 12, 12, 12)    12096       activation_9[0][0]               \n",
      "____________________________________________________________________________________________________\n",
      "concatenate_9 (Concatenate)      (None, 12, 12, 124)   0           concatenate_8[0][0]              \n",
      "                                                                   conv2d_9[0][0]                   \n",
      "____________________________________________________________________________________________________\n",
      "batch_normalization_10 (BatchNor (None, 12, 12, 124)   496         concatenate_9[0][0]              \n",
      "____________________________________________________________________________________________________\n",
      "activation_10 (Activation)       (None, 12, 12, 124)   0           batch_normalization_10[0][0]     \n",
      "____________________________________________________________________________________________________\n",
      "conv2d_10 (Conv2D)               (None, 12, 12, 12)    13392       activation_10[0][0]              \n",
      "____________________________________________________________________________________________________\n",
      "concatenate_10 (Concatenate)     (None, 12, 12, 136)   0           concatenate_9[0][0]              \n",
      "                                                                   conv2d_10[0][0]                  \n",
      "____________________________________________________________________________________________________\n",
      "batch_normalization_11 (BatchNor (None, 12, 12, 136)   544         concatenate_10[0][0]             \n",
      "____________________________________________________________________________________________________\n",
      "activation_11 (Activation)       (None, 12, 12, 136)   0           batch_normalization_11[0][0]     \n",
      "____________________________________________________________________________________________________\n",
      "conv2d_11 (Conv2D)               (None, 12, 12, 12)    14688       activation_11[0][0]              \n",
      "____________________________________________________________________________________________________\n",
      "concatenate_11 (Concatenate)     (None, 12, 12, 148)   0           concatenate_10[0][0]             \n",
      "                                                                   conv2d_11[0][0]                  \n",
      "____________________________________________________________________________________________________\n",
      "batch_normalization_12 (BatchNor (None, 12, 12, 148)   592         concatenate_11[0][0]             \n",
      "____________________________________________________________________________________________________\n",
      "activation_12 (Activation)       (None, 12, 12, 148)   0           batch_normalization_12[0][0]     \n",
      "____________________________________________________________________________________________________\n",
      "conv2d_12 (Conv2D)               (None, 12, 12, 12)    15984       activation_12[0][0]              \n",
      "____________________________________________________________________________________________________\n",
      "concatenate_12 (Concatenate)     (None, 12, 12, 160)   0           concatenate_11[0][0]             \n",
      "                                                                   conv2d_12[0][0]                  \n",
      "____________________________________________________________________________________________________\n",
      "batch_normalization_13 (BatchNor (None, 12, 12, 160)   640         concatenate_12[0][0]             \n",
      "____________________________________________________________________________________________________\n",
      "activation_13 (Activation)       (None, 12, 12, 160)   0           batch_normalization_13[0][0]     \n",
      "____________________________________________________________________________________________________\n",
      "global_average_pooling2d_1 (Glob (None, 160)           0           activation_13[0][0]              \n",
      "____________________________________________________________________________________________________\n",
      "dense_1 (Dense)                  (None, 1)             161         global_average_pooling2d_1[0][0] \n",
      "====================================================================================================\n",
      "Total params: 111,153\n",
      "Trainable params: 108,865\n",
      "Non-trainable params: 2,288\n",
      "____________________________________________________________________________________________________\n"
     ]
    }
   ],
   "source": [
    "dnet1.summary()"
   ]
  },
  {
   "cell_type": "code",
   "execution_count": 21,
   "metadata": {
    "collapsed": true
   },
   "outputs": [],
   "source": [
    "#from keras.utils.vis_utils import plot_model"
   ]
  },
  {
   "cell_type": "code",
   "execution_count": 22,
   "metadata": {
    "collapsed": true
   },
   "outputs": [],
   "source": [
    "#plot_model(dnet, to_file='dnet.png', show_shapes=True)"
   ]
  },
  {
   "cell_type": "code",
   "execution_count": 23,
   "metadata": {
    "collapsed": true,
    "scrolled": true
   },
   "outputs": [],
   "source": [
    "#from IPython.display import Image\n",
    "#Image(filename='dnet.png') "
   ]
  },
  {
   "cell_type": "code",
   "execution_count": 19,
   "metadata": {
    "collapsed": true
   },
   "outputs": [],
   "source": [
    "dnet1.compile('adam', 'binary_crossentropy', metrics=['acc'])"
   ]
  },
  {
   "cell_type": "code",
   "execution_count": 25,
   "metadata": {
    "collapsed": true
   },
   "outputs": [],
   "source": [
    "callbacks = [\n",
    "    EarlyStopping(verbose=True, patience=20, monitor='val_loss'),\n",
    "    ModelCheckpoint('DenseNet1{}vs{}-chkpt.h5'.format(CLASS_ONE, CLASS_TWO),\n",
    "                    monitor='val_loss', verbose=True, save_best_only=True),\n",
    "]"
   ]
  },
  {
   "cell_type": "code",
   "execution_count": 30,
   "metadata": {
    "scrolled": true
   },
   "outputs": [
    {
     "name": "stdout",
     "output_type": "stream",
     "text": [
      "Train on 489999 samples, validate on 210001 samples\n",
      "Epoch 1/100\n",
      "489984/489999 [============================>.] - ETA: 0s - loss: 0.0304 - acc: 0.9937Epoch 00000: val_loss improved from inf to 0.08401, saving model to DenseNet1piplusvseplus-chkpt.h5\n",
      "489999/489999 [==============================] - 127s - loss: 0.0304 - acc: 0.9937 - val_loss: 0.0840 - val_acc: 0.9794\n",
      "Epoch 2/100\n",
      "489984/489999 [============================>.] - ETA: 0s - loss: 0.0300 - acc: 0.9938Epoch 00001: val_loss did not improve\n",
      "489999/489999 [==============================] - 125s - loss: 0.0300 - acc: 0.9938 - val_loss: 0.1758 - val_acc: 0.9652\n",
      "Epoch 3/100\n",
      "489984/489999 [============================>.] - ETA: 0s - loss: 0.0294 - acc: 0.9939Epoch 00002: val_loss did not improve\n",
      "489999/489999 [==============================] - 126s - loss: 0.0294 - acc: 0.9939 - val_loss: 1.3075 - val_acc: 0.7699\n",
      "Epoch 4/100\n",
      "489984/489999 [============================>.] - ETA: 0s - loss: 0.0288 - acc: 0.9940Epoch 00003: val_loss improved from 0.08401 to 0.05300, saving model to DenseNet1piplusvseplus-chkpt.h5\n",
      "489999/489999 [==============================] - 126s - loss: 0.0288 - acc: 0.9940 - val_loss: 0.0530 - val_acc: 0.9866\n",
      "Epoch 5/100\n",
      "489984/489999 [============================>.] - ETA: 0s - loss: 0.0288 - acc: 0.9939Epoch 00004: val_loss did not improve\n",
      "489999/489999 [==============================] - 125s - loss: 0.0288 - acc: 0.9939 - val_loss: 1.3921 - val_acc: 0.7879\n",
      "Epoch 6/100\n",
      "489984/489999 [============================>.] - ETA: 0s - loss: 0.0286 - acc: 0.9939Epoch 00005: val_loss did not improve\n",
      "489999/489999 [==============================] - 125s - loss: 0.0286 - acc: 0.9939 - val_loss: 0.1766 - val_acc: 0.9405\n",
      "Epoch 7/100\n",
      "489984/489999 [============================>.] - ETA: 0s - loss: 0.0282 - acc: 0.9939Epoch 00006: val_loss improved from 0.05300 to 0.04646, saving model to DenseNet1piplusvseplus-chkpt.h5\n",
      "489999/489999 [==============================] - 125s - loss: 0.0282 - acc: 0.9939 - val_loss: 0.0465 - val_acc: 0.9862\n",
      "Epoch 8/100\n",
      "489984/489999 [============================>.] - ETA: 0s - loss: 0.0284 - acc: 0.9939Epoch 00007: val_loss did not improve\n",
      "489999/489999 [==============================] - 125s - loss: 0.0284 - acc: 0.9939 - val_loss: 0.0933 - val_acc: 0.9726\n",
      "Epoch 9/100\n",
      "489984/489999 [============================>.] - ETA: 0s - loss: 0.0279 - acc: 0.9941Epoch 00008: val_loss improved from 0.04646 to 0.03845, saving model to DenseNet1piplusvseplus-chkpt.h5\n",
      "489999/489999 [==============================] - 125s - loss: 0.0279 - acc: 0.9941 - val_loss: 0.0385 - val_acc: 0.9902\n",
      "Epoch 10/100\n",
      "489984/489999 [============================>.] - ETA: 0s - loss: 0.0279 - acc: 0.9941Epoch 00009: val_loss did not improve\n",
      "489999/489999 [==============================] - 125s - loss: 0.0279 - acc: 0.9941 - val_loss: 0.0537 - val_acc: 0.9852\n",
      "Epoch 11/100\n",
      "489984/489999 [============================>.] - ETA: 0s - loss: 0.0279 - acc: 0.9939Epoch 00010: val_loss did not improve\n",
      "489999/489999 [==============================] - 125s - loss: 0.0279 - acc: 0.9939 - val_loss: 0.2248 - val_acc: 0.9220\n",
      "Epoch 12/100\n",
      "489984/489999 [============================>.] - ETA: 0s - loss: 0.0275 - acc: 0.9941Epoch 00011: val_loss did not improve\n",
      "489999/489999 [==============================] - 125s - loss: 0.0275 - acc: 0.9941 - val_loss: 0.1564 - val_acc: 0.9472\n",
      "Epoch 13/100\n",
      "489984/489999 [============================>.] - ETA: 0s - loss: 0.0275 - acc: 0.9940Epoch 00012: val_loss did not improve\n",
      "489999/489999 [==============================] - 125s - loss: 0.0275 - acc: 0.9940 - val_loss: 0.2013 - val_acc: 0.9516\n",
      "Epoch 14/100\n",
      "489984/489999 [============================>.] - ETA: 0s - loss: 0.0274 - acc: 0.9941Epoch 00013: val_loss did not improve\n",
      "489999/489999 [==============================] - 126s - loss: 0.0274 - acc: 0.9941 - val_loss: 0.5369 - val_acc: 0.9107\n",
      "Epoch 15/100\n",
      "489984/489999 [============================>.] - ETA: 0s - loss: 0.0271 - acc: 0.9942Epoch 00014: val_loss did not improve\n",
      "489999/489999 [==============================] - 126s - loss: 0.0271 - acc: 0.9942 - val_loss: 0.1172 - val_acc: 0.9643\n",
      "Epoch 16/100\n",
      "489984/489999 [============================>.] - ETA: 0s - loss: 0.0269 - acc: 0.9941Epoch 00015: val_loss did not improve\n",
      "489999/489999 [==============================] - 126s - loss: 0.0270 - acc: 0.9941 - val_loss: 0.3817 - val_acc: 0.9323\n",
      "Epoch 17/100\n",
      "489984/489999 [============================>.] - ETA: 0s - loss: 0.0272 - acc: 0.9942Epoch 00016: val_loss did not improve\n",
      "489999/489999 [==============================] - 126s - loss: 0.0272 - acc: 0.9942 - val_loss: 0.8494 - val_acc: 0.7958\n",
      "Epoch 18/100\n",
      "489984/489999 [============================>.] - ETA: 0s - loss: 0.0267 - acc: 0.9942Epoch 00017: val_loss did not improve\n",
      "489999/489999 [==============================] - 126s - loss: 0.0267 - acc: 0.9942 - val_loss: 0.0941 - val_acc: 0.9779\n",
      "Epoch 19/100\n",
      "489984/489999 [============================>.] - ETA: 0s - loss: 0.0271 - acc: 0.9941Epoch 00018: val_loss did not improve\n",
      "489999/489999 [==============================] - 126s - loss: 0.0271 - acc: 0.9941 - val_loss: 0.2104 - val_acc: 0.9416\n",
      "Epoch 20/100\n",
      "489984/489999 [============================>.] - ETA: 0s - loss: 0.0266 - acc: 0.9942Epoch 00019: val_loss improved from 0.03845 to 0.03463, saving model to DenseNet1piplusvseplus-chkpt.h5\n",
      "489999/489999 [==============================] - 126s - loss: 0.0266 - acc: 0.9942 - val_loss: 0.0346 - val_acc: 0.9918\n",
      "Epoch 21/100\n",
      "489984/489999 [============================>.] - ETA: 0s - loss: 0.0265 - acc: 0.9942Epoch 00020: val_loss did not improve\n",
      "489999/489999 [==============================] - 126s - loss: 0.0265 - acc: 0.9942 - val_loss: 0.0352 - val_acc: 0.9906\n",
      "Epoch 22/100\n",
      "489984/489999 [============================>.] - ETA: 0s - loss: 0.0269 - acc: 0.9941Epoch 00021: val_loss did not improve\n",
      "489999/489999 [==============================] - 126s - loss: 0.0269 - acc: 0.9941 - val_loss: 0.1083 - val_acc: 0.9786\n",
      "Epoch 23/100\n",
      "489984/489999 [============================>.] - ETA: 0s - loss: 0.0264 - acc: 0.9943Epoch 00022: val_loss did not improve\n",
      "489999/489999 [==============================] - 126s - loss: 0.0264 - acc: 0.9943 - val_loss: 0.4564 - val_acc: 0.8818\n",
      "Epoch 24/100\n",
      "489984/489999 [============================>.] - ETA: 0s - loss: 0.0264 - acc: 0.9942Epoch 00023: val_loss did not improve\n",
      "489999/489999 [==============================] - 126s - loss: 0.0264 - acc: 0.9942 - val_loss: 0.0544 - val_acc: 0.9873\n",
      "Epoch 25/100\n",
      "489984/489999 [============================>.] - ETA: 0s - loss: 0.0264 - acc: 0.9942Epoch 00024: val_loss did not improve\n",
      "489999/489999 [==============================] - 126s - loss: 0.0265 - acc: 0.9942 - val_loss: 0.3428 - val_acc: 0.9359\n",
      "Epoch 26/100\n",
      "489984/489999 [============================>.] - ETA: 0s - loss: 0.0270 - acc: 0.9940Epoch 00025: val_loss did not improve\n",
      "489999/489999 [==============================] - 126s - loss: 0.0270 - acc: 0.9940 - val_loss: 0.4166 - val_acc: 0.8935\n",
      "Epoch 27/100\n",
      "489984/489999 [============================>.] - ETA: 0s - loss: 0.0262 - acc: 0.9942Epoch 00026: val_loss did not improve\n",
      "489999/489999 [==============================] - 126s - loss: 0.0262 - acc: 0.9942 - val_loss: 0.0407 - val_acc: 0.9897\n",
      "Epoch 28/100\n",
      "489984/489999 [============================>.] - ETA: 0s - loss: 0.0261 - acc: 0.9942Epoch 00027: val_loss did not improve\n",
      "489999/489999 [==============================] - 126s - loss: 0.0261 - acc: 0.9942 - val_loss: 0.2992 - val_acc: 0.8967\n",
      "Epoch 29/100\n",
      "489984/489999 [============================>.] - ETA: 0s - loss: 0.0262 - acc: 0.9943Epoch 00028: val_loss did not improve\n",
      "489999/489999 [==============================] - 126s - loss: 0.0262 - acc: 0.9943 - val_loss: 0.2714 - val_acc: 0.9292\n",
      "Epoch 30/100\n",
      "489984/489999 [============================>.] - ETA: 0s - loss: 0.0260 - acc: 0.9943Epoch 00029: val_loss did not improve\n",
      "489999/489999 [==============================] - 126s - loss: 0.0260 - acc: 0.9943 - val_loss: 0.1535 - val_acc: 0.9697\n",
      "Epoch 31/100\n",
      "489984/489999 [============================>.] - ETA: 0s - loss: 0.0259 - acc: 0.9943Epoch 00030: val_loss did not improve\n",
      "489999/489999 [==============================] - 126s - loss: 0.0259 - acc: 0.9943 - val_loss: 0.2747 - val_acc: 0.9565\n",
      "Epoch 32/100\n",
      "489984/489999 [============================>.] - ETA: 0s - loss: 0.0258 - acc: 0.9942Epoch 00031: val_loss did not improve\n",
      "489999/489999 [==============================] - 126s - loss: 0.0258 - acc: 0.9942 - val_loss: 0.0946 - val_acc: 0.9695\n",
      "Epoch 33/100\n",
      "489984/489999 [============================>.] - ETA: 0s - loss: 0.0258 - acc: 0.9942Epoch 00032: val_loss did not improve\n",
      "489999/489999 [==============================] - 126s - loss: 0.0258 - acc: 0.9942 - val_loss: 0.0800 - val_acc: 0.9787\n",
      "Epoch 34/100\n",
      "489984/489999 [============================>.] - ETA: 0s - loss: 0.0258 - acc: 0.9943Epoch 00033: val_loss did not improve\n",
      "489999/489999 [==============================] - 126s - loss: 0.0258 - acc: 0.9943 - val_loss: 0.9192 - val_acc: 0.7246\n",
      "Epoch 35/100\n",
      "489984/489999 [============================>.] - ETA: 0s - loss: 0.0336 - acc: 0.9921Epoch 00034: val_loss did not improve\n",
      "489999/489999 [==============================] - 126s - loss: 0.0336 - acc: 0.9921 - val_loss: 0.0402 - val_acc: 0.9900\n",
      "Epoch 36/100\n",
      "489984/489999 [============================>.] - ETA: 0s - loss: 0.0272 - acc: 0.9940Epoch 00035: val_loss did not improve\n",
      "489999/489999 [==============================] - 126s - loss: 0.0272 - acc: 0.9940 - val_loss: 0.0556 - val_acc: 0.9855\n",
      "Epoch 37/100\n",
      "489984/489999 [============================>.] - ETA: 0s - loss: 0.0264 - acc: 0.9942Epoch 00036: val_loss improved from 0.03463 to 0.03341, saving model to DenseNet1piplusvseplus-chkpt.h5\n",
      "489999/489999 [==============================] - 126s - loss: 0.0264 - acc: 0.9942 - val_loss: 0.0334 - val_acc: 0.9928\n",
      "Epoch 38/100\n",
      "489984/489999 [============================>.] - ETA: 0s - loss: 0.0260 - acc: 0.9942Epoch 00037: val_loss did not improve\n",
      "489999/489999 [==============================] - 126s - loss: 0.0260 - acc: 0.9942 - val_loss: 0.0418 - val_acc: 0.9896\n",
      "Epoch 39/100\n",
      "489984/489999 [============================>.] - ETA: 0s - loss: 0.0259 - acc: 0.9943Epoch 00038: val_loss did not improve\n",
      "489999/489999 [==============================] - 126s - loss: 0.0259 - acc: 0.9943 - val_loss: 0.1422 - val_acc: 0.9490\n",
      "Epoch 40/100\n",
      "489984/489999 [============================>.] - ETA: 0s - loss: 0.0257 - acc: 0.9944Epoch 00039: val_loss did not improve\n",
      "489999/489999 [==============================] - 126s - loss: 0.0257 - acc: 0.9944 - val_loss: 0.1183 - val_acc: 0.9590\n",
      "Epoch 41/100\n",
      "489984/489999 [============================>.] - ETA: 0s - loss: 0.0255 - acc: 0.9943Epoch 00040: val_loss did not improve\n",
      "489999/489999 [==============================] - 126s - loss: 0.0255 - acc: 0.9943 - val_loss: 0.0989 - val_acc: 0.9721\n",
      "Epoch 42/100\n",
      "489984/489999 [============================>.] - ETA: 0s - loss: 0.0255 - acc: 0.9943Epoch 00041: val_loss did not improve\n",
      "489999/489999 [==============================] - 126s - loss: 0.0255 - acc: 0.9943 - val_loss: 0.7811 - val_acc: 0.7953\n",
      "Epoch 43/100\n",
      "489984/489999 [============================>.] - ETA: 0s - loss: 0.0255 - acc: 0.9944Epoch 00042: val_loss did not improve\n",
      "489999/489999 [==============================] - 126s - loss: 0.0255 - acc: 0.9944 - val_loss: 0.1129 - val_acc: 0.9623\n",
      "Epoch 44/100\n",
      "489984/489999 [============================>.] - ETA: 0s - loss: 0.0254 - acc: 0.9944Epoch 00043: val_loss did not improve\n",
      "489999/489999 [==============================] - 126s - loss: 0.0254 - acc: 0.9944 - val_loss: 0.0447 - val_acc: 0.9880\n",
      "Epoch 45/100\n",
      "489984/489999 [============================>.] - ETA: 0s - loss: 0.0254 - acc: 0.9944Epoch 00044: val_loss did not improve\n",
      "489999/489999 [==============================] - 126s - loss: 0.0255 - acc: 0.9944 - val_loss: 1.8572 - val_acc: 0.7730\n",
      "Epoch 46/100\n",
      "489984/489999 [============================>.] - ETA: 0s - loss: 0.0261 - acc: 0.9942Epoch 00045: val_loss did not improve\n",
      "489999/489999 [==============================] - 126s - loss: 0.0261 - acc: 0.9942 - val_loss: 0.1687 - val_acc: 0.9604\n",
      "Epoch 47/100\n",
      "489984/489999 [============================>.] - ETA: 0s - loss: 0.0258 - acc: 0.9942Epoch 00046: val_loss did not improve\n",
      "489999/489999 [==============================] - 126s - loss: 0.0258 - acc: 0.9942 - val_loss: 0.6475 - val_acc: 0.8973\n",
      "Epoch 48/100\n",
      "489984/489999 [============================>.] - ETA: 0s - loss: 0.0253 - acc: 0.9944Epoch 00047: val_loss did not improve\n",
      "489999/489999 [==============================] - 126s - loss: 0.0253 - acc: 0.9944 - val_loss: 0.1166 - val_acc: 0.9707\n",
      "Epoch 49/100\n",
      "489984/489999 [============================>.] - ETA: 0s - loss: 0.0253 - acc: 0.9944Epoch 00048: val_loss did not improve\n",
      "489999/489999 [==============================] - 126s - loss: 0.0253 - acc: 0.9944 - val_loss: 0.0388 - val_acc: 0.9888\n",
      "Epoch 50/100\n",
      "489984/489999 [============================>.] - ETA: 0s - loss: 0.0252 - acc: 0.9944Epoch 00049: val_loss did not improve\n",
      "489999/489999 [==============================] - 126s - loss: 0.0252 - acc: 0.9944 - val_loss: 1.0034 - val_acc: 0.7657\n",
      "Epoch 51/100\n",
      "489984/489999 [============================>.] - ETA: 0s - loss: 0.0252 - acc: 0.9944Epoch 00050: val_loss did not improve\n",
      "489999/489999 [==============================] - 126s - loss: 0.0252 - acc: 0.9944 - val_loss: 0.0913 - val_acc: 0.9815\n",
      "Epoch 52/100\n",
      "489984/489999 [============================>.] - ETA: 0s - loss: 0.0249 - acc: 0.9944Epoch 00051: val_loss improved from 0.03341 to 0.03240, saving model to DenseNet1piplusvseplus-chkpt.h5\n",
      "489999/489999 [==============================] - 126s - loss: 0.0249 - acc: 0.9944 - val_loss: 0.0324 - val_acc: 0.9927\n",
      "Epoch 53/100\n",
      "489984/489999 [============================>.] - ETA: 0s - loss: 0.0254 - acc: 0.9944Epoch 00052: val_loss did not improve\n",
      "489999/489999 [==============================] - 126s - loss: 0.0254 - acc: 0.9944 - val_loss: 0.2112 - val_acc: 0.9637\n",
      "Epoch 54/100\n",
      "489984/489999 [============================>.] - ETA: 0s - loss: 0.0248 - acc: 0.9945Epoch 00053: val_loss did not improve\n",
      "489999/489999 [==============================] - 126s - loss: 0.0248 - acc: 0.9945 - val_loss: 0.0764 - val_acc: 0.9819\n",
      "Epoch 55/100\n",
      "489984/489999 [============================>.] - ETA: 0s - loss: 0.0256 - acc: 0.9942Epoch 00054: val_loss did not improve\n",
      "489999/489999 [==============================] - 126s - loss: 0.0256 - acc: 0.9941 - val_loss: 2.0979 - val_acc: 0.5144\n",
      "Epoch 56/100\n",
      "489984/489999 [============================>.] - ETA: 0s - loss: 0.0285 - acc: 0.9935Epoch 00055: val_loss did not improve\n",
      "489999/489999 [==============================] - 126s - loss: 0.0285 - acc: 0.9935 - val_loss: 0.1472 - val_acc: 0.9562\n",
      "Epoch 57/100\n",
      "489984/489999 [============================>.] - ETA: 0s - loss: 0.0252 - acc: 0.9945Epoch 00056: val_loss did not improve\n",
      "489999/489999 [==============================] - 126s - loss: 0.0252 - acc: 0.9945 - val_loss: 0.3062 - val_acc: 0.9372\n",
      "Epoch 58/100\n",
      "489984/489999 [============================>.] - ETA: 0s - loss: 0.0249 - acc: 0.9945Epoch 00057: val_loss did not improve\n",
      "489999/489999 [==============================] - 126s - loss: 0.0249 - acc: 0.9945 - val_loss: 0.9211 - val_acc: 0.7731\n",
      "Epoch 59/100\n",
      "489984/489999 [============================>.] - ETA: 0s - loss: 0.0251 - acc: 0.9943Epoch 00058: val_loss did not improve\n",
      "489999/489999 [==============================] - 126s - loss: 0.0251 - acc: 0.9943 - val_loss: 1.0202 - val_acc: 0.7124\n",
      "Epoch 60/100\n",
      "489984/489999 [============================>.] - ETA: 0s - loss: 0.0252 - acc: 0.9944Epoch 00059: val_loss did not improve\n",
      "489999/489999 [==============================] - 126s - loss: 0.0252 - acc: 0.9944 - val_loss: 0.4974 - val_acc: 0.8871\n",
      "Epoch 61/100\n",
      "489984/489999 [============================>.] - ETA: 0s - loss: 0.0249 - acc: 0.9945Epoch 00060: val_loss did not improve\n",
      "489999/489999 [==============================] - 126s - loss: 0.0249 - acc: 0.9945 - val_loss: 0.4810 - val_acc: 0.9043\n",
      "Epoch 62/100\n",
      "489984/489999 [============================>.] - ETA: 0s - loss: 0.0250 - acc: 0.9944Epoch 00061: val_loss did not improve\n",
      "489999/489999 [==============================] - 126s - loss: 0.0250 - acc: 0.9944 - val_loss: 0.1112 - val_acc: 0.9732\n",
      "Epoch 63/100\n"
     ]
    },
    {
     "name": "stdout",
     "output_type": "stream",
     "text": [
      "489984/489999 [============================>.] - ETA: 0s - loss: 0.0259 - acc: 0.9942Epoch 00062: val_loss did not improve\n",
      "489999/489999 [==============================] - 126s - loss: 0.0259 - acc: 0.9942 - val_loss: 1.5563 - val_acc: 0.5760\n",
      "Epoch 64/100\n",
      "489984/489999 [============================>.] - ETA: 0s - loss: 0.0249 - acc: 0.9945Epoch 00063: val_loss did not improve\n",
      "489999/489999 [==============================] - 126s - loss: 0.0249 - acc: 0.9945 - val_loss: 0.9741 - val_acc: 0.7414\n",
      "Epoch 65/100\n",
      "489984/489999 [============================>.] - ETA: 0s - loss: 0.0252 - acc: 0.9944Epoch 00064: val_loss did not improve\n",
      "489999/489999 [==============================] - 126s - loss: 0.0252 - acc: 0.9944 - val_loss: 0.0468 - val_acc: 0.9873\n",
      "Epoch 66/100\n",
      "489984/489999 [============================>.] - ETA: 0s - loss: 0.0248 - acc: 0.9944Epoch 00065: val_loss did not improve\n",
      "489999/489999 [==============================] - 126s - loss: 0.0248 - acc: 0.9944 - val_loss: 1.6008 - val_acc: 0.6975\n",
      "Epoch 67/100\n",
      "489984/489999 [============================>.] - ETA: 0s - loss: 0.0251 - acc: 0.9944Epoch 00066: val_loss did not improve\n",
      "489999/489999 [==============================] - 126s - loss: 0.0251 - acc: 0.9944 - val_loss: 2.1769 - val_acc: 0.6182\n",
      "Epoch 68/100\n",
      "489984/489999 [============================>.] - ETA: 0s - loss: 0.0247 - acc: 0.9945Epoch 00067: val_loss did not improve\n",
      "489999/489999 [==============================] - 126s - loss: 0.0247 - acc: 0.9945 - val_loss: 0.0353 - val_acc: 0.9914\n",
      "Epoch 69/100\n",
      "489984/489999 [============================>.] - ETA: 0s - loss: 0.0248 - acc: 0.9945Epoch 00068: val_loss did not improve\n",
      "489999/489999 [==============================] - 126s - loss: 0.0248 - acc: 0.9945 - val_loss: 0.0630 - val_acc: 0.9853\n",
      "Epoch 70/100\n",
      "489984/489999 [============================>.] - ETA: 0s - loss: 0.0248 - acc: 0.9944Epoch 00069: val_loss did not improve\n",
      "489999/489999 [==============================] - 126s - loss: 0.0248 - acc: 0.9944 - val_loss: 0.0496 - val_acc: 0.9871\n",
      "Epoch 71/100\n",
      "489984/489999 [============================>.] - ETA: 0s - loss: 0.0273 - acc: 0.9938Epoch 00070: val_loss did not improve\n",
      "489999/489999 [==============================] - 126s - loss: 0.0273 - acc: 0.9938 - val_loss: 0.2112 - val_acc: 0.9477\n",
      "Epoch 72/100\n",
      "489984/489999 [============================>.] - ETA: 0s - loss: 0.0247 - acc: 0.9946Epoch 00071: val_loss did not improve\n",
      "489999/489999 [==============================] - 126s - loss: 0.0247 - acc: 0.9946 - val_loss: 0.7036 - val_acc: 0.8278\n",
      "Epoch 73/100\n",
      "489984/489999 [============================>.] - ETA: 0s - loss: 0.0247 - acc: 0.9945Epoch 00072: val_loss did not improve\n",
      "489999/489999 [==============================] - 126s - loss: 0.0247 - acc: 0.9945 - val_loss: 0.0575 - val_acc: 0.9868\n",
      "Epoch 00072: early stopping\n"
     ]
    }
   ],
   "source": [
    "# Train a Dense Net only on the middle layer\n",
    "try:\n",
    "    dnet1.fit(data_train[1], labels_train, callbacks=callbacks, verbose=True,\n",
    "                  validation_split=0.3, batch_size=256, epochs=100)\n",
    "except KeyboardInterrupt:\n",
    "    print 'ending early'"
   ]
  },
  {
   "cell_type": "code",
   "execution_count": 20,
   "metadata": {
    "collapsed": true
   },
   "outputs": [],
   "source": [
    "dnet1.load_weights('DenseNet1{}vs{}-chkpt.h5'.format(CLASS_ONE, CLASS_TWO))\n",
    "dnet1.save_weights('DenseNet1{}vs{}-final.h5'.format(CLASS_ONE, CLASS_TWO))"
   ]
  },
  {
   "cell_type": "code",
   "execution_count": 22,
   "metadata": {
    "collapsed": true
   },
   "outputs": [],
   "source": [
    "dnet1.load_weights('DenseNet1{}vs{}-final.h5'.format(CLASS_ONE, CLASS_TWO))"
   ]
  },
  {
   "cell_type": "code",
   "execution_count": 21,
   "metadata": {},
   "outputs": [
    {
     "name": "stdout",
     "output_type": "stream",
     "text": [
      "299872/300000 [============================>.] - ETA: 0s"
     ]
    }
   ],
   "source": [
    "yhat_dnet = dnet1.predict(data_test[1], verbose=True).ravel()"
   ]
  },
  {
   "cell_type": "code",
   "execution_count": 29,
   "metadata": {
    "collapsed": true
   },
   "outputs": [],
   "source": [
    "build_densenet?"
   ]
  },
  {
   "cell_type": "code",
   "execution_count": 32,
   "metadata": {},
   "outputs": [
    {
     "name": "stderr",
     "output_type": "stream",
     "text": [
      "<string>:508: UserWarning: Update your `Dense` call to the Keras 2 API: `Dense(1, kernel_regularizer=<keras.reg..., activation=\"sigmoid\", bias_regularizer=<keras.reg...)`\n"
     ]
    }
   ],
   "source": [
    "dnet0 = build_densenet(weights=None, classes=1, activation='sigmoid',\n",
    "                       input_shape=(3, 96, 1),\n",
    "                       nb_dense_block=1, bottleneck=False) \n",
    "# ugly shapes, but ok"
   ]
  },
  {
   "cell_type": "code",
   "execution_count": 33,
   "metadata": {
    "scrolled": true
   },
   "outputs": [
    {
     "name": "stdout",
     "output_type": "stream",
     "text": [
      "____________________________________________________________________________________________________\n",
      "Layer (type)                     Output Shape          Param #     Connected to                     \n",
      "====================================================================================================\n",
      "input_2 (InputLayer)             (None, 3, 96, 1)      0                                            \n",
      "____________________________________________________________________________________________________\n",
      "initial_conv2D (Conv2D)          (None, 3, 96, 16)     144         input_2[0][0]                    \n",
      "____________________________________________________________________________________________________\n",
      "activation_2 (Activation)        (None, 3, 96, 16)     0           initial_conv2D[0][0]             \n",
      "____________________________________________________________________________________________________\n",
      "conv2d_1 (Conv2D)                (None, 3, 96, 12)     1728        activation_2[0][0]               \n",
      "____________________________________________________________________________________________________\n",
      "concatenate_1 (Concatenate)      (None, 3, 96, 28)     0           initial_conv2D[0][0]             \n",
      "                                                                   conv2d_1[0][0]                   \n",
      "____________________________________________________________________________________________________\n",
      "activation_3 (Activation)        (None, 3, 96, 28)     0           concatenate_1[0][0]              \n",
      "____________________________________________________________________________________________________\n",
      "conv2d_2 (Conv2D)                (None, 3, 96, 12)     3024        activation_3[0][0]               \n",
      "____________________________________________________________________________________________________\n",
      "concatenate_2 (Concatenate)      (None, 3, 96, 40)     0           concatenate_1[0][0]              \n",
      "                                                                   conv2d_2[0][0]                   \n",
      "____________________________________________________________________________________________________\n",
      "activation_4 (Activation)        (None, 3, 96, 40)     0           concatenate_2[0][0]              \n",
      "____________________________________________________________________________________________________\n",
      "conv2d_3 (Conv2D)                (None, 3, 96, 12)     4320        activation_4[0][0]               \n",
      "____________________________________________________________________________________________________\n",
      "concatenate_3 (Concatenate)      (None, 3, 96, 52)     0           concatenate_2[0][0]              \n",
      "                                                                   conv2d_3[0][0]                   \n",
      "____________________________________________________________________________________________________\n",
      "activation_5 (Activation)        (None, 3, 96, 52)     0           concatenate_3[0][0]              \n",
      "____________________________________________________________________________________________________\n",
      "conv2d_4 (Conv2D)                (None, 3, 96, 12)     5616        activation_5[0][0]               \n",
      "____________________________________________________________________________________________________\n",
      "concatenate_4 (Concatenate)      (None, 3, 96, 64)     0           concatenate_3[0][0]              \n",
      "                                                                   conv2d_4[0][0]                   \n",
      "____________________________________________________________________________________________________\n",
      "activation_6 (Activation)        (None, 3, 96, 64)     0           concatenate_4[0][0]              \n",
      "____________________________________________________________________________________________________\n",
      "conv2d_5 (Conv2D)                (None, 3, 96, 12)     6912        activation_6[0][0]               \n",
      "____________________________________________________________________________________________________\n",
      "concatenate_5 (Concatenate)      (None, 3, 96, 76)     0           concatenate_4[0][0]              \n",
      "                                                                   conv2d_5[0][0]                   \n",
      "____________________________________________________________________________________________________\n",
      "activation_7 (Activation)        (None, 3, 96, 76)     0           concatenate_5[0][0]              \n",
      "____________________________________________________________________________________________________\n",
      "conv2d_6 (Conv2D)                (None, 3, 96, 12)     8208        activation_7[0][0]               \n",
      "____________________________________________________________________________________________________\n",
      "concatenate_6 (Concatenate)      (None, 3, 96, 88)     0           concatenate_5[0][0]              \n",
      "                                                                   conv2d_6[0][0]                   \n",
      "____________________________________________________________________________________________________\n",
      "activation_8 (Activation)        (None, 3, 96, 88)     0           concatenate_6[0][0]              \n",
      "____________________________________________________________________________________________________\n",
      "conv2d_7 (Conv2D)                (None, 3, 96, 12)     9504        activation_8[0][0]               \n",
      "____________________________________________________________________________________________________\n",
      "concatenate_7 (Concatenate)      (None, 3, 96, 100)    0           concatenate_6[0][0]              \n",
      "                                                                   conv2d_7[0][0]                   \n",
      "____________________________________________________________________________________________________\n",
      "activation_9 (Activation)        (None, 3, 96, 100)    0           concatenate_7[0][0]              \n",
      "____________________________________________________________________________________________________\n",
      "conv2d_8 (Conv2D)                (None, 3, 96, 12)     10800       activation_9[0][0]               \n",
      "____________________________________________________________________________________________________\n",
      "concatenate_8 (Concatenate)      (None, 3, 96, 112)    0           concatenate_7[0][0]              \n",
      "                                                                   conv2d_8[0][0]                   \n",
      "____________________________________________________________________________________________________\n",
      "activation_10 (Activation)       (None, 3, 96, 112)    0           concatenate_8[0][0]              \n",
      "____________________________________________________________________________________________________\n",
      "conv2d_9 (Conv2D)                (None, 3, 96, 12)     12096       activation_10[0][0]              \n",
      "____________________________________________________________________________________________________\n",
      "concatenate_9 (Concatenate)      (None, 3, 96, 124)    0           concatenate_8[0][0]              \n",
      "                                                                   conv2d_9[0][0]                   \n",
      "____________________________________________________________________________________________________\n",
      "activation_11 (Activation)       (None, 3, 96, 124)    0           concatenate_9[0][0]              \n",
      "____________________________________________________________________________________________________\n",
      "conv2d_10 (Conv2D)               (None, 3, 96, 12)     13392       activation_11[0][0]              \n",
      "____________________________________________________________________________________________________\n",
      "concatenate_10 (Concatenate)     (None, 3, 96, 136)    0           concatenate_9[0][0]              \n",
      "                                                                   conv2d_10[0][0]                  \n",
      "____________________________________________________________________________________________________\n",
      "activation_12 (Activation)       (None, 3, 96, 136)    0           concatenate_10[0][0]             \n",
      "____________________________________________________________________________________________________\n",
      "conv2d_11 (Conv2D)               (None, 3, 96, 12)     14688       activation_12[0][0]              \n",
      "____________________________________________________________________________________________________\n",
      "concatenate_11 (Concatenate)     (None, 3, 96, 148)    0           concatenate_10[0][0]             \n",
      "                                                                   conv2d_11[0][0]                  \n",
      "____________________________________________________________________________________________________\n",
      "activation_13 (Activation)       (None, 3, 96, 148)    0           concatenate_11[0][0]             \n",
      "____________________________________________________________________________________________________\n",
      "conv2d_12 (Conv2D)               (None, 3, 96, 12)     15984       activation_13[0][0]              \n",
      "____________________________________________________________________________________________________\n",
      "concatenate_12 (Concatenate)     (None, 3, 96, 160)    0           concatenate_11[0][0]             \n",
      "                                                                   conv2d_12[0][0]                  \n",
      "____________________________________________________________________________________________________\n",
      "batch_normalization_1 (BatchNorm (None, 3, 96, 160)    640         concatenate_12[0][0]             \n",
      "____________________________________________________________________________________________________\n",
      "activation_14 (Activation)       (None, 3, 96, 160)    0           batch_normalization_1[0][0]      \n",
      "____________________________________________________________________________________________________\n",
      "global_average_pooling2d_1 (Glob (None, 160)           0           activation_14[0][0]              \n",
      "____________________________________________________________________________________________________\n",
      "dense_1 (Dense)                  (None, 1)             161         global_average_pooling2d_1[0][0] \n",
      "====================================================================================================\n",
      "Total params: 107,217\n",
      "Trainable params: 106,897\n",
      "Non-trainable params: 320\n",
      "____________________________________________________________________________________________________\n"
     ]
    }
   ],
   "source": [
    "dnet0.summary()"
   ]
  },
  {
   "cell_type": "code",
   "execution_count": 34,
   "metadata": {
    "collapsed": true
   },
   "outputs": [],
   "source": [
    "dnet0.compile('adam', 'binary_crossentropy', metrics=['acc'])"
   ]
  },
  {
   "cell_type": "code",
   "execution_count": 38,
   "metadata": {
    "scrolled": true
   },
   "outputs": [
    {
     "name": "stdout",
     "output_type": "stream",
     "text": [
      "Train on 489999 samples, validate on 210001 samples\n",
      "Epoch 1/100\n",
      "489728/489999 [============================>.] - ETA: 0s - loss: 0.1055 - acc: 0.9781Epoch 00000: val_loss improved from inf to 0.07470, saving model to DenseNet0piplusvseplus-chkpt.h5\n",
      "489999/489999 [==============================] - 103s - loss: 0.1055 - acc: 0.9781 - val_loss: 0.0747 - val_acc: 0.9896\n",
      "Epoch 2/100\n",
      "489984/489999 [============================>.] - ETA: 0s - loss: 0.0637 - acc: 0.9894Epoch 00001: val_loss improved from 0.07470 to 0.05956, saving model to DenseNet0piplusvseplus-chkpt.h5\n",
      "489999/489999 [==============================] - 105s - loss: 0.0637 - acc: 0.9894 - val_loss: 0.0596 - val_acc: 0.9907\n",
      "Epoch 3/100\n",
      "489984/489999 [============================>.] - ETA: 0s - loss: 0.0558 - acc: 0.9911- ETA: 5s - lEpoch 00002: val_loss improved from 0.05956 to 0.05158, saving model to DenseNet0piplusvseplus-chkpt.h5\n",
      "489999/489999 [==============================] - 105s - loss: 0.0558 - acc: 0.9911 - val_loss: 0.0516 - val_acc: 0.9924\n",
      "Epoch 4/100\n",
      "489984/489999 [============================>.] - ETA: 0s - loss: 0.0505 - acc: 0.9921Epoch 00003: val_loss improved from 0.05158 to 0.04922, saving model to DenseNet0piplusvseplus-chkpt.h5\n",
      "489999/489999 [==============================] - 105s - loss: 0.0505 - acc: 0.9921 - val_loss: 0.0492 - val_acc: 0.9928\n",
      "Epoch 5/100\n",
      "489728/489999 [============================>.] - ETA: 0s - loss: 0.0480 - acc: 0.9926- ETA: 4s - loss: 0.0482 - aEpoch 00004: val_loss improved from 0.04922 to 0.04667, saving model to DenseNet0piplusvseplus-chkpt.h5\n",
      "489999/489999 [==============================] - 105s - loss: 0.0480 - acc: 0.9926 - val_loss: 0.0467 - val_acc: 0.9928\n",
      "Epoch 6/100\n",
      "489728/489999 [============================>.] - ETA: 0s - loss: 0.0459 - acc: 0.9929Epoch 00005: val_loss did not improve\n",
      "489999/489999 [==============================] - 105s - loss: 0.0459 - acc: 0.9929 - val_loss: 0.0661 - val_acc: 0.9885\n",
      "Epoch 7/100\n",
      "489984/489999 [============================>.] - ETA: 0s - loss: 0.0439 - acc: 0.9930Epoch 00006: val_loss did not improve\n",
      "489999/489999 [==============================] - 105s - loss: 0.0439 - acc: 0.9930 - val_loss: 0.0799 - val_acc: 0.9856\n",
      "Epoch 8/100\n",
      "489984/489999 [============================>.] - ETA: 0s - loss: 0.0430 - acc: 0.9933Epoch 00007: val_loss did not improve\n",
      "489999/489999 [==============================] - 105s - loss: 0.0430 - acc: 0.9933 - val_loss: 0.0507 - val_acc: 0.9911\n",
      "Epoch 9/100\n",
      "489984/489999 [============================>.] - ETA: 0s - loss: 0.0418 - acc: 0.9933Epoch 00008: val_loss improved from 0.04667 to 0.04194, saving model to DenseNet0piplusvseplus-chkpt.h5\n",
      "489999/489999 [==============================] - 105s - loss: 0.0418 - acc: 0.9933 - val_loss: 0.0419 - val_acc: 0.9931\n",
      "Epoch 10/100\n",
      " 26624/489999 [>.............................] - ETA: 87s - loss: 0.0397 - acc: 0.9939ending early\n"
     ]
    }
   ],
   "source": [
    "# Train a Dense Net only on the first layer\n",
    "try:\n",
    "    dnet0.fit(data_train[0], labels_train, \n",
    "              callbacks=[\n",
    "                  EarlyStopping(verbose=True, patience=10, monitor='val_loss'),\n",
    "                  ModelCheckpoint('DenseNet0{}vs{}-chkpt.h5'.format(CLASS_ONE, CLASS_TWO),\n",
    "                    monitor='val_loss', verbose=True, save_best_only=True)\n",
    "              ],\n",
    "              verbose=True, validation_split=0.3, batch_size=256, epochs=100)\n",
    "except KeyboardInterrupt:\n",
    "    print 'ending early'"
   ]
  },
  {
   "cell_type": "code",
   "execution_count": 39,
   "metadata": {
    "collapsed": true
   },
   "outputs": [],
   "source": [
    "dnet0.load_weights('DenseNet0{}vs{}-chkpt.h5'.format(CLASS_ONE, CLASS_TWO))\n",
    "dnet0.save_weights('DenseNet0{}vs{}-final.h5'.format(CLASS_ONE, CLASS_TWO))\n",
    "dnet0.load_weights('DenseNet0{}vs{}-final.h5'.format(CLASS_ONE, CLASS_TWO))"
   ]
  },
  {
   "cell_type": "code",
   "execution_count": 40,
   "metadata": {},
   "outputs": [
    {
     "name": "stdout",
     "output_type": "stream",
     "text": [
      "299552/300000 [============================>.] - ETA: 0s"
     ]
    }
   ],
   "source": [
    "yhat_dnet0 = dnet0.predict(data_test[0], verbose=True).ravel()"
   ]
  },
  {
   "cell_type": "code",
   "execution_count": null,
   "metadata": {
    "collapsed": true
   },
   "outputs": [],
   "source": []
  },
  {
   "cell_type": "code",
   "execution_count": null,
   "metadata": {
    "collapsed": true
   },
   "outputs": [],
   "source": []
  },
  {
   "cell_type": "code",
   "execution_count": 45,
   "metadata": {
    "collapsed": true
   },
   "outputs": [],
   "source": [
    "dnet2 = build_densenet(weights=None, classes=1, activation='sigmoid',\n",
    "                       input_shape=(12, 6, 1), nb_dense_block=1, bottleneck=False)\n",
    "# it doesn't work with nb_dense_block=3"
   ]
  },
  {
   "cell_type": "code",
   "execution_count": 46,
   "metadata": {},
   "outputs": [
    {
     "name": "stdout",
     "output_type": "stream",
     "text": [
      "____________________________________________________________________________________________________\n",
      "Layer (type)                     Output Shape          Param #     Connected to                     \n",
      "====================================================================================================\n",
      "input_6 (InputLayer)             (None, 12, 6, 1)      0                                            \n",
      "____________________________________________________________________________________________________\n",
      "initial_conv2D (Conv2D)          (None, 12, 6, 16)     144         input_6[0][0]                    \n",
      "____________________________________________________________________________________________________\n",
      "activation_15 (Activation)       (None, 12, 6, 16)     0           initial_conv2D[0][0]             \n",
      "____________________________________________________________________________________________________\n",
      "conv2d_13 (Conv2D)               (None, 12, 6, 12)     1728        activation_15[0][0]              \n",
      "____________________________________________________________________________________________________\n",
      "concatenate_13 (Concatenate)     (None, 12, 6, 28)     0           initial_conv2D[0][0]             \n",
      "                                                                   conv2d_13[0][0]                  \n",
      "____________________________________________________________________________________________________\n",
      "activation_16 (Activation)       (None, 12, 6, 28)     0           concatenate_13[0][0]             \n",
      "____________________________________________________________________________________________________\n",
      "conv2d_14 (Conv2D)               (None, 12, 6, 12)     3024        activation_16[0][0]              \n",
      "____________________________________________________________________________________________________\n",
      "concatenate_14 (Concatenate)     (None, 12, 6, 40)     0           concatenate_13[0][0]             \n",
      "                                                                   conv2d_14[0][0]                  \n",
      "____________________________________________________________________________________________________\n",
      "activation_17 (Activation)       (None, 12, 6, 40)     0           concatenate_14[0][0]             \n",
      "____________________________________________________________________________________________________\n",
      "conv2d_15 (Conv2D)               (None, 12, 6, 12)     4320        activation_17[0][0]              \n",
      "____________________________________________________________________________________________________\n",
      "concatenate_15 (Concatenate)     (None, 12, 6, 52)     0           concatenate_14[0][0]             \n",
      "                                                                   conv2d_15[0][0]                  \n",
      "____________________________________________________________________________________________________\n",
      "activation_18 (Activation)       (None, 12, 6, 52)     0           concatenate_15[0][0]             \n",
      "____________________________________________________________________________________________________\n",
      "conv2d_16 (Conv2D)               (None, 12, 6, 12)     5616        activation_18[0][0]              \n",
      "____________________________________________________________________________________________________\n",
      "concatenate_16 (Concatenate)     (None, 12, 6, 64)     0           concatenate_15[0][0]             \n",
      "                                                                   conv2d_16[0][0]                  \n",
      "____________________________________________________________________________________________________\n",
      "activation_19 (Activation)       (None, 12, 6, 64)     0           concatenate_16[0][0]             \n",
      "____________________________________________________________________________________________________\n",
      "conv2d_17 (Conv2D)               (None, 12, 6, 12)     6912        activation_19[0][0]              \n",
      "____________________________________________________________________________________________________\n",
      "concatenate_17 (Concatenate)     (None, 12, 6, 76)     0           concatenate_16[0][0]             \n",
      "                                                                   conv2d_17[0][0]                  \n",
      "____________________________________________________________________________________________________\n",
      "activation_20 (Activation)       (None, 12, 6, 76)     0           concatenate_17[0][0]             \n",
      "____________________________________________________________________________________________________\n",
      "conv2d_18 (Conv2D)               (None, 12, 6, 12)     8208        activation_20[0][0]              \n",
      "____________________________________________________________________________________________________\n",
      "concatenate_18 (Concatenate)     (None, 12, 6, 88)     0           concatenate_17[0][0]             \n",
      "                                                                   conv2d_18[0][0]                  \n",
      "____________________________________________________________________________________________________\n",
      "activation_21 (Activation)       (None, 12, 6, 88)     0           concatenate_18[0][0]             \n",
      "____________________________________________________________________________________________________\n",
      "conv2d_19 (Conv2D)               (None, 12, 6, 12)     9504        activation_21[0][0]              \n",
      "____________________________________________________________________________________________________\n",
      "concatenate_19 (Concatenate)     (None, 12, 6, 100)    0           concatenate_18[0][0]             \n",
      "                                                                   conv2d_19[0][0]                  \n",
      "____________________________________________________________________________________________________\n",
      "activation_22 (Activation)       (None, 12, 6, 100)    0           concatenate_19[0][0]             \n",
      "____________________________________________________________________________________________________\n",
      "conv2d_20 (Conv2D)               (None, 12, 6, 12)     10800       activation_22[0][0]              \n",
      "____________________________________________________________________________________________________\n",
      "concatenate_20 (Concatenate)     (None, 12, 6, 112)    0           concatenate_19[0][0]             \n",
      "                                                                   conv2d_20[0][0]                  \n",
      "____________________________________________________________________________________________________\n",
      "activation_23 (Activation)       (None, 12, 6, 112)    0           concatenate_20[0][0]             \n",
      "____________________________________________________________________________________________________\n",
      "conv2d_21 (Conv2D)               (None, 12, 6, 12)     12096       activation_23[0][0]              \n",
      "____________________________________________________________________________________________________\n",
      "concatenate_21 (Concatenate)     (None, 12, 6, 124)    0           concatenate_20[0][0]             \n",
      "                                                                   conv2d_21[0][0]                  \n",
      "____________________________________________________________________________________________________\n",
      "activation_24 (Activation)       (None, 12, 6, 124)    0           concatenate_21[0][0]             \n",
      "____________________________________________________________________________________________________\n",
      "conv2d_22 (Conv2D)               (None, 12, 6, 12)     13392       activation_24[0][0]              \n",
      "____________________________________________________________________________________________________\n",
      "concatenate_22 (Concatenate)     (None, 12, 6, 136)    0           concatenate_21[0][0]             \n",
      "                                                                   conv2d_22[0][0]                  \n",
      "____________________________________________________________________________________________________\n",
      "activation_25 (Activation)       (None, 12, 6, 136)    0           concatenate_22[0][0]             \n",
      "____________________________________________________________________________________________________\n",
      "conv2d_23 (Conv2D)               (None, 12, 6, 12)     14688       activation_25[0][0]              \n",
      "____________________________________________________________________________________________________\n",
      "concatenate_23 (Concatenate)     (None, 12, 6, 148)    0           concatenate_22[0][0]             \n",
      "                                                                   conv2d_23[0][0]                  \n",
      "____________________________________________________________________________________________________\n",
      "activation_26 (Activation)       (None, 12, 6, 148)    0           concatenate_23[0][0]             \n",
      "____________________________________________________________________________________________________\n",
      "conv2d_24 (Conv2D)               (None, 12, 6, 12)     15984       activation_26[0][0]              \n",
      "____________________________________________________________________________________________________\n",
      "concatenate_24 (Concatenate)     (None, 12, 6, 160)    0           concatenate_23[0][0]             \n",
      "                                                                   conv2d_24[0][0]                  \n",
      "____________________________________________________________________________________________________\n",
      "batch_normalization_2 (BatchNorm (None, 12, 6, 160)    640         concatenate_24[0][0]             \n",
      "____________________________________________________________________________________________________\n",
      "activation_27 (Activation)       (None, 12, 6, 160)    0           batch_normalization_2[0][0]      \n",
      "____________________________________________________________________________________________________\n",
      "global_average_pooling2d_2 (Glob (None, 160)           0           activation_27[0][0]              \n",
      "____________________________________________________________________________________________________\n",
      "dense_2 (Dense)                  (None, 1)             161         global_average_pooling2d_2[0][0] \n",
      "====================================================================================================\n",
      "Total params: 107,217\n",
      "Trainable params: 106,897\n",
      "Non-trainable params: 320\n",
      "____________________________________________________________________________________________________\n"
     ]
    }
   ],
   "source": [
    "dnet2.summary()"
   ]
  },
  {
   "cell_type": "code",
   "execution_count": 49,
   "metadata": {
    "collapsed": true
   },
   "outputs": [],
   "source": [
    "dnet2.compile('adam', 'binary_crossentropy', metrics=['acc'])"
   ]
  },
  {
   "cell_type": "code",
   "execution_count": 50,
   "metadata": {
    "scrolled": true
   },
   "outputs": [
    {
     "name": "stdout",
     "output_type": "stream",
     "text": [
      "Train on 489999 samples, validate on 210001 samples\n",
      "Epoch 1/100\n",
      "489728/489999 [============================>.] - ETA: 0s - loss: 0.2031 - acc: 0.9456Epoch 00000: val_loss improved from inf to 0.15739, saving model to DenseNet2piplusvseplus-chkpt.h5\n",
      "489999/489999 [==============================] - 41s - loss: 0.2031 - acc: 0.9456 - val_loss: 0.1574 - val_acc: 0.9632\n",
      "Epoch 2/100\n",
      "489984/489999 [============================>.] - ETA: 0s - loss: 0.1602 - acc: 0.9617Epoch 00001: val_loss improved from 0.15739 to 0.14472, saving model to DenseNet2piplusvseplus-chkpt.h5\n",
      "489999/489999 [==============================] - 41s - loss: 0.1602 - acc: 0.9617 - val_loss: 0.1447 - val_acc: 0.9664\n",
      "Epoch 3/100\n",
      "489728/489999 [============================>.] - ETA: 0s - loss: 0.1494 - acc: 0.9638Epoch 00002: val_loss improved from 0.14472 to 0.13554, saving model to DenseNet2piplusvseplus-chkpt.h5\n",
      "489999/489999 [==============================] - 41s - loss: 0.1494 - acc: 0.9638 - val_loss: 0.1355 - val_acc: 0.9672\n",
      "Epoch 4/100\n",
      "489984/489999 [============================>.] - ETA: 0s - loss: 0.1418 - acc: 0.9655Epoch 00003: val_loss did not improve\n",
      "489999/489999 [==============================] - 41s - loss: 0.1418 - acc: 0.9655 - val_loss: 0.1396 - val_acc: 0.9659\n",
      "Epoch 5/100\n",
      "489984/489999 [============================>.] - ETA: 0s - loss: 0.1365 - acc: 0.9661Epoch 00004: val_loss did not improve\n",
      "489999/489999 [==============================] - 41s - loss: 0.1365 - acc: 0.9661 - val_loss: 0.1362 - val_acc: 0.9629\n",
      "Epoch 6/100\n",
      "489472/489999 [============================>.] - ETA: 0s - loss: 0.1349 - acc: 0.9663Epoch 00005: val_loss improved from 0.13554 to 0.12710, saving model to DenseNet2piplusvseplus-chkpt.h5\n",
      "489999/489999 [==============================] - 41s - loss: 0.1349 - acc: 0.9663 - val_loss: 0.1271 - val_acc: 0.9678\n",
      "Epoch 7/100\n",
      "489472/489999 [============================>.] - ETA: 0s - loss: 0.1329 - acc: 0.9664Epoch 00006: val_loss did not improve\n",
      "489999/489999 [==============================] - 41s - loss: 0.1329 - acc: 0.9664 - val_loss: 0.1329 - val_acc: 0.9675\n",
      "Epoch 8/100\n",
      "489472/489999 [============================>.] - ETA: 0s - loss: 0.1302 - acc: 0.9675Epoch 00007: val_loss did not improve\n",
      "489999/489999 [==============================] - 41s - loss: 0.1302 - acc: 0.9675 - val_loss: 0.1355 - val_acc: 0.9616\n",
      "Epoch 9/100\n",
      "489728/489999 [============================>.] - ETA: 0s - loss: 0.1289 - acc: 0.9674Epoch 00008: val_loss improved from 0.12710 to 0.12248, saving model to DenseNet2piplusvseplus-chkpt.h5\n",
      "489999/489999 [==============================] - 41s - loss: 0.1289 - acc: 0.9674 - val_loss: 0.1225 - val_acc: 0.9696\n",
      "Epoch 10/100\n",
      "489984/489999 [============================>.] - ETA: 0s - loss: 0.1279 - acc: 0.9678Epoch 00009: val_loss did not improve\n",
      "489999/489999 [==============================] - 41s - loss: 0.1279 - acc: 0.9678 - val_loss: 0.1287 - val_acc: 0.9686\n",
      "Epoch 11/100\n",
      "489472/489999 [============================>.] - ETA: 0s - loss: 0.1267 - acc: 0.9679Epoch 00010: val_loss did not improve\n",
      "489999/489999 [==============================] - 41s - loss: 0.1267 - acc: 0.9679 - val_loss: 0.1320 - val_acc: 0.9630\n",
      "Epoch 12/100\n",
      "489984/489999 [============================>.] - ETA: 0s - loss: 0.1246 - acc: 0.9685Epoch 00011: val_loss did not improve\n",
      "489999/489999 [==============================] - 42s - loss: 0.1246 - acc: 0.9685 - val_loss: 0.1247 - val_acc: 0.9696\n",
      "Epoch 13/100\n",
      "489728/489999 [============================>.] - ETA: 0s - loss: 0.1255 - acc: 0.9680Epoch 00012: val_loss did not improve\n",
      "489999/489999 [==============================] - 42s - loss: 0.1255 - acc: 0.9680 - val_loss: 0.1514 - val_acc: 0.9580\n",
      "Epoch 14/100\n",
      "489728/489999 [============================>.] - ETA: 0s - loss: 0.1261 - acc: 0.9680Epoch 00013: val_loss improved from 0.12248 to 0.12098, saving model to DenseNet2piplusvseplus-chkpt.h5\n",
      "489999/489999 [==============================] - 42s - loss: 0.1261 - acc: 0.9679 - val_loss: 0.1210 - val_acc: 0.9698\n",
      "Epoch 15/100\n",
      "489472/489999 [============================>.] - ETA: 0s - loss: 0.1218 - acc: 0.9690Epoch 00014: val_loss did not improve\n",
      "489999/489999 [==============================] - 41s - loss: 0.1218 - acc: 0.9690 - val_loss: 0.1330 - val_acc: 0.9629\n",
      "Epoch 16/100\n",
      "489728/489999 [============================>.] - ETA: 0s - loss: 0.1216 - acc: 0.9691Epoch 00015: val_loss improved from 0.12098 to 0.11966, saving model to DenseNet2piplusvseplus-chkpt.h5\n",
      "489999/489999 [==============================] - 41s - loss: 0.1216 - acc: 0.9691 - val_loss: 0.1197 - val_acc: 0.9702\n",
      "Epoch 17/100\n",
      "489472/489999 [============================>.] - ETA: 0s - loss: 0.1201 - acc: 0.9694Epoch 00016: val_loss did not improve\n",
      "489999/489999 [==============================] - 41s - loss: 0.1201 - acc: 0.9694 - val_loss: 0.1249 - val_acc: 0.9658\n",
      "Epoch 18/100\n",
      "489728/489999 [============================>.] - ETA: 0s - loss: 0.1224 - acc: 0.9685Epoch 00017: val_loss did not improve\n",
      "489999/489999 [==============================] - 41s - loss: 0.1224 - acc: 0.9685 - val_loss: 0.1319 - val_acc: 0.9631\n",
      "Epoch 19/100\n",
      "489728/489999 [============================>.] - ETA: 0s - loss: 0.1188 - acc: 0.9699Epoch 00018: val_loss improved from 0.11966 to 0.11797, saving model to DenseNet2piplusvseplus-chkpt.h5\n",
      "489999/489999 [==============================] - 41s - loss: 0.1188 - acc: 0.9699 - val_loss: 0.1180 - val_acc: 0.9707\n",
      "Epoch 20/100\n",
      "489984/489999 [============================>.] - ETA: 0s - loss: 0.1159 - acc: 0.9705Epoch 00019: val_loss improved from 0.11797 to 0.11297, saving model to DenseNet2piplusvseplus-chkpt.h5\n",
      "489999/489999 [==============================] - 41s - loss: 0.1159 - acc: 0.9705 - val_loss: 0.1130 - val_acc: 0.9715\n",
      "Epoch 21/100\n",
      "489472/489999 [============================>.] - ETA: 0s - loss: 0.1161 - acc: 0.9703Epoch 00020: val_loss did not improve\n",
      "489999/489999 [==============================] - 41s - loss: 0.1161 - acc: 0.9703 - val_loss: 0.1178 - val_acc: 0.9698\n",
      "Epoch 22/100\n",
      "489728/489999 [============================>.] - ETA: 0s - loss: 0.1156 - acc: 0.9705Epoch 00021: val_loss did not improve\n",
      "489999/489999 [==============================] - 41s - loss: 0.1156 - acc: 0.9705 - val_loss: 0.1321 - val_acc: 0.9633\n",
      "Epoch 23/100\n",
      "489728/489999 [============================>.] - ETA: 0s - loss: 0.1123 - acc: 0.9713Epoch 00022: val_loss improved from 0.11297 to 0.10589, saving model to DenseNet2piplusvseplus-chkpt.h5\n",
      "489999/489999 [==============================] - 41s - loss: 0.1123 - acc: 0.9713 - val_loss: 0.1059 - val_acc: 0.9729\n",
      "Epoch 24/100\n",
      "489984/489999 [============================>.] - ETA: 0s - loss: 0.1117 - acc: 0.9715Epoch 00023: val_loss did not improve\n",
      "489999/489999 [==============================] - 41s - loss: 0.1117 - acc: 0.9715 - val_loss: 0.1862 - val_acc: 0.9488\n",
      "Epoch 25/100\n",
      "489472/489999 [============================>.] - ETA: 0s - loss: 0.1110 - acc: 0.9717Epoch 00024: val_loss improved from 0.10589 to 0.10536, saving model to DenseNet2piplusvseplus-chkpt.h5\n",
      "489999/489999 [==============================] - 41s - loss: 0.1110 - acc: 0.9717 - val_loss: 0.1054 - val_acc: 0.9730\n",
      "Epoch 26/100\n",
      "489728/489999 [============================>.] - ETA: 0s - loss: 0.1087 - acc: 0.9722Epoch 00025: val_loss improved from 0.10536 to 0.10183, saving model to DenseNet2piplusvseplus-chkpt.h5\n",
      "489999/489999 [==============================] - 41s - loss: 0.1087 - acc: 0.9722 - val_loss: 0.1018 - val_acc: 0.9738\n",
      "Epoch 27/100\n",
      "489984/489999 [============================>.] - ETA: 0s - loss: 0.1084 - acc: 0.9722Epoch 00026: val_loss did not improve\n",
      "489999/489999 [==============================] - 41s - loss: 0.1084 - acc: 0.9722 - val_loss: 0.1033 - val_acc: 0.9732\n",
      "Epoch 28/100\n",
      "489472/489999 [============================>.] - ETA: 0s - loss: 0.1089 - acc: 0.9723Epoch 00027: val_loss did not improve\n",
      "489999/489999 [==============================] - 41s - loss: 0.1089 - acc: 0.9723 - val_loss: 0.1093 - val_acc: 0.9707\n",
      "Epoch 29/100\n",
      "489984/489999 [============================>.] - ETA: 0s - loss: 0.1073 - acc: 0.9726Epoch 00028: val_loss did not improve\n",
      "489999/489999 [==============================] - 41s - loss: 0.1073 - acc: 0.9726 - val_loss: 0.1173 - val_acc: 0.9672\n",
      "Epoch 30/100\n",
      "489984/489999 [============================>.] - ETA: 0s - loss: 0.1067 - acc: 0.9727Epoch 00029: val_loss did not improve\n",
      "489999/489999 [==============================] - 41s - loss: 0.1067 - acc: 0.9727 - val_loss: 0.1265 - val_acc: 0.9655\n",
      "Epoch 31/100\n",
      "489472/489999 [============================>.] - ETA: 0s - loss: 0.1071 - acc: 0.9726Epoch 00030: val_loss did not improve\n",
      "489999/489999 [==============================] - 41s - loss: 0.1071 - acc: 0.9726 - val_loss: 0.1445 - val_acc: 0.9627\n",
      "Epoch 32/100\n",
      "489984/489999 [============================>.] - ETA: 0s - loss: 0.1058 - acc: 0.9729Epoch 00031: val_loss did not improve\n",
      "489999/489999 [==============================] - 41s - loss: 0.1058 - acc: 0.9729 - val_loss: 0.1066 - val_acc: 0.9730\n",
      "Epoch 33/100\n",
      "489728/489999 [============================>.] - ETA: 0s - loss: 0.1059 - acc: 0.9729Epoch 00032: val_loss did not improve\n",
      "489999/489999 [==============================] - 41s - loss: 0.1059 - acc: 0.9729 - val_loss: 0.1095 - val_acc: 0.9722\n",
      "Epoch 34/100\n",
      "489728/489999 [============================>.] - ETA: 0s - loss: 0.1057 - acc: 0.9731Epoch 00033: val_loss improved from 0.10183 to 0.10149, saving model to DenseNet2piplusvseplus-chkpt.h5\n",
      "489999/489999 [==============================] - 42s - loss: 0.1057 - acc: 0.9731 - val_loss: 0.1015 - val_acc: 0.9731\n",
      "Epoch 35/100\n",
      "489728/489999 [============================>.] - ETA: 0s - loss: 0.1053 - acc: 0.9731Epoch 00034: val_loss did not improve\n",
      "489999/489999 [==============================] - 42s - loss: 0.1053 - acc: 0.9731 - val_loss: 0.1044 - val_acc: 0.9725\n",
      "Epoch 36/100\n",
      "489984/489999 [============================>.] - ETA: 0s - loss: 0.1047 - acc: 0.9732Epoch 00035: val_loss did not improve\n",
      "489999/489999 [==============================] - 41s - loss: 0.1047 - acc: 0.9732 - val_loss: 0.2070 - val_acc: 0.9302\n",
      "Epoch 37/100\n",
      "489984/489999 [============================>.] - ETA: 0s - loss: 0.1048 - acc: 0.9732Epoch 00036: val_loss improved from 0.10149 to 0.09876, saving model to DenseNet2piplusvseplus-chkpt.h5\n",
      "489999/489999 [==============================] - 41s - loss: 0.1048 - acc: 0.9732 - val_loss: 0.0988 - val_acc: 0.9742\n",
      "Epoch 38/100\n",
      "489984/489999 [============================>.] - ETA: 0s - loss: 0.1045 - acc: 0.9734Epoch 00037: val_loss did not improve\n",
      "489999/489999 [==============================] - 42s - loss: 0.1045 - acc: 0.9734 - val_loss: 0.1014 - val_acc: 0.9731\n",
      "Epoch 39/100\n",
      "489728/489999 [============================>.] - ETA: 0s - loss: 0.1049 - acc: 0.9731Epoch 00038: val_loss did not improve\n",
      "489999/489999 [==============================] - 41s - loss: 0.1049 - acc: 0.9731 - val_loss: 0.1051 - val_acc: 0.9716\n",
      "Epoch 40/100\n",
      "489728/489999 [============================>.] - ETA: 0s - loss: 0.1052 - acc: 0.9731Epoch 00039: val_loss did not improve\n",
      "489999/489999 [==============================] - 41s - loss: 0.1052 - acc: 0.9731 - val_loss: 0.1206 - val_acc: 0.9678\n",
      "Epoch 41/100\n",
      "489984/489999 [============================>.] - ETA: 0s - loss: 0.1045 - acc: 0.9734Epoch 00040: val_loss did not improve\n",
      "489999/489999 [==============================] - 41s - loss: 0.1045 - acc: 0.9734 - val_loss: 0.1157 - val_acc: 0.9682\n",
      "Epoch 42/100\n",
      "489984/489999 [============================>.] - ETA: 0s - loss: 0.1051 - acc: 0.9729Epoch 00041: val_loss did not improve\n",
      "489999/489999 [==============================] - 41s - loss: 0.1051 - acc: 0.9729 - val_loss: 0.1054 - val_acc: 0.9724\n",
      "Epoch 43/100\n",
      "489984/489999 [============================>.] - ETA: 0s - loss: 0.1037 - acc: 0.9735Epoch 00042: val_loss did not improve\n",
      "489999/489999 [==============================] - 41s - loss: 0.1037 - acc: 0.9735 - val_loss: 0.1460 - val_acc: 0.9603\n",
      "Epoch 44/100\n",
      "489728/489999 [============================>.] - ETA: 0s - loss: 0.1039 - acc: 0.9734Epoch 00043: val_loss improved from 0.09876 to 0.09765, saving model to DenseNet2piplusvseplus-chkpt.h5\n",
      "489999/489999 [==============================] - 41s - loss: 0.1039 - acc: 0.9734 - val_loss: 0.0977 - val_acc: 0.9746\n",
      "Epoch 45/100\n",
      "489728/489999 [============================>.] - ETA: 0s - loss: 0.1030 - acc: 0.9736Epoch 00044: val_loss did not improve\n",
      "489999/489999 [==============================] - 41s - loss: 0.1030 - acc: 0.9736 - val_loss: 0.0988 - val_acc: 0.9749\n",
      "Epoch 46/100\n",
      "489984/489999 [============================>.] - ETA: 0s - loss: 0.1033 - acc: 0.9735Epoch 00045: val_loss did not improve\n",
      "489999/489999 [==============================] - 41s - loss: 0.1033 - acc: 0.9735 - val_loss: 0.1022 - val_acc: 0.9731\n",
      "Epoch 47/100\n",
      "489984/489999 [============================>.] - ETA: 0s - loss: 0.1038 - acc: 0.9734Epoch 00046: val_loss did not improve\n",
      "489999/489999 [==============================] - 41s - loss: 0.1038 - acc: 0.9734 - val_loss: 0.0978 - val_acc: 0.9746\n",
      "Epoch 48/100\n",
      "489472/489999 [============================>.] - ETA: 0s - loss: 0.1044 - acc: 0.9732Epoch 00047: val_loss did not improve\n",
      "489999/489999 [==============================] - 41s - loss: 0.1044 - acc: 0.9732 - val_loss: 0.1160 - val_acc: 0.9687\n",
      "Epoch 49/100\n",
      "489728/489999 [============================>.] - ETA: 0s - loss: 0.1037 - acc: 0.9736Epoch 00048: val_loss did not improve\n",
      "489999/489999 [==============================] - 41s - loss: 0.1037 - acc: 0.9736 - val_loss: 0.1053 - val_acc: 0.9737\n",
      "Epoch 50/100\n",
      "489728/489999 [============================>.] - ETA: 0s - loss: 0.1037 - acc: 0.9735Epoch 00049: val_loss did not improve\n",
      "489999/489999 [==============================] - 41s - loss: 0.1037 - acc: 0.9735 - val_loss: 0.1104 - val_acc: 0.9701\n",
      "Epoch 51/100\n",
      "489472/489999 [============================>.] - ETA: 0s - loss: 0.1034 - acc: 0.9734Epoch 00050: val_loss did not improve\n",
      "489999/489999 [==============================] - 41s - loss: 0.1033 - acc: 0.9734 - val_loss: 0.1087 - val_acc: 0.9720\n",
      "Epoch 52/100\n",
      "489984/489999 [============================>.] - ETA: 0s - loss: 0.1037 - acc: 0.9734Epoch 00051: val_loss did not improve\n",
      "489999/489999 [==============================] - 41s - loss: 0.1038 - acc: 0.9733 - val_loss: 0.1129 - val_acc: 0.9716\n",
      "Epoch 53/100\n",
      "489472/489999 [============================>.] - ETA: 0s - loss: 0.1033 - acc: 0.9734Epoch 00052: val_loss did not improve\n",
      "489999/489999 [==============================] - 41s - loss: 0.1033 - acc: 0.9734 - val_loss: 0.1289 - val_acc: 0.9654\n",
      "Epoch 54/100\n",
      "489472/489999 [============================>.] - ETA: 0s - loss: 0.1035 - acc: 0.9735Epoch 00053: val_loss did not improve\n",
      "489999/489999 [==============================] - 40s - loss: 0.1035 - acc: 0.9735 - val_loss: 0.1029 - val_acc: 0.9725\n",
      "Epoch 55/100\n",
      "489472/489999 [============================>.] - ETA: 0s - loss: 0.1031 - acc: 0.9733Epoch 00054: val_loss did not improve\n",
      "489999/489999 [==============================] - 41s - loss: 0.1031 - acc: 0.9734 - val_loss: 0.1045 - val_acc: 0.9720\n",
      "Epoch 00054: early stopping\n"
     ]
    }
   ],
   "source": [
    "# Train a Dense Net only on the last layer\n",
    "try:\n",
    "    dnet2.fit(data_train[2], labels_train, \n",
    "              callbacks=[\n",
    "                  EarlyStopping(verbose=True, patience=10, monitor='val_loss'),\n",
    "                  ModelCheckpoint('DenseNet2{}vs{}-chkpt.h5'.format(CLASS_ONE, CLASS_TWO),\n",
    "                    monitor='val_loss', verbose=True, save_best_only=True)\n",
    "              ],\n",
    "              verbose=True, validation_split=0.3, batch_size=256, epochs=100)\n",
    "except KeyboardInterrupt:\n",
    "    print 'ending early'"
   ]
  },
  {
   "cell_type": "code",
   "execution_count": 51,
   "metadata": {
    "collapsed": true
   },
   "outputs": [],
   "source": [
    "dnet2.load_weights('DenseNet2{}vs{}-chkpt.h5'.format(CLASS_ONE, CLASS_TWO))\n",
    "dnet2.save_weights('DenseNet2{}vs{}-final.h5'.format(CLASS_ONE, CLASS_TWO))\n",
    "dnet2.load_weights('DenseNet2{}vs{}-final.h5'.format(CLASS_ONE, CLASS_TWO))"
   ]
  },
  {
   "cell_type": "code",
   "execution_count": 52,
   "metadata": {},
   "outputs": [
    {
     "name": "stdout",
     "output_type": "stream",
     "text": [
      "299744/300000 [============================>.] - ETA: 0s"
     ]
    }
   ],
   "source": [
    "yhat_dnet2 = dnet2.predict(data_test[2], verbose=True).ravel()"
   ]
  },
  {
   "cell_type": "code",
   "execution_count": null,
   "metadata": {
    "collapsed": true
   },
   "outputs": [],
   "source": []
  },
  {
   "cell_type": "markdown",
   "metadata": {},
   "source": [
    "# Merge DenseNets into one"
   ]
  },
  {
   "cell_type": "code",
   "execution_count": 44,
   "metadata": {
    "collapsed": true
   },
   "outputs": [],
   "source": [
    "shapes = [d.shape[1:] for d in data_train]\n",
    "\n",
    "x = [Input(shape=sh) for sh in shapes]"
   ]
  },
  {
   "cell_type": "code",
   "execution_count": 45,
   "metadata": {
    "collapsed": true
   },
   "outputs": [],
   "source": [
    "dnet_layer0 = build_densenet(weights=None, input_shape=(3, 96, 1), nb_dense_block=1,\n",
    "                      include_top=False)\n",
    "dnet_layer1 = build_densenet(weights=None, input_shape=(12, 12, 1), nb_dense_block=1,\n",
    "                      include_top=False)\n",
    "dnet_layer2 = build_densenet(weights=None, input_shape=(12, 6, 1), nb_dense_block=1,\n",
    "                      include_top=False)\n",
    "dnet_merged = [dnet_layer0, dnet_layer1, dnet_layer2]"
   ]
  },
  {
   "cell_type": "code",
   "execution_count": 46,
   "metadata": {
    "collapsed": true
   },
   "outputs": [],
   "source": [
    "features = [f(xi) for f, xi in zip(dnet_merged, x)]"
   ]
  },
  {
   "cell_type": "code",
   "execution_count": 47,
   "metadata": {
    "collapsed": true
   },
   "outputs": [],
   "source": [
    "from keras.layers.merge import Concatenate"
   ]
  },
  {
   "cell_type": "code",
   "execution_count": 48,
   "metadata": {
    "collapsed": true
   },
   "outputs": [],
   "source": [
    "y = Dense(1, activation='sigmoid')(\n",
    "        Dense(64, activation='relu')(\n",
    "            Concatenate()(features)\n",
    "))"
   ]
  },
  {
   "cell_type": "code",
   "execution_count": 49,
   "metadata": {
    "collapsed": true
   },
   "outputs": [],
   "source": [
    "image_dnet_merged = Model(x, y)"
   ]
  },
  {
   "cell_type": "code",
   "execution_count": 50,
   "metadata": {
    "scrolled": true
   },
   "outputs": [
    {
     "name": "stdout",
     "output_type": "stream",
     "text": [
      "____________________________________________________________________________________________________\n",
      "Layer (type)                     Output Shape          Param #     Connected to                     \n",
      "====================================================================================================\n",
      "input_6 (InputLayer)             (None, 3, 96, 1)      0                                            \n",
      "____________________________________________________________________________________________________\n",
      "input_7 (InputLayer)             (None, 12, 12, 1)     0                                            \n",
      "____________________________________________________________________________________________________\n",
      "input_8 (InputLayer)             (None, 12, 6, 1)      0                                            \n",
      "____________________________________________________________________________________________________\n",
      "model_4 (Model)                  (None, 160)           107056      input_6[0][0]                    \n",
      "____________________________________________________________________________________________________\n",
      "model_5 (Model)                  (None, 160)           107056      input_7[0][0]                    \n",
      "____________________________________________________________________________________________________\n",
      "model_6 (Model)                  (None, 160)           107056      input_8[0][0]                    \n",
      "____________________________________________________________________________________________________\n",
      "concatenate_38 (Concatenate)     (None, 480)           0           model_4[1][0]                    \n",
      "                                                                   model_5[1][0]                    \n",
      "                                                                   model_6[1][0]                    \n",
      "____________________________________________________________________________________________________\n",
      "dense_16 (Dense)                 (None, 64)            30784       concatenate_38[0][0]             \n",
      "____________________________________________________________________________________________________\n",
      "dense_15 (Dense)                 (None, 1)             65          dense_16[0][0]                   \n",
      "====================================================================================================\n",
      "Total params: 352,017\n",
      "Trainable params: 351,057\n",
      "Non-trainable params: 960\n",
      "____________________________________________________________________________________________________\n"
     ]
    }
   ],
   "source": [
    "image_dnet_merged.summary()"
   ]
  },
  {
   "cell_type": "code",
   "execution_count": 51,
   "metadata": {
    "collapsed": true
   },
   "outputs": [],
   "source": [
    "image_dnet_merged.compile('adam', 'binary_crossentropy', metrics=['acc'])"
   ]
  },
  {
   "cell_type": "code",
   "execution_count": 82,
   "metadata": {
    "scrolled": true
   },
   "outputs": [
    {
     "name": "stdout",
     "output_type": "stream",
     "text": [
      "Train on 441000 samples, validate on 189000 samples\n",
      "Epoch 1/100\n",
      "440832/441000 [============================>.] - ETA: 0s - loss: 0.6260 - acc: 0.6542Epoch 00000: val_loss improved from inf to 0.61684, saving model to DenseNet_noBN_merged_gammavseplus-chkpt.h5\n",
      "441000/441000 [==============================] - 213s - loss: 0.6259 - acc: 0.6542 - val_loss: 0.6168 - val_acc: 0.6398\n",
      "Epoch 2/100\n",
      "440832/441000 [============================>.] - ETA: 0s - loss: 0.5918 - acc: 0.6594Epoch 00001: val_loss improved from 0.61684 to 0.60549, saving model to DenseNet_noBN_merged_gammavseplus-chkpt.h5\n",
      "441000/441000 [==============================] - 208s - loss: 0.5918 - acc: 0.6594 - val_loss: 0.6055 - val_acc: 0.6584\n",
      "Epoch 3/100\n",
      "440832/441000 [============================>.] - ETA: 0s - loss: 0.5870 - acc: 0.6597Epoch 00002: val_loss improved from 0.60549 to 0.59283, saving model to DenseNet_noBN_merged_gammavseplus-chkpt.h5\n",
      "441000/441000 [==============================] - 208s - loss: 0.5870 - acc: 0.6597 - val_loss: 0.5928 - val_acc: 0.6538\n",
      "Epoch 4/100\n",
      "440832/441000 [============================>.] - ETA: 0s - loss: 0.5843 - acc: 0.6598Epoch 00003: val_loss did not improve\n",
      "441000/441000 [==============================] - 208s - loss: 0.5843 - acc: 0.6598 - val_loss: 0.6071 - val_acc: 0.6342\n",
      "Epoch 5/100\n",
      "440832/441000 [============================>.] - ETA: 0s - loss: 0.5829 - acc: 0.6602Epoch 00004: val_loss did not improve\n",
      "441000/441000 [==============================] - 208s - loss: 0.5829 - acc: 0.6602 - val_loss: 0.6256 - val_acc: 0.6147\n",
      "Epoch 6/100\n",
      "440832/441000 [============================>.] - ETA: 0s - loss: 0.5818 - acc: 0.6607Epoch 00005: val_loss improved from 0.59283 to 0.58104, saving model to DenseNet_noBN_merged_gammavseplus-chkpt.h5\n",
      "441000/441000 [==============================] - 208s - loss: 0.5818 - acc: 0.6608 - val_loss: 0.5810 - val_acc: 0.6610\n",
      "Epoch 7/100\n",
      "440832/441000 [============================>.] - ETA: 0s - loss: 0.5810 - acc: 0.6606Epoch 00006: val_loss did not improve\n",
      "441000/441000 [==============================] - 208s - loss: 0.5810 - acc: 0.6606 - val_loss: 0.5998 - val_acc: 0.6426\n",
      "Epoch 8/100\n",
      "440832/441000 [============================>.] - ETA: 0s - loss: 0.5805 - acc: 0.6610Epoch 00007: val_loss improved from 0.58104 to 0.57972, saving model to DenseNet_noBN_merged_gammavseplus-chkpt.h5\n",
      "441000/441000 [==============================] - 208s - loss: 0.5805 - acc: 0.6610 - val_loss: 0.5797 - val_acc: 0.6610\n",
      "Epoch 9/100\n",
      "440832/441000 [============================>.] - ETA: 0s - loss: 0.5799 - acc: 0.6605Epoch 00008: val_loss did not improve\n",
      "441000/441000 [==============================] - 208s - loss: 0.5799 - acc: 0.6605 - val_loss: 0.9268 - val_acc: 0.5720\n",
      "Epoch 10/100\n",
      "440832/441000 [============================>.] - ETA: 0s - loss: 0.5796 - acc: 0.6611Epoch 00009: val_loss did not improve\n",
      "441000/441000 [==============================] - 213s - loss: 0.5796 - acc: 0.6611 - val_loss: 0.6127 - val_acc: 0.6312\n",
      "Epoch 11/100\n",
      "440832/441000 [============================>.] - ETA: 0s - loss: 0.5796 - acc: 0.6605Epoch 00010: val_loss did not improve\n",
      "441000/441000 [==============================] - 215s - loss: 0.5795 - acc: 0.6606 - val_loss: 0.5873 - val_acc: 0.6552\n",
      "Epoch 12/100\n",
      "440832/441000 [============================>.] - ETA: 0s - loss: 0.5789 - acc: 0.6612Epoch 00011: val_loss did not improve\n",
      "441000/441000 [==============================] - 214s - loss: 0.5789 - acc: 0.6612 - val_loss: 0.5907 - val_acc: 0.6497\n",
      "Epoch 13/100\n",
      "440832/441000 [============================>.] - ETA: 0s - loss: 0.5784 - acc: 0.6616Epoch 00012: val_loss did not improve\n",
      "441000/441000 [==============================] - 217s - loss: 0.5784 - acc: 0.6616 - val_loss: 0.8057 - val_acc: 0.5772\n",
      "Epoch 14/100\n",
      "440832/441000 [============================>.] - ETA: 0s - loss: 0.5783 - acc: 0.6616Epoch 00013: val_loss did not improve\n",
      "441000/441000 [==============================] - 221s - loss: 0.5783 - acc: 0.6616 - val_loss: 0.5810 - val_acc: 0.6604\n",
      "Epoch 15/100\n",
      "440832/441000 [============================>.] - ETA: 0s - loss: 0.5784 - acc: 0.6611Epoch 00014: val_loss improved from 0.57972 to 0.57763, saving model to DenseNet_noBN_merged_gammavseplus-chkpt.h5\n",
      "441000/441000 [==============================] - 222s - loss: 0.5784 - acc: 0.6611 - val_loss: 0.5776 - val_acc: 0.6623\n",
      "Epoch 16/100\n",
      "440832/441000 [============================>.] - ETA: 0s - loss: 0.5780 - acc: 0.6618Epoch 00015: val_loss improved from 0.57763 to 0.57751, saving model to DenseNet_noBN_merged_gammavseplus-chkpt.h5\n",
      "441000/441000 [==============================] - 222s - loss: 0.5780 - acc: 0.6618 - val_loss: 0.5775 - val_acc: 0.6625\n",
      "Epoch 17/100\n",
      "440832/441000 [============================>.] - ETA: 0s - loss: 0.5779 - acc: 0.6616Epoch 00016: val_loss did not improve\n",
      "441000/441000 [==============================] - 222s - loss: 0.5779 - acc: 0.6616 - val_loss: 0.6168 - val_acc: 0.6175\n",
      "Epoch 18/100\n",
      "440832/441000 [============================>.] - ETA: 0s - loss: 0.5777 - acc: 0.6616Epoch 00017: val_loss improved from 0.57751 to 0.57743, saving model to DenseNet_noBN_merged_gammavseplus-chkpt.h5\n",
      "441000/441000 [==============================] - 222s - loss: 0.5777 - acc: 0.6616 - val_loss: 0.5774 - val_acc: 0.6624\n",
      "Epoch 19/100\n",
      "440832/441000 [============================>.] - ETA: 0s - loss: 0.5776 - acc: 0.6618Epoch 00018: val_loss did not improve\n",
      "441000/441000 [==============================] - 222s - loss: 0.5776 - acc: 0.6618 - val_loss: 0.5903 - val_acc: 0.6483\n",
      "Epoch 20/100\n",
      "440832/441000 [============================>.] - ETA: 0s - loss: 0.5776 - acc: 0.6615Epoch 00019: val_loss did not improve\n",
      "441000/441000 [==============================] - 222s - loss: 0.5776 - acc: 0.6614 - val_loss: 0.5789 - val_acc: 0.6583\n",
      "Epoch 21/100\n",
      "440832/441000 [============================>.] - ETA: 0s - loss: 0.5773 - acc: 0.6614Epoch 00020: val_loss did not improve\n",
      "441000/441000 [==============================] - 222s - loss: 0.5773 - acc: 0.6614 - val_loss: 0.5837 - val_acc: 0.6572\n",
      "Epoch 22/100\n",
      "440832/441000 [============================>.] - ETA: 0s - loss: 0.5773 - acc: 0.6616Epoch 00021: val_loss improved from 0.57743 to 0.57739, saving model to DenseNet_noBN_merged_gammavseplus-chkpt.h5\n",
      "441000/441000 [==============================] - 222s - loss: 0.5773 - acc: 0.6616 - val_loss: 0.5774 - val_acc: 0.6624\n",
      "Epoch 23/100\n",
      "440832/441000 [============================>.] - ETA: 0s - loss: 0.5770 - acc: 0.6615Epoch 00022: val_loss did not improve\n",
      "441000/441000 [==============================] - 222s - loss: 0.5770 - acc: 0.6615 - val_loss: 0.5959 - val_acc: 0.6463\n",
      "Epoch 24/100\n",
      "440832/441000 [============================>.] - ETA: 0s - loss: 0.5771 - acc: 0.6620Epoch 00023: val_loss improved from 0.57739 to 0.57676, saving model to DenseNet_noBN_merged_gammavseplus-chkpt.h5\n",
      "441000/441000 [==============================] - 222s - loss: 0.5771 - acc: 0.6620 - val_loss: 0.5768 - val_acc: 0.6620\n",
      "Epoch 25/100\n",
      "440832/441000 [============================>.] - ETA: 0s - loss: 0.5768 - acc: 0.6622Epoch 00024: val_loss did not improve\n",
      "441000/441000 [==============================] - 222s - loss: 0.5768 - acc: 0.6622 - val_loss: 0.5926 - val_acc: 0.6517\n",
      "Epoch 26/100\n",
      "440832/441000 [============================>.] - ETA: 0s - loss: 0.5768 - acc: 0.6620Epoch 00025: val_loss did not improve\n",
      "441000/441000 [==============================] - 222s - loss: 0.5768 - acc: 0.6620 - val_loss: 0.6128 - val_acc: 0.6358\n",
      "Epoch 27/100\n",
      "440832/441000 [============================>.] - ETA: 0s - loss: 0.5766 - acc: 0.6617Epoch 00026: val_loss did not improve\n",
      "441000/441000 [==============================] - 222s - loss: 0.5766 - acc: 0.6617 - val_loss: 0.6161 - val_acc: 0.6305\n",
      "Epoch 28/100\n",
      "440832/441000 [============================>.] - ETA: 0s - loss: 0.5768 - acc: 0.6618Epoch 00027: val_loss did not improve\n",
      "441000/441000 [==============================] - 222s - loss: 0.5768 - acc: 0.6618 - val_loss: 0.6437 - val_acc: 0.6134\n",
      "Epoch 29/100\n",
      "440832/441000 [============================>.] - ETA: 0s - loss: 0.5768 - acc: 0.6616Epoch 00028: val_loss did not improve\n",
      "441000/441000 [==============================] - 222s - loss: 0.5768 - acc: 0.6616 - val_loss: 0.8027 - val_acc: 0.5879\n",
      "Epoch 30/100\n",
      "440832/441000 [============================>.] - ETA: 0s - loss: 0.5766 - acc: 0.6619Epoch 00029: val_loss did not improve\n",
      "441000/441000 [==============================] - 222s - loss: 0.5766 - acc: 0.6619 - val_loss: 0.5831 - val_acc: 0.6571\n",
      "Epoch 31/100\n",
      "440832/441000 [============================>.] - ETA: 0s - loss: 0.5765 - acc: 0.6619Epoch 00030: val_loss did not improve\n",
      "441000/441000 [==============================] - 222s - loss: 0.5765 - acc: 0.6619 - val_loss: 0.5775 - val_acc: 0.6623\n",
      "Epoch 32/100\n",
      "440832/441000 [============================>.] - ETA: 0s - loss: 0.5765 - acc: 0.6620Epoch 00031: val_loss did not improve\n",
      "441000/441000 [==============================] - 222s - loss: 0.5765 - acc: 0.6620 - val_loss: 0.6793 - val_acc: 0.6035\n",
      "Epoch 33/100\n",
      "440832/441000 [============================>.] - ETA: 0s - loss: 0.5767 - acc: 0.6621Epoch 00032: val_loss did not improve\n",
      "441000/441000 [==============================] - 222s - loss: 0.5767 - acc: 0.6621 - val_loss: 0.5836 - val_acc: 0.6549\n",
      "Epoch 34/100\n",
      "440832/441000 [============================>.] - ETA: 0s - loss: 0.5764 - acc: 0.6621Epoch 00033: val_loss did not improve\n",
      "441000/441000 [==============================] - 222s - loss: 0.5764 - acc: 0.6620 - val_loss: 0.5980 - val_acc: 0.6377\n",
      "Epoch 35/100\n",
      "440832/441000 [============================>.] - ETA: 0s - loss: 0.5764 - acc: 0.6620Epoch 00034: val_loss did not improve\n",
      "441000/441000 [==============================] - 222s - loss: 0.5764 - acc: 0.6621 - val_loss: 0.5808 - val_acc: 0.6566\n",
      "Epoch 00034: early stopping\n"
     ]
    }
   ],
   "source": [
    "# Train a merged Dense Net\n",
    "try:\n",
    "    image_dnet_merged.fit(data_train, labels_train, \n",
    "              callbacks=[\n",
    "                  EarlyStopping(verbose=True, patience=10, monitor='val_loss'),\n",
    "                  ModelCheckpoint('DenseNet_noBN_merged_{}vs{}-chkpt.h5'.format(CLASS_ONE, CLASS_TWO),\n",
    "                    monitor='val_loss', verbose=True, save_best_only=True)\n",
    "              ],\n",
    "              verbose=True, validation_split=0.3, batch_size=256, epochs=100)\n",
    "except KeyboardInterrupt:\n",
    "    print 'ending early'"
   ]
  },
  {
   "cell_type": "code",
   "execution_count": null,
   "metadata": {
    "collapsed": true
   },
   "outputs": [],
   "source": [
    "image_dnet_merged.load_weights('DenseNet_noBN_merged_{}vs{}-chkpt.h5'.format(CLASS_ONE, CLASS_TWO))\n",
    "image_dnet_merged.save_weights('DenseNet_noBN_merged_{}vs{}-final.h5'.format(CLASS_ONE, CLASS_TWO))\n",
    "image_dnet_merged.load_weights('DenseNet_noBN_merged_{}vs{}-final.h5'.format(CLASS_ONE, CLASS_TWO))"
   ]
  },
  {
   "cell_type": "code",
   "execution_count": null,
   "metadata": {},
   "outputs": [
    {
     "name": "stdout",
     "output_type": "stream",
     "text": [
      "185376/270000 [===================>..........] - ETA: 18s"
     ]
    }
   ],
   "source": [
    "yhat_dnet_merged = image_dnet_merged.predict(data_test, verbose=True).ravel()"
   ]
  },
  {
   "cell_type": "code",
   "execution_count": null,
   "metadata": {
    "collapsed": true
   },
   "outputs": [],
   "source": []
  },
  {
   "cell_type": "code",
   "execution_count": null,
   "metadata": {
    "collapsed": true
   },
   "outputs": [],
   "source": [
    "matplotlib.rcParams.update({'font.size' : 30})"
   ]
  },
  {
   "cell_type": "code",
   "execution_count": 102,
   "metadata": {},
   "outputs": [
    {
     "data": {
      "text/plain": [
       "<matplotlib.text.Text at 0x7f3ad8b58ed0>"
      ]
     },
     "execution_count": 102,
     "metadata": {},
     "output_type": "execute_result"
    },
    {
     "data": {
      "image/png": "[encoded data removed]",
      "text/plain": [
       "<matplotlib.figure.Figure at 0x7f3ad8d95790>"
      ]
     },
     "metadata": {},
     "output_type": "display_data"
    }
   ],
   "source": [
    "plt.figure(figsize=(10, 10))\n",
    "bins = np.linspace(0, 1, 100)\n",
    "# plt.hist(yhat_image_dnn[labels_test == 1], histtype='step', bins=bins, label=r'$\\pi^{+}$, Image DNN', color='red')\n",
    "# plt.hist(yhat_image_dnn[labels_test == 0], histtype='step', bins=bins, label=r'$e^{+}$, Image DNN', color='red',\n",
    "#         linestyle='dashed')\n",
    "plt.hist(yhat_dnet_merged[labels_test == 1], histtype='step',\n",
    "         bins=bins, label=r'$\\pi^{+}$, DenseNet', color='purple')\n",
    "plt.hist(yhat_dnet_merged[labels_test == 0], histtype='step',\n",
    "         bins=bins, label=r'$e^{+}$, DenseNet', color='purple',\n",
    "        linestyle='dashed')\n",
    "plt.hist(yhat_feature_dnn[labels_test == 1], histtype='step',\n",
    "         bins=bins, label=r'$\\pi^{+}$, Feature DNN', color='orange')\n",
    "plt.hist(yhat_feature_dnn[labels_test == 0], histtype='step',\n",
    "         bins=bins, label=r'$e^{+}$, Feature DNN', color='orange')\n",
    "plt.legend(loc='upper left')\n",
    "plt.yscale('log')\n",
    "# plt.xlim((0.99999, 1))\n",
    "# plt.xscale('log')\n",
    "plt.ylim(ymax=1e8)\n",
    "plt.xlabel(r'$\\mathbb{P}[\\pi^{+}]$')"
   ]
  },
  {
   "cell_type": "code",
   "execution_count": null,
   "metadata": {
    "collapsed": true
   },
   "outputs": [],
   "source": [
    "fpr_image_dnn, tpr_image_dnn, _ = roc_curve(labels_test, abs(1-yhat_image_dnn), pos_label=0)\n",
    "# fpr_dnet, tpr_dnet, _ = roc_curve(labels_test, abs(1-yhat_dnet), pos_label=0)\n",
    "# fpr_dnet0, tpr_dnet0, _ = roc_curve(labels_test, abs(1-yhat_dnet0), pos_label=0)\n",
    "# fpr_dnet2, tpr_dnet2, _ = roc_curve(labels_test, abs(1-yhat_dnet2), pos_label=0)\n",
    "# fpr_dnet_mean, tpr_dnet_mean, _ = roc_curve(labels_test,\n",
    "#                                             abs(1 - ((yhat_dnet2 + yhat_dnet + yhat_dnet0)/3) ),\n",
    "#                                             pos_label=0)\n",
    "\n",
    "fpr_dnet_merged, tpr_dnet_merged, _ = roc_curve(labels_test, abs(1-yhat_dnet_merged), pos_label=0)\n",
    "fpr_raveled_dnn, tpr_raveled_dnn, _ = roc_curve(labels_test, abs(1-yhat_raveled_dnn), pos_label=0)\n",
    "fpr_feature_dnn, tpr_feature_dnn, _ = roc_curve(labels_test, abs(1-yhat_feature_dnn), pos_label=0)\n",
    "# fpr_feature_bdt, tpr_feature_bdt, _ = roc_curve(labels_test, yhat_feature_bdt)\n"
   ]
  },
  {
   "cell_type": "code",
   "execution_count": 49,
   "metadata": {
    "collapsed": true
   },
   "outputs": [],
   "source": [
    "roc_curve?"
   ]
  },
  {
   "cell_type": "code",
   "execution_count": null,
   "metadata": {
    "collapsed": true
   },
   "outputs": [],
   "source": [
    "with h5py.File('{}-vs-{}-outputs.h5'.format(CLASS_ONE, CLASS_TWO), 'w') as h5:\n",
    "    h5['y'] = labels_test\n",
    "    h5['nn_image'] = yhat_image_dnn\n",
    "    h5['nn_raveled'] = yhat_raveled_dnn\n",
    "    h5['nn_showershapes'] = yhat_feature_dnn\n",
    "    h5['bdt_showershapes'] = yhat_feature_bdt"
   ]
  },
  {
   "cell_type": "code",
   "execution_count": null,
   "metadata": {
    "collapsed": true
   },
   "outputs": [],
   "source": [
    "slices = np.linspace(0, 1, 10000000)"
   ]
  },
  {
   "cell_type": "code",
   "execution_count": null,
   "metadata": {
    "collapsed": true
   },
   "outputs": [],
   "source": [
    "tpr, _ = np.histogram(yhat[labels_test == 1], bins=slices)\n",
    "fpr, _ = np.histogram(yhat[labels_test == 0], bins=slices)"
   ]
  },
  {
   "cell_type": "code",
   "execution_count": null,
   "metadata": {
    "collapsed": true
   },
   "outputs": [],
   "source": [
    "tpr = np.cumsum(tpr[::-1])[::-1]\n",
    "fpr = np.cumsum(fpr[::-1])[::-1]"
   ]
  },
  {
   "cell_type": "code",
   "execution_count": null,
   "metadata": {
    "collapsed": true
   },
   "outputs": [],
   "source": []
  },
  {
   "cell_type": "code",
   "execution_count": null,
   "metadata": {},
   "outputs": [],
   "source": [
    "plt.figure(figsize=(10, 10))\n",
    "plt.plot(tpr_dnet_merged, 1 / fpr_dnet_merged, label='DenseNet',\n",
    "        linewidth=2)\n",
    "plt.plot(tpr_image_dnn, 1 / fpr_image_dnn, label='LAGAN-Style Discriminator',\n",
    "        linewidth=2)\n",
    "plt.plot(tpr_feature_dnn, 1 / fpr_feature_dnn, label='FCN on Shower Shapes',\n",
    "        linewidth=2)\n",
    "plt.plot(tpr_raveled_dnn, 1 / fpr_raveled_dnn, label='FCN on Unraveled Pixels',\n",
    "        linewidth=2)\n",
    "\n",
    "\n",
    "# plt.plot(tpr_dnet2, 1 / fpr_dnet2, label='DenseNet 2')\n",
    "# plt.plot(tpr_dnet, 1 / fpr_dnet, label='DenseNet 1')\n",
    "# plt.plot(tpr_dnet0, 1 / fpr_dnet0, label='DenseNet 0')\n",
    "# plt.plot(tpr_dnet_mean, 1 / fpr_dnet_mean, label='DenseNet Mean')\n",
    "\n",
    "# plt.yscale('log')\n",
    "plt.grid('on', 'both')\n",
    "plt.xlim((0.5, 1))\n",
    "plt.ylim(1, 4)\n",
    "plt.xlabel(r'$\\varepsilon_{e^+}$')\n",
    "plt.ylabel(r'1 / $\\varepsilon_{\\gamma}$')\n",
    "\n",
    "# plt.xlabel('{} Efficiency'.format(CLASS_TWO))\n",
    "# plt.ylabel('{} Background Rejection'.format(CLASS_ONE))\n",
    "plt.legend(fontsize=23, loc='upper right')"
   ]
  },
  {
   "cell_type": "code",
   "execution_count": 160,
   "metadata": {},
   "outputs": [
    {
     "name": "stdout",
     "output_type": "stream",
     "text": [
      "At 60% efficiency:\n",
      "FCN on Shower Shapes --> 1.69678683031 rejection\n",
      "FCN on Unraveled Pixels --> 1.67576482691 rejection\n",
      "LAGAN-Style Discriminator --> 1.80778277705 rejection\n",
      "LAGAN-Style Discriminator --> 1.82753490641 rejection\n"
     ]
    },
    {
     "name": "stderr",
     "output_type": "stream",
     "text": [
      "/home/micky/.venvwrp/keras2tf1/lib/python2.7/site-packages/ipykernel_launcher.py:4: RuntimeWarning: divide by zero encountered in divide\n",
      "  after removing the cwd from sys.path.\n",
      "/home/micky/.venvwrp/keras2tf1/lib/python2.7/site-packages/ipykernel_launcher.py:6: RuntimeWarning: divide by zero encountered in divide\n",
      "  \n",
      "/home/micky/.venvwrp/keras2tf1/lib/python2.7/site-packages/ipykernel_launcher.py:8: RuntimeWarning: divide by zero encountered in divide\n",
      "  \n",
      "/home/micky/.venvwrp/keras2tf1/lib/python2.7/site-packages/ipykernel_launcher.py:10: RuntimeWarning: divide by zero encountered in divide\n",
      "  # Remove the CWD from sys.path while we load stuff.\n"
     ]
    }
   ],
   "source": [
    "wp = 0.9\n",
    "print 'At 60% efficiency:'\n",
    "print 'FCN on Shower Shapes --> {} rejection'.format(\n",
    "    (1 / fpr_feature_dnn)[np.argmin(abs(tpr_feature_dnn - wp))])\n",
    "print 'FCN on Unraveled Pixels --> {} rejection'.format(\n",
    "    (1 / fpr_raveled_dnn)[np.argmin(abs(tpr_raveled_dnn - wp))])\n",
    "print 'LAGAN-Style Discriminator --> {} rejection'.format(\n",
    "    (1 / fpr_image_dnn)[np.argmin(abs(tpr_image_dnn - wp))])\n",
    "print 'LAGAN-Style Discriminator --> {} rejection'.format(\n",
    "    (1 / fpr_dnet_merged)[np.argmin(abs(tpr_dnet_merged - wp))])"
   ]
  },
  {
   "cell_type": "code",
   "execution_count": 153,
   "metadata": {},
   "outputs": [
    {
     "data": {
      "text/plain": [
       "63415"
      ]
     },
     "execution_count": 153,
     "metadata": {},
     "output_type": "execute_result"
    }
   ],
   "source": [
    "np.argmin(abs(tpr_feature_dnn - 0.6))"
   ]
  },
  {
   "cell_type": "code",
   "execution_count": 138,
   "metadata": {
    "collapsed": true
   },
   "outputs": [],
   "source": [
    "import pandas as pd\n",
    "df = pd.DataFrame()\n",
    "# df['Truth'] = labels_test\n",
    "df['DenseNet'] = yhat_dnet_merged\n",
    "df['LAGAN D'] = yhat_image_dnn\n",
    "df['FCN Shower Shapes'] = yhat_feature_dnn\n",
    "df['FCN Pixels'] = yhat_raveled_dnn"
   ]
  },
  {
   "cell_type": "code",
   "execution_count": 140,
   "metadata": {},
   "outputs": [
    {
     "data": {
      "text/plain": [
       "<matplotlib.text.Text at 0x7f3ad4f504d0>"
      ]
     },
     "execution_count": 140,
     "metadata": {},
     "output_type": "execute_result"
    },
    {
     "data": {
      "image/png": "[encoded data removed]",
      "text/plain": [
       "<matplotlib.figure.Figure at 0x7f3ad50bd6d0>"
      ]
     },
     "metadata": {},
     "output_type": "display_data"
    }
   ],
   "source": [
    "import seaborn as sns\n",
    "\n",
    "corrmat = df.corr()\n",
    "\n",
    "# Set up the matplotlib figure\n",
    "f, ax = plt.subplots(figsize=(12, 9))\n",
    "\n",
    "# Draw the heatmap using seaborn\n",
    "sns.heatmap(corrmat, vmax=1, square=True)\n",
    "plt.title('Linear Correlation Matrix - Test Set')\n",
    "#plt.savefig('../plots/oct25/correlation_test_low_stats.pdf')"
   ]
  },
  {
   "cell_type": "code",
   "execution_count": null,
   "metadata": {
    "collapsed": true
   },
   "outputs": [],
   "source": []
  },
  {
   "cell_type": "code",
   "execution_count": 119,
   "metadata": {
    "collapsed": true
   },
   "outputs": [],
   "source": [
    "from scipy import interpolate\n",
    "from matplotlib import gridspec\n"
   ]
  },
  {
   "cell_type": "code",
   "execution_count": 120,
   "metadata": {
    "collapsed": true
   },
   "outputs": [],
   "source": [
    "def uix(a):\n",
    "    return np.unique(a, return_index=True)[1]"
   ]
  },
  {
   "cell_type": "code",
   "execution_count": null,
   "metadata": {
    "collapsed": true
   },
   "outputs": [],
   "source": [
    "eff_interp = np.linspace(0.05, 1, 100)\n",
    "# interp_image_dnn = np.interp(eff_interp, tpr_image_dnn, fpr_image_dnn)\n",
    "# interp_feature_dnn = np.interp(eff_interp, tpr_feature_dnn, fpr_feature_dnn)\n",
    "# interp_raveled_dnn = np.interp(eff_interp, tpr_raveled_dnn, fpr_raveled_dnn)\n",
    "\n",
    "interp_image_dnn = interpolate.interp1d(\n",
    "    tpr_image_dnn[uix(tpr_image_dnn)],\n",
    "    fpr_image_dnn[uix(tpr_image_dnn)], kind='linear')(eff_interp)\n",
    "interp_feature_dnn = interpolate.interp1d(\n",
    "    tpr_feature_dnn[uix(tpr_feature_dnn)],\n",
    "    fpr_feature_dnn[uix(tpr_feature_dnn)], kind='linear')(eff_interp)\n",
    "# interp_raveled_dnn = interpolate.interp1d(tpr_raveled_dnn[uix(tpr_raveled_dnn)], fpr_raveled_dnn[uix(tpr_raveled_dnn)], kind='cubic')(eff_interp)\n",
    "\n",
    "kern_size = 20\n",
    "kern = [1 / float(kern_size)] * kern_size\n",
    "interp_image_dnn = np.convolve(interp_image_dnn, kern, mode='same')\n",
    "interp_feature_dnn = np.convolve(interp_feature_dnn, kern, mode='same')\n",
    "# interp_raveled_dnn = np.convolve(interp_raveled_dnn, kern, mode='same')"
   ]
  },
  {
   "cell_type": "code",
   "execution_count": null,
   "metadata": {
    "collapsed": true
   },
   "outputs": [],
   "source": [
    "plt.figure(figsize=(7, 10))\n",
    "gs = gridspec.GridSpec(2, 1, height_ratios=[1, 2]) \n",
    "ax = plt.subplot(gs[0])\n",
    "plt.plot(tpr_image_dnn, fpr_image_dnn, label='ResNet on Calorimeter Hits')\n",
    "plt.plot(tpr_feature_dnn, fpr_feature_dnn, label='DNN on Shower Shapes')\n",
    "# plt.plot(tpr_raveled_dnn, fpr_raveled_dnn, label='Simple DNN on Calorimeter Hits')\n",
    "plt.yscale('log')\n",
    "plt.grid('on', 'both')\n",
    "plt.xlim((0, 1))\n",
    "plt.xlabel(r'$\\pi^{+}$ efficiency')\n",
    "plt.ylabel(r'$e^{+}$ efficiency')\n",
    "plt.legend(loc='upper left')\n",
    "\n",
    "plt.subplot(gs[1], sharex=ax)\n",
    "plt.plot(eff_interp, interp_feature_dnn / interp_image_dnn, label='ResNet on Calorimeter Hits')\n",
    "plt.plot(eff_interp, interp_feature_dnn / interp_feature_dnn, label='DNN on Shower Shapes')\n",
    "# plt.plot(eff_interp, interp_feature_dnn / interp_raveled_dnn, label='Simple DNN on Calorimeter Hits')\n",
    "# plt.yscale('log')\n",
    "plt.grid('on', 'both')\n",
    "# plt.xlim((0.99, 1))\n",
    "# plt.xlabel(r'$\\pi^{+}$ efficiency')\n",
    "plt.ylabel(r'Ratio of $e^{+}$ efficiencies of DNN on Shower Shapes to X')\n",
    "plt.legend(loc='upper left')"
   ]
  },
  {
   "cell_type": "markdown",
   "metadata": {
    "collapsed": true
   },
   "source": [
    "# Regression"
   ]
  },
  {
   "cell_type": "code",
   "execution_count": 164,
   "metadata": {
    "collapsed": true
   },
   "outputs": [],
   "source": [
    "def build_simple_dnn(x):\n",
    "\n",
    "    h = Dense(512)(x)\n",
    "    h = Dropout(0.2)(LeakyReLU()(h))\n",
    "    #h = BatchNormalization()(h)\n",
    "\n",
    "    h = Dense(1024)(h)\n",
    "    h = Dropout(0.5)(LeakyReLU()(h))\n",
    "    #h = BatchNormalization()(h)\n",
    "\n",
    "#     h = Dense(2048)(h)\n",
    "#     h = Dropout(0.5)(LeakyReLU()(h))\n",
    "#     #h = BatchNormalization()(h)\n",
    "    \n",
    "    h = Dense(1024)(h)\n",
    "    h = Dropout(0.5)(LeakyReLU()(h))\n",
    "    #h = BatchNormalization()(h)\n",
    "\n",
    "    h = Dense(128)(h)\n",
    "    h = Dropout(0.5)(LeakyReLU()(h))\n",
    "\n",
    "    y = Dense(4, activation='linear')(h)\n",
    "\n",
    "    return y"
   ]
  },
  {
   "cell_type": "code",
   "execution_count": 165,
   "metadata": {
    "collapsed": true
   },
   "outputs": [],
   "source": [
    "x = Input(shape=(3*96+12*12+12*6, ))\n",
    "y = build_simple_dnn(x)\n",
    "model = Model(x, y)"
   ]
  },
  {
   "cell_type": "code",
   "execution_count": 189,
   "metadata": {},
   "outputs": [
    {
     "ename": "ValueError",
     "evalue": "When passing a list as loss_weights, it should have one entry per model outputs. The model has 1 outputs, but you passed loss_weights=[1, 5, 1, 1]",
     "output_type": "error",
     "traceback": [
      "\u001b[0;31m---------------------------------------------------------------------------\u001b[0m",
      "\u001b[0;31mValueError\u001b[0m                                Traceback (most recent call last)",
      "\u001b[0;32m<ipython-input-189-f60a859e6b8c>\u001b[0m in \u001b[0;36m<module>\u001b[0;34m()\u001b[0m\n\u001b[0;32m----> 1\u001b[0;31m \u001b[0mmodel\u001b[0m\u001b[0;34m.\u001b[0m\u001b[0mcompile\u001b[0m\u001b[0;34m(\u001b[0m\u001b[0;34m'adam'\u001b[0m\u001b[0;34m,\u001b[0m \u001b[0;34m'mse'\u001b[0m\u001b[0;34m,\u001b[0m \u001b[0mloss_weights\u001b[0m\u001b[0;34m=\u001b[0m\u001b[0;34m[\u001b[0m\u001b[0;36m1\u001b[0m\u001b[0;34m,\u001b[0m\u001b[0;36m5\u001b[0m\u001b[0;34m,\u001b[0m\u001b[0;36m1\u001b[0m\u001b[0;34m,\u001b[0m\u001b[0;36m1\u001b[0m\u001b[0;34m]\u001b[0m\u001b[0;34m)\u001b[0m\u001b[0;34m\u001b[0m\u001b[0m\n\u001b[0m",
      "\u001b[0;32m/home/micky/.venvwrp/keras2tf1/local/lib/python2.7/site-packages/keras/engine/training.pyc\u001b[0m in \u001b[0;36mcompile\u001b[0;34m(self, optimizer, loss, metrics, loss_weights, sample_weight_mode, **kwargs)\u001b[0m\n\u001b[1;32m    723\u001b[0m                                  \u001b[0;34m'The model has '\u001b[0m \u001b[0;34m+\u001b[0m \u001b[0mstr\u001b[0m\u001b[0;34m(\u001b[0m\u001b[0mlen\u001b[0m\u001b[0;34m(\u001b[0m\u001b[0mself\u001b[0m\u001b[0;34m.\u001b[0m\u001b[0moutputs\u001b[0m\u001b[0;34m)\u001b[0m\u001b[0;34m)\u001b[0m \u001b[0;34m+\u001b[0m\u001b[0;34m\u001b[0m\u001b[0m\n\u001b[1;32m    724\u001b[0m                                  \u001b[0;34m' outputs, but you passed loss_weights='\u001b[0m \u001b[0;34m+\u001b[0m\u001b[0;34m\u001b[0m\u001b[0m\n\u001b[0;32m--> 725\u001b[0;31m                                  str(loss_weights))\n\u001b[0m\u001b[1;32m    726\u001b[0m             \u001b[0mloss_weights_list\u001b[0m \u001b[0;34m=\u001b[0m \u001b[0mloss_weights\u001b[0m\u001b[0;34m\u001b[0m\u001b[0m\n\u001b[1;32m    727\u001b[0m         \u001b[0;32melse\u001b[0m\u001b[0;34m:\u001b[0m\u001b[0;34m\u001b[0m\u001b[0m\n",
      "\u001b[0;31mValueError\u001b[0m: When passing a list as loss_weights, it should have one entry per model outputs. The model has 1 outputs, but you passed loss_weights=[1, 5, 1, 1]"
     ]
    }
   ],
   "source": [
    "model.compile('adam', 'mse')"
   ]
  },
  {
   "cell_type": "code",
   "execution_count": 178,
   "metadata": {
    "collapsed": true
   },
   "outputs": [],
   "source": [
    "d = h5py.File('../../fast/gamma_angle_position_5deg_xy.h5', 'r')"
   ]
  },
  {
   "cell_type": "code",
   "execution_count": 179,
   "metadata": {
    "collapsed": true
   },
   "outputs": [],
   "source": [
    "events = d['layer_0'][:].shape[0]\n",
    "n_train = int(events * 0.6)\n",
    "ravelled_data = np.concatenate(\n",
    "       (\n",
    "           d['layer_0'][:].reshape(events, -1),\n",
    "           d['layer_1'][:].reshape(events, -1),\n",
    "           d['layer_2'][:].reshape(events, -1)\n",
    "       ), axis=-1)\n",
    "\n",
    "train_data = ravelled_data[:n_train]\n",
    "test_data = ravelled_data[n_train:]"
   ]
  },
  {
   "cell_type": "code",
   "execution_count": 180,
   "metadata": {
    "collapsed": true
   },
   "outputs": [],
   "source": [
    "p = np.sqrt(d['px'][:]**2 + d['py'][:]**2 + d['pz'][:]**2)\n",
    "theta_A = np.arccos(d['py'][:] / p)\n",
    "phi_A = np.arctan(-d['px'][:] / d['pz'][:])"
   ]
  },
  {
   "cell_type": "code",
   "execution_count": 182,
   "metadata": {},
   "outputs": [
    {
     "name": "stdout",
     "output_type": "stream",
     "text": [
      "Epoch 00000: val_loss improved from inf to 0.06503, saving model to regr4-chkpt.h5\n",
      "Epoch 00001: val_loss improved from 0.06503 to 0.05397, saving model to regr4-chkpt.h5\n",
      "Epoch 00002: val_loss improved from 0.05397 to 0.05109, saving model to regr4-chkpt.h5\n",
      "Epoch 00003: val_loss improved from 0.05109 to 0.04710, saving model to regr4-chkpt.h5\n",
      "Epoch 00004: val_loss improved from 0.04710 to 0.04556, saving model to regr4-chkpt.h5\n",
      "Epoch 00005: val_loss did not improve\n",
      "Epoch 00006: val_loss improved from 0.04556 to 0.04354, saving model to regr4-chkpt.h5\n",
      "Epoch 00007: val_loss did not improve\n",
      "Epoch 00008: val_loss improved from 0.04354 to 0.04098, saving model to regr4-chkpt.h5\n",
      "Epoch 00009: val_loss did not improve\n",
      "Epoch 00010: val_loss did not improve\n",
      "Epoch 00011: val_loss did not improve\n",
      "Epoch 00012: val_loss improved from 0.04098 to 0.04061, saving model to regr4-chkpt.h5\n",
      "Epoch 00013: val_loss did not improve\n",
      "Epoch 00014: val_loss did not improve\n",
      "Epoch 00015: val_loss did not improve\n",
      "Epoch 00016: val_loss did not improve\n",
      "Epoch 00017: val_loss did not improve\n",
      "Epoch 00018: val_loss improved from 0.04061 to 0.03865, saving model to regr4-chkpt.h5\n",
      "Epoch 00019: val_loss did not improve\n",
      "Epoch 00020: val_loss did not improve\n",
      "Epoch 00021: val_loss did not improve\n",
      "Epoch 00022: val_loss did not improve\n",
      "Epoch 00023: val_loss did not improve\n",
      "Epoch 00024: val_loss did not improve\n",
      "Epoch 00025: val_loss did not improve\n",
      "Epoch 00026: val_loss did not improve\n",
      "Epoch 00027: val_loss did not improve\n",
      "Epoch 00028: val_loss improved from 0.03865 to 0.03826, saving model to regr4-chkpt.h5\n",
      "Epoch 00029: val_loss did not improve\n",
      "Epoch 00030: val_loss did not improve\n",
      "Epoch 00031: val_loss did not improve\n",
      "Epoch 00032: val_loss did not improve\n",
      "Epoch 00033: val_loss did not improve\n",
      "Epoch 00034: val_loss did not improve\n",
      "Epoch 00035: val_loss did not improve\n",
      "Epoch 00036: val_loss did not improve\n",
      "Epoch 00037: val_loss did not improve\n",
      "Epoch 00038: val_loss did not improve\n",
      "Epoch 00039: val_loss did not improve\n",
      "Epoch 00040: val_loss improved from 0.03826 to 0.03752, saving model to regr4-chkpt.h5\n",
      "Epoch 00041: val_loss did not improve\n",
      "Epoch 00042: val_loss did not improve\n",
      "Epoch 00043: val_loss did not improve\n",
      "Epoch 00044: val_loss did not improve\n",
      "Epoch 00045: val_loss did not improve\n",
      "Epoch 00046: val_loss did not improve\n",
      "Epoch 00047: val_loss did not improve\n",
      "Epoch 00048: val_loss did not improve\n",
      "Epoch 00049: val_loss did not improve\n",
      "Epoch 00050: val_loss did not improve\n",
      "Epoch 00051: val_loss improved from 0.03752 to 0.03682, saving model to regr4-chkpt.h5\n",
      "Epoch 00052: val_loss did not improve\n",
      "Epoch 00053: val_loss did not improve\n",
      "Epoch 00054: val_loss did not improve\n",
      "Epoch 00055: val_loss did not improve\n",
      "Epoch 00056: val_loss did not improve\n",
      "Epoch 00057: val_loss did not improve\n",
      "Epoch 00058: val_loss did not improve\n",
      "Epoch 00059: val_loss did not improve\n",
      "Epoch 00060: val_loss did not improve\n",
      "Epoch 00061: val_loss did not improve\n",
      "Epoch 00062: val_loss did not improve\n",
      "Epoch 00063: val_loss did not improve\n",
      "Epoch 00064: val_loss did not improve\n",
      "Epoch 00065: val_loss did not improve\n",
      "Epoch 00066: val_loss did not improve\n",
      "Epoch 00067: val_loss improved from 0.03682 to 0.03682, saving model to regr4-chkpt.h5\n",
      "Epoch 00068: val_loss did not improve\n",
      "Epoch 00069: val_loss did not improve\n",
      "Epoch 00070: val_loss did not improve\n",
      "Epoch 00071: val_loss did not improve\n",
      "Epoch 00072: val_loss did not improve\n",
      "Epoch 00073: val_loss did not improve\n",
      "Epoch 00074: val_loss did not improve\n",
      "Epoch 00075: val_loss did not improve\n",
      "Epoch 00076: val_loss did not improve\n",
      "Epoch 00077: val_loss did not improve\n",
      "Epoch 00078: val_loss did not improve\n",
      "Epoch 00079: val_loss did not improve\n",
      "Epoch 00080: val_loss did not improve\n",
      "Epoch 00081: val_loss did not improve\n",
      "Epoch 00082: val_loss did not improve\n",
      "Epoch 00083: val_loss did not improve\n",
      "Epoch 00084: val_loss did not improve\n",
      "Epoch 00085: val_loss did not improve\n",
      "Epoch 00086: val_loss did not improve\n",
      "Epoch 00087: val_loss did not improve\n",
      "Epoch 00088: val_loss did not improve\n",
      "Epoch 00088: early stopping\n"
     ]
    }
   ],
   "source": [
    "try:\n",
    "    model.fit(train_data / 75000, \n",
    "              np.concatenate(\n",
    "                (phi_A[:n_train] / abs(phi_A[:n_train]).max(),\n",
    "                theta_A[:n_train] / abs(theta_A[:n_train]).max(),\n",
    "                d['x0'][:n_train] / abs(d['x0'][:n_train]).max(),\n",
    "                d['y0'][:n_train] / abs(d['y0'][:n_train]).max()),\n",
    "                axis=-1),\n",
    "              callbacks=[\n",
    "                  EarlyStopping(verbose=True, patience=20, monitor='val_loss'),\n",
    "                  ModelCheckpoint('regr4-chkpt.h5',\n",
    "                    monitor='val_loss', verbose=True, save_best_only=True)\n",
    "              ],\n",
    "              verbose=False, validation_split=0.3, batch_size=128, epochs=100)\n",
    "except KeyboardInterrupt:\n",
    "    print 'ending early'  "
   ]
  },
  {
   "cell_type": "code",
   "execution_count": 190,
   "metadata": {
    "collapsed": true
   },
   "outputs": [],
   "source": [
    "model.load_weights('regr4-chkpt.h5')"
   ]
  },
  {
   "cell_type": "code",
   "execution_count": 191,
   "metadata": {
    "collapsed": true
   },
   "outputs": [],
   "source": [
    "phihat = model.predict(test_data / 75000)"
   ]
  },
  {
   "cell_type": "code",
   "execution_count": 192,
   "metadata": {
    "collapsed": true
   },
   "outputs": [],
   "source": [
    "phihat[:, 0] *= abs(phi_A[:n_train]).max()\n",
    "phihat[:, 1] *= abs(theta_A[:n_train]).max()\n",
    "phihat[:, 2] *= abs(d['x0'][:n_train]).max()\n",
    "phihat[:, 3] *= abs(d['x0'][:n_train]).max()"
   ]
  },
  {
   "cell_type": "code",
   "execution_count": 193,
   "metadata": {},
   "outputs": [
    {
     "data": {
      "text/plain": [
       "<matplotlib.text.Text at 0x7f3acfffea50>"
      ]
     },
     "execution_count": 193,
     "metadata": {},
     "output_type": "execute_result"
    },
    {
     "data": {
      "image/png": "[encoded data removed]",
      "text/plain": [
       "<matplotlib.figure.Figure at 0x7f3acfd25e50>"
      ]
     },
     "metadata": {},
     "output_type": "display_data"
    }
   ],
   "source": [
    "plt.figure(figsize=(10,10))\n",
    "_ = plt.hist2d(phi_A[n_train:].ravel(), phihat[:, 0].ravel(),\n",
    "               bins=np.linspace(phi_A.min(), phi_A.max(), 20))\n",
    "plt.xlabel(r'True $\\phi_A$')\n",
    "plt.ylabel(r'Predicted $\\phi_A$')"
   ]
  },
  {
   "cell_type": "code",
   "execution_count": 194,
   "metadata": {},
   "outputs": [
    {
     "data": {
      "text/plain": [
       "<matplotlib.text.Text at 0x7f3acfdc3610>"
      ]
     },
     "execution_count": 194,
     "metadata": {},
     "output_type": "execute_result"
    },
    {
     "data": {
      "image/png": "[encoded data removed]",
      "text/plain": [
       "<matplotlib.figure.Figure at 0x7f3acfe4b410>"
      ]
     },
     "metadata": {},
     "output_type": "display_data"
    }
   ],
   "source": [
    "plt.figure(figsize=(10,10))\n",
    "_ = plt.hist2d(theta_A[n_train:].ravel(), phihat[:, 1].ravel(),\n",
    "               bins=np.linspace(theta_A.min(), theta_A.max(), 20))\n",
    "plt.xlabel(r'True $\\theta_A$')\n",
    "plt.ylabel(r'Predicted $\\theta_A$')"
   ]
  },
  {
   "cell_type": "code",
   "execution_count": 195,
   "metadata": {},
   "outputs": [
    {
     "data": {
      "text/plain": [
       "<matplotlib.text.Text at 0x7f3acfb60510>"
      ]
     },
     "execution_count": 195,
     "metadata": {},
     "output_type": "execute_result"
    },
    {
     "data": {
      "image/png": "[encoded data removed]",
      "text/plain": [
       "<matplotlib.figure.Figure at 0x7f3acfd25810>"
      ]
     },
     "metadata": {},
     "output_type": "display_data"
    }
   ],
   "source": [
    "plt.figure(figsize=(10,10))\n",
    "_ = plt.hist2d(d['x0'][n_train:].ravel(), phihat[:, 2].ravel(),\n",
    "               bins=np.linspace(d['x0'][n_train:].min(), d['x0'][n_train:].max(), 20))\n",
    "plt.xlabel(r'True $x_0$')\n",
    "plt.ylabel(r'Predicted $x_0$')"
   ]
  },
  {
   "cell_type": "code",
   "execution_count": 196,
   "metadata": {},
   "outputs": [
    {
     "data": {
      "text/plain": [
       "<matplotlib.text.Text at 0x7f3acfaf6210>"
      ]
     },
     "execution_count": 196,
     "metadata": {},
     "output_type": "execute_result"
    },
    {
     "data": {
      "image/png": "[encoded data removed]",
      "text/plain": [
       "<matplotlib.figure.Figure at 0x7f3acfb2c550>"
      ]
     },
     "metadata": {},
     "output_type": "display_data"
    }
   ],
   "source": [
    "plt.figure(figsize=(10,10))\n",
    "_ = plt.hist2d(d['y0'][n_train:].ravel(), phihat[:, 3].ravel(),\n",
    "               bins=np.linspace(d['y0'][n_train:].min(), d['y0'][n_train:].max(), 20))\n",
    "plt.xlabel(r'True $y_0$')\n",
    "plt.ylabel(r'Predicted $y_0$')"
   ]
  },
  {
   "cell_type": "code",
   "execution_count": null,
   "metadata": {
    "collapsed": true
   },
   "outputs": [],
   "source": []
  }
 ],
 "metadata": {
  "kernelspec": {
   "display_name": "Python 2",
   "language": "python",
   "name": "python2"
  },
  "language_info": {
   "codemirror_mode": {
    "name": "ipython",
    "version": 2
   },
   "file_extension": ".py",
   "mimetype": "text/x-python",
   "name": "python",
   "nbconvert_exporter": "python",
   "pygments_lexer": "ipython2",
   "version": "2.7.12"
  },
  "latex_envs": {
   "bibliofile": "biblio.bib",
   "cite_by": "apalike",
   "current_citInitial": 1,
   "eqLabelWithNumbers": true,
   "eqNumInitial": 0
  }
 },
 "nbformat": 4,
 "nbformat_minor": 2
}
